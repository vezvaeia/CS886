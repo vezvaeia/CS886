{
  "nbformat": 4,
  "nbformat_minor": 0,
  "metadata": {
    "colab": {
      "name": "DataPreparationForTFT2.ipynb",
      "provenance": [],
      "collapsed_sections": [],
      "toc_visible": true,
      "mount_file_id": "1vVvl9U37X3MBxCj1Umtd5HqjMQ_WZl36",
      "authorship_tag": "ABX9TyMlG4a15IRhxOB3OrxfL8Lc",
      "include_colab_link": true
    },
    "kernelspec": {
      "name": "python3",
      "display_name": "Python 3"
    },
    "language_info": {
      "name": "python"
    },
    "widgets": {
      "application/vnd.jupyter.widget-state+json": {
        "84f6690b65644532b2dfaf714ee3410d": {
          "model_module": "@jupyter-widgets/controls",
          "model_name": "HBoxModel",
          "state": {
            "_view_name": "HBoxView",
            "_dom_classes": [],
            "_model_name": "HBoxModel",
            "_view_module": "@jupyter-widgets/controls",
            "_model_module_version": "1.5.0",
            "_view_count": null,
            "_view_module_version": "1.5.0",
            "box_style": "",
            "layout": "IPY_MODEL_e6480c18dd3d4e338a8e47c707a53bdf",
            "_model_module": "@jupyter-widgets/controls",
            "children": [
              "IPY_MODEL_b10de9a0aa95474389ad77a6daa97fec",
              "IPY_MODEL_3bf356279a4841ab91b01a1a777bdc73"
            ]
          }
        },
        "e6480c18dd3d4e338a8e47c707a53bdf": {
          "model_module": "@jupyter-widgets/base",
          "model_name": "LayoutModel",
          "state": {
            "_view_name": "LayoutView",
            "grid_template_rows": null,
            "right": null,
            "justify_content": null,
            "_view_module": "@jupyter-widgets/base",
            "overflow": null,
            "_model_module_version": "1.2.0",
            "_view_count": null,
            "flex_flow": null,
            "width": null,
            "min_width": null,
            "border": null,
            "align_items": null,
            "bottom": null,
            "_model_module": "@jupyter-widgets/base",
            "top": null,
            "grid_column": null,
            "overflow_y": null,
            "overflow_x": null,
            "grid_auto_flow": null,
            "grid_area": null,
            "grid_template_columns": null,
            "flex": null,
            "_model_name": "LayoutModel",
            "justify_items": null,
            "grid_row": null,
            "max_height": null,
            "align_content": null,
            "visibility": null,
            "align_self": null,
            "height": null,
            "min_height": null,
            "padding": null,
            "grid_auto_rows": null,
            "grid_gap": null,
            "max_width": null,
            "order": null,
            "_view_module_version": "1.2.0",
            "grid_template_areas": null,
            "object_position": null,
            "object_fit": null,
            "grid_auto_columns": null,
            "margin": null,
            "display": null,
            "left": null
          }
        },
        "b10de9a0aa95474389ad77a6daa97fec": {
          "model_module": "@jupyter-widgets/controls",
          "model_name": "FloatProgressModel",
          "state": {
            "_view_name": "ProgressView",
            "style": "IPY_MODEL_10c7254983dd406580e9415fd5da2075",
            "_dom_classes": [],
            "description": "Downloading: 100%",
            "_model_name": "FloatProgressModel",
            "bar_style": "success",
            "max": 898825,
            "_view_module": "@jupyter-widgets/controls",
            "_model_module_version": "1.5.0",
            "value": 898825,
            "_view_count": null,
            "_view_module_version": "1.5.0",
            "orientation": "horizontal",
            "min": 0,
            "description_tooltip": null,
            "_model_module": "@jupyter-widgets/controls",
            "layout": "IPY_MODEL_9676268ec9934ba3a28d22bf5472e0a9"
          }
        },
        "3bf356279a4841ab91b01a1a777bdc73": {
          "model_module": "@jupyter-widgets/controls",
          "model_name": "HTMLModel",
          "state": {
            "_view_name": "HTMLView",
            "style": "IPY_MODEL_73a214d0acec439abbe170a8c760963d",
            "_dom_classes": [],
            "description": "",
            "_model_name": "HTMLModel",
            "placeholder": "​",
            "_view_module": "@jupyter-widgets/controls",
            "_model_module_version": "1.5.0",
            "value": " 899k/899k [00:00&lt;00:00, 2.61MB/s]",
            "_view_count": null,
            "_view_module_version": "1.5.0",
            "description_tooltip": null,
            "_model_module": "@jupyter-widgets/controls",
            "layout": "IPY_MODEL_be94a2e329e0442c8d18e663a70809e6"
          }
        },
        "10c7254983dd406580e9415fd5da2075": {
          "model_module": "@jupyter-widgets/controls",
          "model_name": "ProgressStyleModel",
          "state": {
            "_view_name": "StyleView",
            "_model_name": "ProgressStyleModel",
            "description_width": "initial",
            "_view_module": "@jupyter-widgets/base",
            "_model_module_version": "1.5.0",
            "_view_count": null,
            "_view_module_version": "1.2.0",
            "bar_color": null,
            "_model_module": "@jupyter-widgets/controls"
          }
        },
        "9676268ec9934ba3a28d22bf5472e0a9": {
          "model_module": "@jupyter-widgets/base",
          "model_name": "LayoutModel",
          "state": {
            "_view_name": "LayoutView",
            "grid_template_rows": null,
            "right": null,
            "justify_content": null,
            "_view_module": "@jupyter-widgets/base",
            "overflow": null,
            "_model_module_version": "1.2.0",
            "_view_count": null,
            "flex_flow": null,
            "width": null,
            "min_width": null,
            "border": null,
            "align_items": null,
            "bottom": null,
            "_model_module": "@jupyter-widgets/base",
            "top": null,
            "grid_column": null,
            "overflow_y": null,
            "overflow_x": null,
            "grid_auto_flow": null,
            "grid_area": null,
            "grid_template_columns": null,
            "flex": null,
            "_model_name": "LayoutModel",
            "justify_items": null,
            "grid_row": null,
            "max_height": null,
            "align_content": null,
            "visibility": null,
            "align_self": null,
            "height": null,
            "min_height": null,
            "padding": null,
            "grid_auto_rows": null,
            "grid_gap": null,
            "max_width": null,
            "order": null,
            "_view_module_version": "1.2.0",
            "grid_template_areas": null,
            "object_position": null,
            "object_fit": null,
            "grid_auto_columns": null,
            "margin": null,
            "display": null,
            "left": null
          }
        },
        "73a214d0acec439abbe170a8c760963d": {
          "model_module": "@jupyter-widgets/controls",
          "model_name": "DescriptionStyleModel",
          "state": {
            "_view_name": "StyleView",
            "_model_name": "DescriptionStyleModel",
            "description_width": "",
            "_view_module": "@jupyter-widgets/base",
            "_model_module_version": "1.5.0",
            "_view_count": null,
            "_view_module_version": "1.2.0",
            "_model_module": "@jupyter-widgets/controls"
          }
        },
        "be94a2e329e0442c8d18e663a70809e6": {
          "model_module": "@jupyter-widgets/base",
          "model_name": "LayoutModel",
          "state": {
            "_view_name": "LayoutView",
            "grid_template_rows": null,
            "right": null,
            "justify_content": null,
            "_view_module": "@jupyter-widgets/base",
            "overflow": null,
            "_model_module_version": "1.2.0",
            "_view_count": null,
            "flex_flow": null,
            "width": null,
            "min_width": null,
            "border": null,
            "align_items": null,
            "bottom": null,
            "_model_module": "@jupyter-widgets/base",
            "top": null,
            "grid_column": null,
            "overflow_y": null,
            "overflow_x": null,
            "grid_auto_flow": null,
            "grid_area": null,
            "grid_template_columns": null,
            "flex": null,
            "_model_name": "LayoutModel",
            "justify_items": null,
            "grid_row": null,
            "max_height": null,
            "align_content": null,
            "visibility": null,
            "align_self": null,
            "height": null,
            "min_height": null,
            "padding": null,
            "grid_auto_rows": null,
            "grid_gap": null,
            "max_width": null,
            "order": null,
            "_view_module_version": "1.2.0",
            "grid_template_areas": null,
            "object_position": null,
            "object_fit": null,
            "grid_auto_columns": null,
            "margin": null,
            "display": null,
            "left": null
          }
        },
        "daff40ccdf8f4ca78f082c1b42c06bb6": {
          "model_module": "@jupyter-widgets/controls",
          "model_name": "HBoxModel",
          "state": {
            "_view_name": "HBoxView",
            "_dom_classes": [],
            "_model_name": "HBoxModel",
            "_view_module": "@jupyter-widgets/controls",
            "_model_module_version": "1.5.0",
            "_view_count": null,
            "_view_module_version": "1.5.0",
            "box_style": "",
            "layout": "IPY_MODEL_e8b950c6c64d496080c5042ea62be2a4",
            "_model_module": "@jupyter-widgets/controls",
            "children": [
              "IPY_MODEL_22ef390f414f4c338c93cb895e54018b",
              "IPY_MODEL_1facacc7f25f410db0732350440e6f6c"
            ]
          }
        },
        "e8b950c6c64d496080c5042ea62be2a4": {
          "model_module": "@jupyter-widgets/base",
          "model_name": "LayoutModel",
          "state": {
            "_view_name": "LayoutView",
            "grid_template_rows": null,
            "right": null,
            "justify_content": null,
            "_view_module": "@jupyter-widgets/base",
            "overflow": null,
            "_model_module_version": "1.2.0",
            "_view_count": null,
            "flex_flow": null,
            "width": null,
            "min_width": null,
            "border": null,
            "align_items": null,
            "bottom": null,
            "_model_module": "@jupyter-widgets/base",
            "top": null,
            "grid_column": null,
            "overflow_y": null,
            "overflow_x": null,
            "grid_auto_flow": null,
            "grid_area": null,
            "grid_template_columns": null,
            "flex": null,
            "_model_name": "LayoutModel",
            "justify_items": null,
            "grid_row": null,
            "max_height": null,
            "align_content": null,
            "visibility": null,
            "align_self": null,
            "height": null,
            "min_height": null,
            "padding": null,
            "grid_auto_rows": null,
            "grid_gap": null,
            "max_width": null,
            "order": null,
            "_view_module_version": "1.2.0",
            "grid_template_areas": null,
            "object_position": null,
            "object_fit": null,
            "grid_auto_columns": null,
            "margin": null,
            "display": null,
            "left": null
          }
        },
        "22ef390f414f4c338c93cb895e54018b": {
          "model_module": "@jupyter-widgets/controls",
          "model_name": "FloatProgressModel",
          "state": {
            "_view_name": "ProgressView",
            "style": "IPY_MODEL_e275550e878c412dbfd342e22898d1cf",
            "_dom_classes": [],
            "description": "Downloading: 100%",
            "_model_name": "FloatProgressModel",
            "bar_style": "success",
            "max": 456318,
            "_view_module": "@jupyter-widgets/controls",
            "_model_module_version": "1.5.0",
            "value": 456318,
            "_view_count": null,
            "_view_module_version": "1.5.0",
            "orientation": "horizontal",
            "min": 0,
            "description_tooltip": null,
            "_model_module": "@jupyter-widgets/controls",
            "layout": "IPY_MODEL_d85c6d2afefe4c9d8e6c44689811eb8e"
          }
        },
        "1facacc7f25f410db0732350440e6f6c": {
          "model_module": "@jupyter-widgets/controls",
          "model_name": "HTMLModel",
          "state": {
            "_view_name": "HTMLView",
            "style": "IPY_MODEL_786b12a61ebd415284af56f2c221716b",
            "_dom_classes": [],
            "description": "",
            "_model_name": "HTMLModel",
            "placeholder": "​",
            "_view_module": "@jupyter-widgets/controls",
            "_model_module_version": "1.5.0",
            "value": " 456k/456k [00:00&lt;00:00, 6.26MB/s]",
            "_view_count": null,
            "_view_module_version": "1.5.0",
            "description_tooltip": null,
            "_model_module": "@jupyter-widgets/controls",
            "layout": "IPY_MODEL_c06593bc1bf546348f59fc311d023170"
          }
        },
        "e275550e878c412dbfd342e22898d1cf": {
          "model_module": "@jupyter-widgets/controls",
          "model_name": "ProgressStyleModel",
          "state": {
            "_view_name": "StyleView",
            "_model_name": "ProgressStyleModel",
            "description_width": "initial",
            "_view_module": "@jupyter-widgets/base",
            "_model_module_version": "1.5.0",
            "_view_count": null,
            "_view_module_version": "1.2.0",
            "bar_color": null,
            "_model_module": "@jupyter-widgets/controls"
          }
        },
        "d85c6d2afefe4c9d8e6c44689811eb8e": {
          "model_module": "@jupyter-widgets/base",
          "model_name": "LayoutModel",
          "state": {
            "_view_name": "LayoutView",
            "grid_template_rows": null,
            "right": null,
            "justify_content": null,
            "_view_module": "@jupyter-widgets/base",
            "overflow": null,
            "_model_module_version": "1.2.0",
            "_view_count": null,
            "flex_flow": null,
            "width": null,
            "min_width": null,
            "border": null,
            "align_items": null,
            "bottom": null,
            "_model_module": "@jupyter-widgets/base",
            "top": null,
            "grid_column": null,
            "overflow_y": null,
            "overflow_x": null,
            "grid_auto_flow": null,
            "grid_area": null,
            "grid_template_columns": null,
            "flex": null,
            "_model_name": "LayoutModel",
            "justify_items": null,
            "grid_row": null,
            "max_height": null,
            "align_content": null,
            "visibility": null,
            "align_self": null,
            "height": null,
            "min_height": null,
            "padding": null,
            "grid_auto_rows": null,
            "grid_gap": null,
            "max_width": null,
            "order": null,
            "_view_module_version": "1.2.0",
            "grid_template_areas": null,
            "object_position": null,
            "object_fit": null,
            "grid_auto_columns": null,
            "margin": null,
            "display": null,
            "left": null
          }
        },
        "786b12a61ebd415284af56f2c221716b": {
          "model_module": "@jupyter-widgets/controls",
          "model_name": "DescriptionStyleModel",
          "state": {
            "_view_name": "StyleView",
            "_model_name": "DescriptionStyleModel",
            "description_width": "",
            "_view_module": "@jupyter-widgets/base",
            "_model_module_version": "1.5.0",
            "_view_count": null,
            "_view_module_version": "1.2.0",
            "_model_module": "@jupyter-widgets/controls"
          }
        },
        "c06593bc1bf546348f59fc311d023170": {
          "model_module": "@jupyter-widgets/base",
          "model_name": "LayoutModel",
          "state": {
            "_view_name": "LayoutView",
            "grid_template_rows": null,
            "right": null,
            "justify_content": null,
            "_view_module": "@jupyter-widgets/base",
            "overflow": null,
            "_model_module_version": "1.2.0",
            "_view_count": null,
            "flex_flow": null,
            "width": null,
            "min_width": null,
            "border": null,
            "align_items": null,
            "bottom": null,
            "_model_module": "@jupyter-widgets/base",
            "top": null,
            "grid_column": null,
            "overflow_y": null,
            "overflow_x": null,
            "grid_auto_flow": null,
            "grid_area": null,
            "grid_template_columns": null,
            "flex": null,
            "_model_name": "LayoutModel",
            "justify_items": null,
            "grid_row": null,
            "max_height": null,
            "align_content": null,
            "visibility": null,
            "align_self": null,
            "height": null,
            "min_height": null,
            "padding": null,
            "grid_auto_rows": null,
            "grid_gap": null,
            "max_width": null,
            "order": null,
            "_view_module_version": "1.2.0",
            "grid_template_areas": null,
            "object_position": null,
            "object_fit": null,
            "grid_auto_columns": null,
            "margin": null,
            "display": null,
            "left": null
          }
        },
        "0be441701ef44640a5525a516660534d": {
          "model_module": "@jupyter-widgets/controls",
          "model_name": "HBoxModel",
          "state": {
            "_view_name": "HBoxView",
            "_dom_classes": [],
            "_model_name": "HBoxModel",
            "_view_module": "@jupyter-widgets/controls",
            "_model_module_version": "1.5.0",
            "_view_count": null,
            "_view_module_version": "1.5.0",
            "box_style": "",
            "layout": "IPY_MODEL_cc3e2019aba14752a97216bdbafd9ed8",
            "_model_module": "@jupyter-widgets/controls",
            "children": [
              "IPY_MODEL_a6b9701068a746e9a2da98f46849cf88",
              "IPY_MODEL_87d4b6a3ddf84e4ba110f70e1efcc090"
            ]
          }
        },
        "cc3e2019aba14752a97216bdbafd9ed8": {
          "model_module": "@jupyter-widgets/base",
          "model_name": "LayoutModel",
          "state": {
            "_view_name": "LayoutView",
            "grid_template_rows": null,
            "right": null,
            "justify_content": null,
            "_view_module": "@jupyter-widgets/base",
            "overflow": null,
            "_model_module_version": "1.2.0",
            "_view_count": null,
            "flex_flow": null,
            "width": null,
            "min_width": null,
            "border": null,
            "align_items": null,
            "bottom": null,
            "_model_module": "@jupyter-widgets/base",
            "top": null,
            "grid_column": null,
            "overflow_y": null,
            "overflow_x": null,
            "grid_auto_flow": null,
            "grid_area": null,
            "grid_template_columns": null,
            "flex": null,
            "_model_name": "LayoutModel",
            "justify_items": null,
            "grid_row": null,
            "max_height": null,
            "align_content": null,
            "visibility": null,
            "align_self": null,
            "height": null,
            "min_height": null,
            "padding": null,
            "grid_auto_rows": null,
            "grid_gap": null,
            "max_width": null,
            "order": null,
            "_view_module_version": "1.2.0",
            "grid_template_areas": null,
            "object_position": null,
            "object_fit": null,
            "grid_auto_columns": null,
            "margin": null,
            "display": null,
            "left": null
          }
        },
        "a6b9701068a746e9a2da98f46849cf88": {
          "model_module": "@jupyter-widgets/controls",
          "model_name": "FloatProgressModel",
          "state": {
            "_view_name": "ProgressView",
            "style": "IPY_MODEL_299b5912ff424f6780da3e4e6391cdb0",
            "_dom_classes": [],
            "description": "Downloading: 100%",
            "_model_name": "FloatProgressModel",
            "bar_style": "success",
            "max": 52,
            "_view_module": "@jupyter-widgets/controls",
            "_model_module_version": "1.5.0",
            "value": 52,
            "_view_count": null,
            "_view_module_version": "1.5.0",
            "orientation": "horizontal",
            "min": 0,
            "description_tooltip": null,
            "_model_module": "@jupyter-widgets/controls",
            "layout": "IPY_MODEL_7e94be69a9e2466a9c48c3abfa56dc07"
          }
        },
        "87d4b6a3ddf84e4ba110f70e1efcc090": {
          "model_module": "@jupyter-widgets/controls",
          "model_name": "HTMLModel",
          "state": {
            "_view_name": "HTMLView",
            "style": "IPY_MODEL_93e622e0ccff4741b1037922c86186d1",
            "_dom_classes": [],
            "description": "",
            "_model_name": "HTMLModel",
            "placeholder": "​",
            "_view_module": "@jupyter-widgets/controls",
            "_model_module_version": "1.5.0",
            "value": " 52.0/52.0 [00:00&lt;00:00, 457B/s]",
            "_view_count": null,
            "_view_module_version": "1.5.0",
            "description_tooltip": null,
            "_model_module": "@jupyter-widgets/controls",
            "layout": "IPY_MODEL_44b149cff1d440d0abe4e6f779323b8a"
          }
        },
        "299b5912ff424f6780da3e4e6391cdb0": {
          "model_module": "@jupyter-widgets/controls",
          "model_name": "ProgressStyleModel",
          "state": {
            "_view_name": "StyleView",
            "_model_name": "ProgressStyleModel",
            "description_width": "initial",
            "_view_module": "@jupyter-widgets/base",
            "_model_module_version": "1.5.0",
            "_view_count": null,
            "_view_module_version": "1.2.0",
            "bar_color": null,
            "_model_module": "@jupyter-widgets/controls"
          }
        },
        "7e94be69a9e2466a9c48c3abfa56dc07": {
          "model_module": "@jupyter-widgets/base",
          "model_name": "LayoutModel",
          "state": {
            "_view_name": "LayoutView",
            "grid_template_rows": null,
            "right": null,
            "justify_content": null,
            "_view_module": "@jupyter-widgets/base",
            "overflow": null,
            "_model_module_version": "1.2.0",
            "_view_count": null,
            "flex_flow": null,
            "width": null,
            "min_width": null,
            "border": null,
            "align_items": null,
            "bottom": null,
            "_model_module": "@jupyter-widgets/base",
            "top": null,
            "grid_column": null,
            "overflow_y": null,
            "overflow_x": null,
            "grid_auto_flow": null,
            "grid_area": null,
            "grid_template_columns": null,
            "flex": null,
            "_model_name": "LayoutModel",
            "justify_items": null,
            "grid_row": null,
            "max_height": null,
            "align_content": null,
            "visibility": null,
            "align_self": null,
            "height": null,
            "min_height": null,
            "padding": null,
            "grid_auto_rows": null,
            "grid_gap": null,
            "max_width": null,
            "order": null,
            "_view_module_version": "1.2.0",
            "grid_template_areas": null,
            "object_position": null,
            "object_fit": null,
            "grid_auto_columns": null,
            "margin": null,
            "display": null,
            "left": null
          }
        },
        "93e622e0ccff4741b1037922c86186d1": {
          "model_module": "@jupyter-widgets/controls",
          "model_name": "DescriptionStyleModel",
          "state": {
            "_view_name": "StyleView",
            "_model_name": "DescriptionStyleModel",
            "description_width": "",
            "_view_module": "@jupyter-widgets/base",
            "_model_module_version": "1.5.0",
            "_view_count": null,
            "_view_module_version": "1.2.0",
            "_model_module": "@jupyter-widgets/controls"
          }
        },
        "44b149cff1d440d0abe4e6f779323b8a": {
          "model_module": "@jupyter-widgets/base",
          "model_name": "LayoutModel",
          "state": {
            "_view_name": "LayoutView",
            "grid_template_rows": null,
            "right": null,
            "justify_content": null,
            "_view_module": "@jupyter-widgets/base",
            "overflow": null,
            "_model_module_version": "1.2.0",
            "_view_count": null,
            "flex_flow": null,
            "width": null,
            "min_width": null,
            "border": null,
            "align_items": null,
            "bottom": null,
            "_model_module": "@jupyter-widgets/base",
            "top": null,
            "grid_column": null,
            "overflow_y": null,
            "overflow_x": null,
            "grid_auto_flow": null,
            "grid_area": null,
            "grid_template_columns": null,
            "flex": null,
            "_model_name": "LayoutModel",
            "justify_items": null,
            "grid_row": null,
            "max_height": null,
            "align_content": null,
            "visibility": null,
            "align_self": null,
            "height": null,
            "min_height": null,
            "padding": null,
            "grid_auto_rows": null,
            "grid_gap": null,
            "max_width": null,
            "order": null,
            "_view_module_version": "1.2.0",
            "grid_template_areas": null,
            "object_position": null,
            "object_fit": null,
            "grid_auto_columns": null,
            "margin": null,
            "display": null,
            "left": null
          }
        },
        "e81f0d4f12ea4777be2f9682edd05d2a": {
          "model_module": "@jupyter-widgets/controls",
          "model_name": "HBoxModel",
          "state": {
            "_view_name": "HBoxView",
            "_dom_classes": [],
            "_model_name": "HBoxModel",
            "_view_module": "@jupyter-widgets/controls",
            "_model_module_version": "1.5.0",
            "_view_count": null,
            "_view_module_version": "1.5.0",
            "box_style": "",
            "layout": "IPY_MODEL_51514d3934aa441a8355795189084708",
            "_model_module": "@jupyter-widgets/controls",
            "children": [
              "IPY_MODEL_22d9bea4b8f24b6faf01d39154fc65e0",
              "IPY_MODEL_7c0065f14caf4216821d151ebf459dad"
            ]
          }
        },
        "51514d3934aa441a8355795189084708": {
          "model_module": "@jupyter-widgets/base",
          "model_name": "LayoutModel",
          "state": {
            "_view_name": "LayoutView",
            "grid_template_rows": null,
            "right": null,
            "justify_content": null,
            "_view_module": "@jupyter-widgets/base",
            "overflow": null,
            "_model_module_version": "1.2.0",
            "_view_count": null,
            "flex_flow": null,
            "width": null,
            "min_width": null,
            "border": null,
            "align_items": null,
            "bottom": null,
            "_model_module": "@jupyter-widgets/base",
            "top": null,
            "grid_column": null,
            "overflow_y": null,
            "overflow_x": null,
            "grid_auto_flow": null,
            "grid_area": null,
            "grid_template_columns": null,
            "flex": null,
            "_model_name": "LayoutModel",
            "justify_items": null,
            "grid_row": null,
            "max_height": null,
            "align_content": null,
            "visibility": null,
            "align_self": null,
            "height": null,
            "min_height": null,
            "padding": null,
            "grid_auto_rows": null,
            "grid_gap": null,
            "max_width": null,
            "order": null,
            "_view_module_version": "1.2.0",
            "grid_template_areas": null,
            "object_position": null,
            "object_fit": null,
            "grid_auto_columns": null,
            "margin": null,
            "display": null,
            "left": null
          }
        },
        "22d9bea4b8f24b6faf01d39154fc65e0": {
          "model_module": "@jupyter-widgets/controls",
          "model_name": "FloatProgressModel",
          "state": {
            "_view_name": "ProgressView",
            "style": "IPY_MODEL_2fa8a0d50d30416591c95691fd5b1546",
            "_dom_classes": [],
            "description": "Downloading: 100%",
            "_model_name": "FloatProgressModel",
            "bar_style": "success",
            "max": 474,
            "_view_module": "@jupyter-widgets/controls",
            "_model_module_version": "1.5.0",
            "value": 474,
            "_view_count": null,
            "_view_module_version": "1.5.0",
            "orientation": "horizontal",
            "min": 0,
            "description_tooltip": null,
            "_model_module": "@jupyter-widgets/controls",
            "layout": "IPY_MODEL_a9ee8d4958ad421cb188c4f803028f00"
          }
        },
        "7c0065f14caf4216821d151ebf459dad": {
          "model_module": "@jupyter-widgets/controls",
          "model_name": "HTMLModel",
          "state": {
            "_view_name": "HTMLView",
            "style": "IPY_MODEL_b1e1af25118b4466a270f508ab3b2194",
            "_dom_classes": [],
            "description": "",
            "_model_name": "HTMLModel",
            "placeholder": "​",
            "_view_module": "@jupyter-widgets/controls",
            "_model_module_version": "1.5.0",
            "value": " 474/474 [00:12&lt;00:00, 37.3B/s]",
            "_view_count": null,
            "_view_module_version": "1.5.0",
            "description_tooltip": null,
            "_model_module": "@jupyter-widgets/controls",
            "layout": "IPY_MODEL_44432dee6c6a4ab3af25a73a29ae4592"
          }
        },
        "2fa8a0d50d30416591c95691fd5b1546": {
          "model_module": "@jupyter-widgets/controls",
          "model_name": "ProgressStyleModel",
          "state": {
            "_view_name": "StyleView",
            "_model_name": "ProgressStyleModel",
            "description_width": "initial",
            "_view_module": "@jupyter-widgets/base",
            "_model_module_version": "1.5.0",
            "_view_count": null,
            "_view_module_version": "1.2.0",
            "bar_color": null,
            "_model_module": "@jupyter-widgets/controls"
          }
        },
        "a9ee8d4958ad421cb188c4f803028f00": {
          "model_module": "@jupyter-widgets/base",
          "model_name": "LayoutModel",
          "state": {
            "_view_name": "LayoutView",
            "grid_template_rows": null,
            "right": null,
            "justify_content": null,
            "_view_module": "@jupyter-widgets/base",
            "overflow": null,
            "_model_module_version": "1.2.0",
            "_view_count": null,
            "flex_flow": null,
            "width": null,
            "min_width": null,
            "border": null,
            "align_items": null,
            "bottom": null,
            "_model_module": "@jupyter-widgets/base",
            "top": null,
            "grid_column": null,
            "overflow_y": null,
            "overflow_x": null,
            "grid_auto_flow": null,
            "grid_area": null,
            "grid_template_columns": null,
            "flex": null,
            "_model_name": "LayoutModel",
            "justify_items": null,
            "grid_row": null,
            "max_height": null,
            "align_content": null,
            "visibility": null,
            "align_self": null,
            "height": null,
            "min_height": null,
            "padding": null,
            "grid_auto_rows": null,
            "grid_gap": null,
            "max_width": null,
            "order": null,
            "_view_module_version": "1.2.0",
            "grid_template_areas": null,
            "object_position": null,
            "object_fit": null,
            "grid_auto_columns": null,
            "margin": null,
            "display": null,
            "left": null
          }
        },
        "b1e1af25118b4466a270f508ab3b2194": {
          "model_module": "@jupyter-widgets/controls",
          "model_name": "DescriptionStyleModel",
          "state": {
            "_view_name": "StyleView",
            "_model_name": "DescriptionStyleModel",
            "description_width": "",
            "_view_module": "@jupyter-widgets/base",
            "_model_module_version": "1.5.0",
            "_view_count": null,
            "_view_module_version": "1.2.0",
            "_model_module": "@jupyter-widgets/controls"
          }
        },
        "44432dee6c6a4ab3af25a73a29ae4592": {
          "model_module": "@jupyter-widgets/base",
          "model_name": "LayoutModel",
          "state": {
            "_view_name": "LayoutView",
            "grid_template_rows": null,
            "right": null,
            "justify_content": null,
            "_view_module": "@jupyter-widgets/base",
            "overflow": null,
            "_model_module_version": "1.2.0",
            "_view_count": null,
            "flex_flow": null,
            "width": null,
            "min_width": null,
            "border": null,
            "align_items": null,
            "bottom": null,
            "_model_module": "@jupyter-widgets/base",
            "top": null,
            "grid_column": null,
            "overflow_y": null,
            "overflow_x": null,
            "grid_auto_flow": null,
            "grid_area": null,
            "grid_template_columns": null,
            "flex": null,
            "_model_name": "LayoutModel",
            "justify_items": null,
            "grid_row": null,
            "max_height": null,
            "align_content": null,
            "visibility": null,
            "align_self": null,
            "height": null,
            "min_height": null,
            "padding": null,
            "grid_auto_rows": null,
            "grid_gap": null,
            "max_width": null,
            "order": null,
            "_view_module_version": "1.2.0",
            "grid_template_areas": null,
            "object_position": null,
            "object_fit": null,
            "grid_auto_columns": null,
            "margin": null,
            "display": null,
            "left": null
          }
        },
        "abbbfd7ab9514b4eb0bea643343b503a": {
          "model_module": "@jupyter-widgets/controls",
          "model_name": "HBoxModel",
          "state": {
            "_view_name": "HBoxView",
            "_dom_classes": [],
            "_model_name": "HBoxModel",
            "_view_module": "@jupyter-widgets/controls",
            "_model_module_version": "1.5.0",
            "_view_count": null,
            "_view_module_version": "1.5.0",
            "box_style": "",
            "layout": "IPY_MODEL_299f23177afd4e369260e8c127462f86",
            "_model_module": "@jupyter-widgets/controls",
            "children": [
              "IPY_MODEL_a7f822139c124fdd8f7cd77527990388",
              "IPY_MODEL_d0bbd7296f264f4f9ca15f75b2916464"
            ]
          }
        },
        "299f23177afd4e369260e8c127462f86": {
          "model_module": "@jupyter-widgets/base",
          "model_name": "LayoutModel",
          "state": {
            "_view_name": "LayoutView",
            "grid_template_rows": null,
            "right": null,
            "justify_content": null,
            "_view_module": "@jupyter-widgets/base",
            "overflow": null,
            "_model_module_version": "1.2.0",
            "_view_count": null,
            "flex_flow": null,
            "width": null,
            "min_width": null,
            "border": null,
            "align_items": null,
            "bottom": null,
            "_model_module": "@jupyter-widgets/base",
            "top": null,
            "grid_column": null,
            "overflow_y": null,
            "overflow_x": null,
            "grid_auto_flow": null,
            "grid_area": null,
            "grid_template_columns": null,
            "flex": null,
            "_model_name": "LayoutModel",
            "justify_items": null,
            "grid_row": null,
            "max_height": null,
            "align_content": null,
            "visibility": null,
            "align_self": null,
            "height": null,
            "min_height": null,
            "padding": null,
            "grid_auto_rows": null,
            "grid_gap": null,
            "max_width": null,
            "order": null,
            "_view_module_version": "1.2.0",
            "grid_template_areas": null,
            "object_position": null,
            "object_fit": null,
            "grid_auto_columns": null,
            "margin": null,
            "display": null,
            "left": null
          }
        },
        "a7f822139c124fdd8f7cd77527990388": {
          "model_module": "@jupyter-widgets/controls",
          "model_name": "FloatProgressModel",
          "state": {
            "_view_name": "ProgressView",
            "style": "IPY_MODEL_c56d8607f15744bc878d0d48db5f7a38",
            "_dom_classes": [],
            "description": "Downloading: 100%",
            "_model_name": "FloatProgressModel",
            "bar_style": "success",
            "max": 558582766,
            "_view_module": "@jupyter-widgets/controls",
            "_model_module_version": "1.5.0",
            "value": 558582766,
            "_view_count": null,
            "_view_module_version": "1.5.0",
            "orientation": "horizontal",
            "min": 0,
            "description_tooltip": null,
            "_model_module": "@jupyter-widgets/controls",
            "layout": "IPY_MODEL_c1059fe4567e4440b0860338a73a93a7"
          }
        },
        "d0bbd7296f264f4f9ca15f75b2916464": {
          "model_module": "@jupyter-widgets/controls",
          "model_name": "HTMLModel",
          "state": {
            "_view_name": "HTMLView",
            "style": "IPY_MODEL_675ea336a8044f4483a85adf4a6271ad",
            "_dom_classes": [],
            "description": "",
            "_model_name": "HTMLModel",
            "placeholder": "​",
            "_view_module": "@jupyter-widgets/controls",
            "_model_module_version": "1.5.0",
            "value": " 559M/559M [00:10&lt;00:00, 52.4MB/s]",
            "_view_count": null,
            "_view_module_version": "1.5.0",
            "description_tooltip": null,
            "_model_module": "@jupyter-widgets/controls",
            "layout": "IPY_MODEL_56c18bb9e9034042a9363f890d22d42d"
          }
        },
        "c56d8607f15744bc878d0d48db5f7a38": {
          "model_module": "@jupyter-widgets/controls",
          "model_name": "ProgressStyleModel",
          "state": {
            "_view_name": "StyleView",
            "_model_name": "ProgressStyleModel",
            "description_width": "initial",
            "_view_module": "@jupyter-widgets/base",
            "_model_module_version": "1.5.0",
            "_view_count": null,
            "_view_module_version": "1.2.0",
            "bar_color": null,
            "_model_module": "@jupyter-widgets/controls"
          }
        },
        "c1059fe4567e4440b0860338a73a93a7": {
          "model_module": "@jupyter-widgets/base",
          "model_name": "LayoutModel",
          "state": {
            "_view_name": "LayoutView",
            "grid_template_rows": null,
            "right": null,
            "justify_content": null,
            "_view_module": "@jupyter-widgets/base",
            "overflow": null,
            "_model_module_version": "1.2.0",
            "_view_count": null,
            "flex_flow": null,
            "width": null,
            "min_width": null,
            "border": null,
            "align_items": null,
            "bottom": null,
            "_model_module": "@jupyter-widgets/base",
            "top": null,
            "grid_column": null,
            "overflow_y": null,
            "overflow_x": null,
            "grid_auto_flow": null,
            "grid_area": null,
            "grid_template_columns": null,
            "flex": null,
            "_model_name": "LayoutModel",
            "justify_items": null,
            "grid_row": null,
            "max_height": null,
            "align_content": null,
            "visibility": null,
            "align_self": null,
            "height": null,
            "min_height": null,
            "padding": null,
            "grid_auto_rows": null,
            "grid_gap": null,
            "max_width": null,
            "order": null,
            "_view_module_version": "1.2.0",
            "grid_template_areas": null,
            "object_position": null,
            "object_fit": null,
            "grid_auto_columns": null,
            "margin": null,
            "display": null,
            "left": null
          }
        },
        "675ea336a8044f4483a85adf4a6271ad": {
          "model_module": "@jupyter-widgets/controls",
          "model_name": "DescriptionStyleModel",
          "state": {
            "_view_name": "StyleView",
            "_model_name": "DescriptionStyleModel",
            "description_width": "",
            "_view_module": "@jupyter-widgets/base",
            "_model_module_version": "1.5.0",
            "_view_count": null,
            "_view_module_version": "1.2.0",
            "_model_module": "@jupyter-widgets/controls"
          }
        },
        "56c18bb9e9034042a9363f890d22d42d": {
          "model_module": "@jupyter-widgets/base",
          "model_name": "LayoutModel",
          "state": {
            "_view_name": "LayoutView",
            "grid_template_rows": null,
            "right": null,
            "justify_content": null,
            "_view_module": "@jupyter-widgets/base",
            "overflow": null,
            "_model_module_version": "1.2.0",
            "_view_count": null,
            "flex_flow": null,
            "width": null,
            "min_width": null,
            "border": null,
            "align_items": null,
            "bottom": null,
            "_model_module": "@jupyter-widgets/base",
            "top": null,
            "grid_column": null,
            "overflow_y": null,
            "overflow_x": null,
            "grid_auto_flow": null,
            "grid_area": null,
            "grid_template_columns": null,
            "flex": null,
            "_model_name": "LayoutModel",
            "justify_items": null,
            "grid_row": null,
            "max_height": null,
            "align_content": null,
            "visibility": null,
            "align_self": null,
            "height": null,
            "min_height": null,
            "padding": null,
            "grid_auto_rows": null,
            "grid_gap": null,
            "max_width": null,
            "order": null,
            "_view_module_version": "1.2.0",
            "grid_template_areas": null,
            "object_position": null,
            "object_fit": null,
            "grid_auto_columns": null,
            "margin": null,
            "display": null,
            "left": null
          }
        }
      }
    }
  },
  "cells": [
    {
      "cell_type": "markdown",
      "metadata": {
        "id": "view-in-github",
        "colab_type": "text"
      },
      "source": [
        "<a href=\"https://colab.research.google.com/github/vezvaeia/CS886/blob/master/DataPreparationForTFT2.ipynb\" target=\"_parent\"><img src=\"https://colab.research.google.com/assets/colab-badge.svg\" alt=\"Open In Colab\"/></a>"
      ]
    },
    {
      "cell_type": "markdown",
      "metadata": {
        "id": "hbEqmVApz_64"
      },
      "source": [
        "# 1. Install and Import libraries and define parameters"
      ]
    },
    {
      "cell_type": "markdown",
      "metadata": {
        "id": "_nYK2n3Y0Ei9"
      },
      "source": [
        "### Install & Import Libraries"
      ]
    },
    {
      "cell_type": "code",
      "metadata": {
        "colab": {
          "base_uri": "https://localhost:8080/"
        },
        "id": "GwUDsD-40hk0",
        "outputId": "32975f53-f8fb-4d0d-b5b4-c9f4e13b9810"
      },
      "source": [
        "!pip install transformers\n",
        "!pip install pytorch-forecasting\n",
        "!pip install pytorch_lightning"
      ],
      "execution_count": null,
      "outputs": [
        {
          "output_type": "stream",
          "text": [
            "Collecting transformers\n",
            "\u001b[?25l  Downloading https://files.pythonhosted.org/packages/d8/b2/57495b5309f09fa501866e225c84532d1fd89536ea62406b2181933fb418/transformers-4.5.1-py3-none-any.whl (2.1MB)\n",
            "\u001b[K     |████████████████████████████████| 2.1MB 19.3MB/s \n",
            "\u001b[?25hCollecting tokenizers<0.11,>=0.10.1\n",
            "\u001b[?25l  Downloading https://files.pythonhosted.org/packages/ae/04/5b870f26a858552025a62f1649c20d29d2672c02ff3c3fb4c688ca46467a/tokenizers-0.10.2-cp37-cp37m-manylinux2010_x86_64.whl (3.3MB)\n",
            "\u001b[K     |████████████████████████████████| 3.3MB 47.2MB/s \n",
            "\u001b[?25hRequirement already satisfied: importlib-metadata; python_version < \"3.8\" in /usr/local/lib/python3.7/dist-packages (from transformers) (3.10.1)\n",
            "Requirement already satisfied: requests in /usr/local/lib/python3.7/dist-packages (from transformers) (2.23.0)\n",
            "Requirement already satisfied: regex!=2019.12.17 in /usr/local/lib/python3.7/dist-packages (from transformers) (2019.12.20)\n",
            "Requirement already satisfied: filelock in /usr/local/lib/python3.7/dist-packages (from transformers) (3.0.12)\n",
            "Requirement already satisfied: packaging in /usr/local/lib/python3.7/dist-packages (from transformers) (20.9)\n",
            "Collecting sacremoses\n",
            "\u001b[?25l  Downloading https://files.pythonhosted.org/packages/75/ee/67241dc87f266093c533a2d4d3d69438e57d7a90abb216fa076e7d475d4a/sacremoses-0.0.45-py3-none-any.whl (895kB)\n",
            "\u001b[K     |████████████████████████████████| 901kB 55.2MB/s \n",
            "\u001b[?25hRequirement already satisfied: tqdm>=4.27 in /usr/local/lib/python3.7/dist-packages (from transformers) (4.41.1)\n",
            "Requirement already satisfied: numpy>=1.17 in /usr/local/lib/python3.7/dist-packages (from transformers) (1.19.5)\n",
            "Requirement already satisfied: typing-extensions>=3.6.4; python_version < \"3.8\" in /usr/local/lib/python3.7/dist-packages (from importlib-metadata; python_version < \"3.8\"->transformers) (3.7.4.3)\n",
            "Requirement already satisfied: zipp>=0.5 in /usr/local/lib/python3.7/dist-packages (from importlib-metadata; python_version < \"3.8\"->transformers) (3.4.1)\n",
            "Requirement already satisfied: idna<3,>=2.5 in /usr/local/lib/python3.7/dist-packages (from requests->transformers) (2.10)\n",
            "Requirement already satisfied: urllib3!=1.25.0,!=1.25.1,<1.26,>=1.21.1 in /usr/local/lib/python3.7/dist-packages (from requests->transformers) (1.24.3)\n",
            "Requirement already satisfied: certifi>=2017.4.17 in /usr/local/lib/python3.7/dist-packages (from requests->transformers) (2020.12.5)\n",
            "Requirement already satisfied: chardet<4,>=3.0.2 in /usr/local/lib/python3.7/dist-packages (from requests->transformers) (3.0.4)\n",
            "Requirement already satisfied: pyparsing>=2.0.2 in /usr/local/lib/python3.7/dist-packages (from packaging->transformers) (2.4.7)\n",
            "Requirement already satisfied: six in /usr/local/lib/python3.7/dist-packages (from sacremoses->transformers) (1.15.0)\n",
            "Requirement already satisfied: click in /usr/local/lib/python3.7/dist-packages (from sacremoses->transformers) (7.1.2)\n",
            "Requirement already satisfied: joblib in /usr/local/lib/python3.7/dist-packages (from sacremoses->transformers) (1.0.1)\n",
            "Installing collected packages: tokenizers, sacremoses, transformers\n",
            "Successfully installed sacremoses-0.0.45 tokenizers-0.10.2 transformers-4.5.1\n",
            "Collecting pytorch-forecasting\n",
            "\u001b[?25l  Downloading https://files.pythonhosted.org/packages/7f/56/446f7c2d4d68ef08234441bf6b67f4e6b6a19409e763ca07d75ccaf6f5e5/pytorch_forecasting-0.8.4-py3-none-any.whl (105kB)\n",
            "\u001b[K     |████████████████████████████████| 112kB 19.1MB/s \n",
            "\u001b[?25hRequirement already satisfied: torch<2.0,>=1.7 in /usr/local/lib/python3.7/dist-packages (from pytorch-forecasting) (1.8.1+cu101)\n",
            "Requirement already satisfied: pandas<2.0.0,>=1.1.0 in /usr/local/lib/python3.7/dist-packages (from pytorch-forecasting) (1.1.5)\n",
            "Requirement already satisfied: matplotlib in /usr/local/lib/python3.7/dist-packages (from pytorch-forecasting) (3.2.2)\n",
            "Collecting optuna<3.0.0,>=2.3.0\n",
            "\u001b[?25l  Downloading https://files.pythonhosted.org/packages/2b/21/d13081805e1e1afc71f5bb743ece324c8bd576237c51b899ecb38a717502/optuna-2.7.0-py3-none-any.whl (293kB)\n",
            "\u001b[K     |████████████████████████████████| 296kB 34.9MB/s \n",
            "\u001b[?25hCollecting pytorch-lightning<2.0.0,>=1.0.4\n",
            "\u001b[?25l  Downloading https://files.pythonhosted.org/packages/c4/99/68da5c6ca999de560036d98c492e507d17996f5eeb7e76ba64acd4bbb142/pytorch_lightning-1.2.8-py3-none-any.whl (841kB)\n",
            "\u001b[K     |████████████████████████████████| 849kB 55.4MB/s \n",
            "\u001b[?25hCollecting scikit-learn<0.25,>=0.23\n",
            "\u001b[?25l  Downloading https://files.pythonhosted.org/packages/f3/74/eb899f41d55f957e2591cde5528e75871f817d9fb46d4732423ecaca736d/scikit_learn-0.24.1-cp37-cp37m-manylinux2010_x86_64.whl (22.3MB)\n",
            "\u001b[K     |████████████████████████████████| 22.3MB 1.3MB/s \n",
            "\u001b[?25hRequirement already satisfied: scipy in /usr/local/lib/python3.7/dist-packages (from pytorch-forecasting) (1.4.1)\n",
            "Requirement already satisfied: statsmodels in /usr/local/lib/python3.7/dist-packages (from pytorch-forecasting) (0.10.2)\n",
            "Collecting fsspec<0.9.0,>=0.8.5\n",
            "\u001b[?25l  Downloading https://files.pythonhosted.org/packages/91/0d/a6bfee0ddf47b254286b9bd574e6f50978c69897647ae15b14230711806e/fsspec-0.8.7-py3-none-any.whl (103kB)\n",
            "\u001b[K     |████████████████████████████████| 112kB 60.0MB/s \n",
            "\u001b[?25hRequirement already satisfied: numpy in /usr/local/lib/python3.7/dist-packages (from torch<2.0,>=1.7->pytorch-forecasting) (1.19.5)\n",
            "Requirement already satisfied: typing-extensions in /usr/local/lib/python3.7/dist-packages (from torch<2.0,>=1.7->pytorch-forecasting) (3.7.4.3)\n",
            "Requirement already satisfied: python-dateutil>=2.7.3 in /usr/local/lib/python3.7/dist-packages (from pandas<2.0.0,>=1.1.0->pytorch-forecasting) (2.8.1)\n",
            "Requirement already satisfied: pytz>=2017.2 in /usr/local/lib/python3.7/dist-packages (from pandas<2.0.0,>=1.1.0->pytorch-forecasting) (2018.9)\n",
            "Requirement already satisfied: cycler>=0.10 in /usr/local/lib/python3.7/dist-packages (from matplotlib->pytorch-forecasting) (0.10.0)\n",
            "Requirement already satisfied: kiwisolver>=1.0.1 in /usr/local/lib/python3.7/dist-packages (from matplotlib->pytorch-forecasting) (1.3.1)\n",
            "Requirement already satisfied: pyparsing!=2.0.4,!=2.1.2,!=2.1.6,>=2.0.1 in /usr/local/lib/python3.7/dist-packages (from matplotlib->pytorch-forecasting) (2.4.7)\n",
            "Collecting cliff\n",
            "\u001b[?25l  Downloading https://files.pythonhosted.org/packages/a2/d6/7d9acb68a77acd140be7fececb7f2701b2a29d2da9c54184cb8f93509590/cliff-3.7.0-py3-none-any.whl (80kB)\n",
            "\u001b[K     |████████████████████████████████| 81kB 12.3MB/s \n",
            "\u001b[?25hRequirement already satisfied: packaging>=20.0 in /usr/local/lib/python3.7/dist-packages (from optuna<3.0.0,>=2.3.0->pytorch-forecasting) (20.9)\n",
            "Requirement already satisfied: tqdm in /usr/local/lib/python3.7/dist-packages (from optuna<3.0.0,>=2.3.0->pytorch-forecasting) (4.41.1)\n",
            "Collecting cmaes>=0.8.2\n",
            "  Downloading https://files.pythonhosted.org/packages/01/1f/43b01223a0366171f474320c6e966c39a11587287f098a5f09809b45e05f/cmaes-0.8.2-py3-none-any.whl\n",
            "Collecting alembic\n",
            "\u001b[?25l  Downloading https://files.pythonhosted.org/packages/72/a4/97eb6273839655cac14947986fa7a5935350fcfd4fff872e9654264c82d8/alembic-1.5.8-py2.py3-none-any.whl (159kB)\n",
            "\u001b[K     |████████████████████████████████| 163kB 61.3MB/s \n",
            "\u001b[?25hRequirement already satisfied: sqlalchemy>=1.1.0 in /usr/local/lib/python3.7/dist-packages (from optuna<3.0.0,>=2.3.0->pytorch-forecasting) (1.4.7)\n",
            "Collecting colorlog\n",
            "  Downloading https://files.pythonhosted.org/packages/32/e6/e9ddc6fa1104fda718338b341e4b3dc31cd8039ab29e52fc73b508515361/colorlog-5.0.1-py2.py3-none-any.whl\n",
            "Requirement already satisfied: tensorboard>=2.2.0 in /usr/local/lib/python3.7/dist-packages (from pytorch-lightning<2.0.0,>=1.0.4->pytorch-forecasting) (2.4.1)\n",
            "Collecting future>=0.17.1\n",
            "\u001b[?25l  Downloading https://files.pythonhosted.org/packages/45/0b/38b06fd9b92dc2b68d58b75f900e97884c45bedd2ff83203d933cf5851c9/future-0.18.2.tar.gz (829kB)\n",
            "\u001b[K     |████████████████████████████████| 829kB 55.7MB/s \n",
            "\u001b[?25hCollecting torchmetrics>=0.2.0\n",
            "\u001b[?25l  Downloading https://files.pythonhosted.org/packages/8c/79/e0e5bd38def3b53cf7abf7cf94c90b5d64248892f153c20a0c7d337b927c/torchmetrics-0.3.0-py3-none-any.whl (270kB)\n",
            "\u001b[K     |████████████████████████████████| 276kB 53.2MB/s \n",
            "\u001b[?25hCollecting PyYAML!=5.4.*,>=5.1\n",
            "\u001b[?25l  Downloading https://files.pythonhosted.org/packages/64/c2/b80047c7ac2478f9501676c988a5411ed5572f35d1beff9cae07d321512c/PyYAML-5.3.1.tar.gz (269kB)\n",
            "\u001b[K     |████████████████████████████████| 276kB 61.4MB/s \n",
            "\u001b[?25hCollecting threadpoolctl>=2.0.0\n",
            "  Downloading https://files.pythonhosted.org/packages/f7/12/ec3f2e203afa394a149911729357aa48affc59c20e2c1c8297a60f33f133/threadpoolctl-2.1.0-py3-none-any.whl\n",
            "Requirement already satisfied: joblib>=0.11 in /usr/local/lib/python3.7/dist-packages (from scikit-learn<0.25,>=0.23->pytorch-forecasting) (1.0.1)\n",
            "Requirement already satisfied: patsy>=0.4.0 in /usr/local/lib/python3.7/dist-packages (from statsmodels->pytorch-forecasting) (0.5.1)\n",
            "Requirement already satisfied: importlib-metadata; python_version < \"3.8\" in /usr/local/lib/python3.7/dist-packages (from fsspec<0.9.0,>=0.8.5->pytorch-forecasting) (3.10.1)\n",
            "Requirement already satisfied: six>=1.5 in /usr/local/lib/python3.7/dist-packages (from python-dateutil>=2.7.3->pandas<2.0.0,>=1.1.0->pytorch-forecasting) (1.15.0)\n",
            "Collecting stevedore>=2.0.1\n",
            "\u001b[?25l  Downloading https://files.pythonhosted.org/packages/d4/49/b602307aeac3df3384ff1fcd05da9c0376c622a6c48bb5325f28ab165b57/stevedore-3.3.0-py3-none-any.whl (49kB)\n",
            "\u001b[K     |████████████████████████████████| 51kB 9.0MB/s \n",
            "\u001b[?25hRequirement already satisfied: PrettyTable>=0.7.2 in /usr/local/lib/python3.7/dist-packages (from cliff->optuna<3.0.0,>=2.3.0->pytorch-forecasting) (2.1.0)\n",
            "Collecting pbr!=2.1.0,>=2.0.0\n",
            "\u001b[?25l  Downloading https://files.pythonhosted.org/packages/fb/48/69046506f6ac61c1eaa9a0d42d22d54673b69e176d30ca98e3f61513e980/pbr-5.5.1-py2.py3-none-any.whl (106kB)\n",
            "\u001b[K     |████████████████████████████████| 112kB 61.3MB/s \n",
            "\u001b[?25hCollecting cmd2>=1.0.0\n",
            "\u001b[?25l  Downloading https://files.pythonhosted.org/packages/15/8b/15061b32332bb35ea2a2f6263d0f616779d576e82739ec8e7fcf3c94abf5/cmd2-1.5.0-py3-none-any.whl (133kB)\n",
            "\u001b[K     |████████████████████████████████| 143kB 59.4MB/s \n",
            "\u001b[?25hCollecting Mako\n",
            "\u001b[?25l  Downloading https://files.pythonhosted.org/packages/f3/54/dbc07fbb20865d3b78fdb7cf7fa713e2cba4f87f71100074ef2dc9f9d1f7/Mako-1.1.4-py2.py3-none-any.whl (75kB)\n",
            "\u001b[K     |████████████████████████████████| 81kB 12.3MB/s \n",
            "\u001b[?25hCollecting python-editor>=0.3\n",
            "  Downloading https://files.pythonhosted.org/packages/c6/d3/201fc3abe391bbae6606e6f1d598c15d367033332bd54352b12f35513717/python_editor-1.0.4-py3-none-any.whl\n",
            "Requirement already satisfied: greenlet!=0.4.17; python_version >= \"3\" in /usr/local/lib/python3.7/dist-packages (from sqlalchemy>=1.1.0->optuna<3.0.0,>=2.3.0->pytorch-forecasting) (1.0.0)\n",
            "Requirement already satisfied: google-auth-oauthlib<0.5,>=0.4.1 in /usr/local/lib/python3.7/dist-packages (from tensorboard>=2.2.0->pytorch-lightning<2.0.0,>=1.0.4->pytorch-forecasting) (0.4.4)\n",
            "Requirement already satisfied: setuptools>=41.0.0 in /usr/local/lib/python3.7/dist-packages (from tensorboard>=2.2.0->pytorch-lightning<2.0.0,>=1.0.4->pytorch-forecasting) (54.2.0)\n",
            "Requirement already satisfied: requests<3,>=2.21.0 in /usr/local/lib/python3.7/dist-packages (from tensorboard>=2.2.0->pytorch-lightning<2.0.0,>=1.0.4->pytorch-forecasting) (2.23.0)\n",
            "Requirement already satisfied: markdown>=2.6.8 in /usr/local/lib/python3.7/dist-packages (from tensorboard>=2.2.0->pytorch-lightning<2.0.0,>=1.0.4->pytorch-forecasting) (3.3.4)\n",
            "Requirement already satisfied: absl-py>=0.4 in /usr/local/lib/python3.7/dist-packages (from tensorboard>=2.2.0->pytorch-lightning<2.0.0,>=1.0.4->pytorch-forecasting) (0.12.0)\n",
            "Requirement already satisfied: protobuf>=3.6.0 in /usr/local/lib/python3.7/dist-packages (from tensorboard>=2.2.0->pytorch-lightning<2.0.0,>=1.0.4->pytorch-forecasting) (3.12.4)\n",
            "Requirement already satisfied: werkzeug>=0.11.15 in /usr/local/lib/python3.7/dist-packages (from tensorboard>=2.2.0->pytorch-lightning<2.0.0,>=1.0.4->pytorch-forecasting) (1.0.1)\n",
            "Requirement already satisfied: google-auth<2,>=1.6.3 in /usr/local/lib/python3.7/dist-packages (from tensorboard>=2.2.0->pytorch-lightning<2.0.0,>=1.0.4->pytorch-forecasting) (1.28.1)\n",
            "Requirement already satisfied: tensorboard-plugin-wit>=1.6.0 in /usr/local/lib/python3.7/dist-packages (from tensorboard>=2.2.0->pytorch-lightning<2.0.0,>=1.0.4->pytorch-forecasting) (1.8.0)\n",
            "Requirement already satisfied: wheel>=0.26; python_version >= \"3\" in /usr/local/lib/python3.7/dist-packages (from tensorboard>=2.2.0->pytorch-lightning<2.0.0,>=1.0.4->pytorch-forecasting) (0.36.2)\n",
            "Requirement already satisfied: grpcio>=1.24.3 in /usr/local/lib/python3.7/dist-packages (from tensorboard>=2.2.0->pytorch-lightning<2.0.0,>=1.0.4->pytorch-forecasting) (1.32.0)\n",
            "Requirement already satisfied: zipp>=0.5 in /usr/local/lib/python3.7/dist-packages (from importlib-metadata; python_version < \"3.8\"->fsspec<0.9.0,>=0.8.5->pytorch-forecasting) (3.4.1)\n",
            "Requirement already satisfied: wcwidth in /usr/local/lib/python3.7/dist-packages (from PrettyTable>=0.7.2->cliff->optuna<3.0.0,>=2.3.0->pytorch-forecasting) (0.2.5)\n",
            "Requirement already satisfied: attrs>=16.3.0 in /usr/local/lib/python3.7/dist-packages (from cmd2>=1.0.0->cliff->optuna<3.0.0,>=2.3.0->pytorch-forecasting) (20.3.0)\n",
            "Collecting colorama>=0.3.7\n",
            "  Downloading https://files.pythonhosted.org/packages/44/98/5b86278fbbf250d239ae0ecb724f8572af1c91f4a11edf4d36a206189440/colorama-0.4.4-py2.py3-none-any.whl\n",
            "Collecting pyperclip>=1.6\n",
            "  Downloading https://files.pythonhosted.org/packages/a7/2c/4c64579f847bd5d539803c8b909e54ba087a79d01bb3aba433a95879a6c5/pyperclip-1.8.2.tar.gz\n",
            "Requirement already satisfied: MarkupSafe>=0.9.2 in /usr/local/lib/python3.7/dist-packages (from Mako->alembic->optuna<3.0.0,>=2.3.0->pytorch-forecasting) (1.1.1)\n",
            "Requirement already satisfied: requests-oauthlib>=0.7.0 in /usr/local/lib/python3.7/dist-packages (from google-auth-oauthlib<0.5,>=0.4.1->tensorboard>=2.2.0->pytorch-lightning<2.0.0,>=1.0.4->pytorch-forecasting) (1.3.0)\n",
            "Requirement already satisfied: urllib3!=1.25.0,!=1.25.1,<1.26,>=1.21.1 in /usr/local/lib/python3.7/dist-packages (from requests<3,>=2.21.0->tensorboard>=2.2.0->pytorch-lightning<2.0.0,>=1.0.4->pytorch-forecasting) (1.24.3)\n",
            "Requirement already satisfied: chardet<4,>=3.0.2 in /usr/local/lib/python3.7/dist-packages (from requests<3,>=2.21.0->tensorboard>=2.2.0->pytorch-lightning<2.0.0,>=1.0.4->pytorch-forecasting) (3.0.4)\n",
            "Requirement already satisfied: certifi>=2017.4.17 in /usr/local/lib/python3.7/dist-packages (from requests<3,>=2.21.0->tensorboard>=2.2.0->pytorch-lightning<2.0.0,>=1.0.4->pytorch-forecasting) (2020.12.5)\n",
            "Requirement already satisfied: idna<3,>=2.5 in /usr/local/lib/python3.7/dist-packages (from requests<3,>=2.21.0->tensorboard>=2.2.0->pytorch-lightning<2.0.0,>=1.0.4->pytorch-forecasting) (2.10)\n",
            "Requirement already satisfied: pyasn1-modules>=0.2.1 in /usr/local/lib/python3.7/dist-packages (from google-auth<2,>=1.6.3->tensorboard>=2.2.0->pytorch-lightning<2.0.0,>=1.0.4->pytorch-forecasting) (0.2.8)\n",
            "Requirement already satisfied: cachetools<5.0,>=2.0.0 in /usr/local/lib/python3.7/dist-packages (from google-auth<2,>=1.6.3->tensorboard>=2.2.0->pytorch-lightning<2.0.0,>=1.0.4->pytorch-forecasting) (4.2.1)\n",
            "Requirement already satisfied: rsa<5,>=3.1.4; python_version >= \"3.6\" in /usr/local/lib/python3.7/dist-packages (from google-auth<2,>=1.6.3->tensorboard>=2.2.0->pytorch-lightning<2.0.0,>=1.0.4->pytorch-forecasting) (4.7.2)\n",
            "Requirement already satisfied: oauthlib>=3.0.0 in /usr/local/lib/python3.7/dist-packages (from requests-oauthlib>=0.7.0->google-auth-oauthlib<0.5,>=0.4.1->tensorboard>=2.2.0->pytorch-lightning<2.0.0,>=1.0.4->pytorch-forecasting) (3.1.0)\n",
            "Requirement already satisfied: pyasn1<0.5.0,>=0.4.6 in /usr/local/lib/python3.7/dist-packages (from pyasn1-modules>=0.2.1->google-auth<2,>=1.6.3->tensorboard>=2.2.0->pytorch-lightning<2.0.0,>=1.0.4->pytorch-forecasting) (0.4.8)\n",
            "Building wheels for collected packages: future, PyYAML, pyperclip\n",
            "  Building wheel for future (setup.py) ... \u001b[?25l\u001b[?25hdone\n",
            "  Created wheel for future: filename=future-0.18.2-cp37-none-any.whl size=491058 sha256=81776d3c06fb1811b93fe15a5ce31b71280ea40adb0220075c449a21f7a5e07c\n",
            "  Stored in directory: /root/.cache/pip/wheels/8b/99/a0/81daf51dcd359a9377b110a8a886b3895921802d2fc1b2397e\n",
            "  Building wheel for PyYAML (setup.py) ... \u001b[?25l\u001b[?25hdone\n",
            "  Created wheel for PyYAML: filename=PyYAML-5.3.1-cp37-cp37m-linux_x86_64.whl size=44620 sha256=1d77ebd1071b5a6744b27e895443f074be184ef66d4bdc8fc0ee19d808f8abc0\n",
            "  Stored in directory: /root/.cache/pip/wheels/a7/c1/ea/cf5bd31012e735dc1dfea3131a2d5eae7978b251083d6247bd\n",
            "  Building wheel for pyperclip (setup.py) ... \u001b[?25l\u001b[?25hdone\n",
            "  Created wheel for pyperclip: filename=pyperclip-1.8.2-cp37-none-any.whl size=11107 sha256=ef344edcf77fce07e3135eb1b0791d9e100c2d719f3936ee6cc52ac7ce00580a\n",
            "  Stored in directory: /root/.cache/pip/wheels/25/af/b8/3407109267803f4015e1ee2ff23be0c8c19ce4008665931ee1\n",
            "Successfully built future PyYAML pyperclip\n",
            "Installing collected packages: pbr, stevedore, colorama, pyperclip, cmd2, PyYAML, cliff, cmaes, Mako, python-editor, alembic, colorlog, optuna, future, torchmetrics, fsspec, pytorch-lightning, threadpoolctl, scikit-learn, pytorch-forecasting\n",
            "  Found existing installation: PyYAML 3.13\n",
            "    Uninstalling PyYAML-3.13:\n",
            "      Successfully uninstalled PyYAML-3.13\n",
            "  Found existing installation: future 0.16.0\n",
            "    Uninstalling future-0.16.0:\n",
            "      Successfully uninstalled future-0.16.0\n",
            "  Found existing installation: scikit-learn 0.22.2.post1\n",
            "    Uninstalling scikit-learn-0.22.2.post1:\n",
            "      Successfully uninstalled scikit-learn-0.22.2.post1\n",
            "Successfully installed Mako-1.1.4 PyYAML-5.3.1 alembic-1.5.8 cliff-3.7.0 cmaes-0.8.2 cmd2-1.5.0 colorama-0.4.4 colorlog-5.0.1 fsspec-0.8.7 future-0.18.2 optuna-2.7.0 pbr-5.5.1 pyperclip-1.8.2 python-editor-1.0.4 pytorch-forecasting-0.8.4 pytorch-lightning-1.2.8 scikit-learn-0.24.1 stevedore-3.3.0 threadpoolctl-2.1.0 torchmetrics-0.3.0\n",
            "Requirement already satisfied: pytorch_lightning in /usr/local/lib/python3.7/dist-packages (1.2.8)\n",
            "Requirement already satisfied: fsspec[http]>=0.8.1 in /usr/local/lib/python3.7/dist-packages (from pytorch_lightning) (0.8.7)\n",
            "Requirement already satisfied: torch>=1.4 in /usr/local/lib/python3.7/dist-packages (from pytorch_lightning) (1.8.1+cu101)\n",
            "Requirement already satisfied: torchmetrics>=0.2.0 in /usr/local/lib/python3.7/dist-packages (from pytorch_lightning) (0.3.0)\n",
            "Requirement already satisfied: tqdm>=4.41.0 in /usr/local/lib/python3.7/dist-packages (from pytorch_lightning) (4.41.1)\n",
            "Requirement already satisfied: tensorboard>=2.2.0 in /usr/local/lib/python3.7/dist-packages (from pytorch_lightning) (2.4.1)\n",
            "Requirement already satisfied: numpy>=1.16.6 in /usr/local/lib/python3.7/dist-packages (from pytorch_lightning) (1.19.5)\n",
            "Requirement already satisfied: PyYAML!=5.4.*,>=5.1 in /usr/local/lib/python3.7/dist-packages (from pytorch_lightning) (5.3.1)\n",
            "Requirement already satisfied: future>=0.17.1 in /usr/local/lib/python3.7/dist-packages (from pytorch_lightning) (0.18.2)\n",
            "Requirement already satisfied: importlib-metadata; python_version < \"3.8\" in /usr/local/lib/python3.7/dist-packages (from fsspec[http]>=0.8.1->pytorch_lightning) (3.10.1)\n",
            "Requirement already satisfied: requests; extra == \"http\" in /usr/local/lib/python3.7/dist-packages (from fsspec[http]>=0.8.1->pytorch_lightning) (2.23.0)\n",
            "Collecting aiohttp; extra == \"http\"\n",
            "\u001b[?25l  Downloading https://files.pythonhosted.org/packages/88/c0/5890b4c8b04a79b7360e8fe4490feb0bb3ab179743f199f0e6220cebd568/aiohttp-3.7.4.post0-cp37-cp37m-manylinux2014_x86_64.whl (1.3MB)\n",
            "\u001b[K     |████████████████████████████████| 1.3MB 19.2MB/s \n",
            "\u001b[?25hRequirement already satisfied: typing-extensions in /usr/local/lib/python3.7/dist-packages (from torch>=1.4->pytorch_lightning) (3.7.4.3)\n",
            "Requirement already satisfied: packaging in /usr/local/lib/python3.7/dist-packages (from torchmetrics>=0.2.0->pytorch_lightning) (20.9)\n",
            "Requirement already satisfied: grpcio>=1.24.3 in /usr/local/lib/python3.7/dist-packages (from tensorboard>=2.2.0->pytorch_lightning) (1.32.0)\n",
            "Requirement already satisfied: google-auth-oauthlib<0.5,>=0.4.1 in /usr/local/lib/python3.7/dist-packages (from tensorboard>=2.2.0->pytorch_lightning) (0.4.4)\n",
            "Requirement already satisfied: tensorboard-plugin-wit>=1.6.0 in /usr/local/lib/python3.7/dist-packages (from tensorboard>=2.2.0->pytorch_lightning) (1.8.0)\n",
            "Requirement already satisfied: wheel>=0.26; python_version >= \"3\" in /usr/local/lib/python3.7/dist-packages (from tensorboard>=2.2.0->pytorch_lightning) (0.36.2)\n",
            "Requirement already satisfied: protobuf>=3.6.0 in /usr/local/lib/python3.7/dist-packages (from tensorboard>=2.2.0->pytorch_lightning) (3.12.4)\n",
            "Requirement already satisfied: markdown>=2.6.8 in /usr/local/lib/python3.7/dist-packages (from tensorboard>=2.2.0->pytorch_lightning) (3.3.4)\n",
            "Requirement already satisfied: setuptools>=41.0.0 in /usr/local/lib/python3.7/dist-packages (from tensorboard>=2.2.0->pytorch_lightning) (54.2.0)\n",
            "Requirement already satisfied: werkzeug>=0.11.15 in /usr/local/lib/python3.7/dist-packages (from tensorboard>=2.2.0->pytorch_lightning) (1.0.1)\n",
            "Requirement already satisfied: six>=1.10.0 in /usr/local/lib/python3.7/dist-packages (from tensorboard>=2.2.0->pytorch_lightning) (1.15.0)\n",
            "Requirement already satisfied: absl-py>=0.4 in /usr/local/lib/python3.7/dist-packages (from tensorboard>=2.2.0->pytorch_lightning) (0.12.0)\n",
            "Requirement already satisfied: google-auth<2,>=1.6.3 in /usr/local/lib/python3.7/dist-packages (from tensorboard>=2.2.0->pytorch_lightning) (1.28.1)\n",
            "Requirement already satisfied: zipp>=0.5 in /usr/local/lib/python3.7/dist-packages (from importlib-metadata; python_version < \"3.8\"->fsspec[http]>=0.8.1->pytorch_lightning) (3.4.1)\n",
            "Requirement already satisfied: chardet<4,>=3.0.2 in /usr/local/lib/python3.7/dist-packages (from requests; extra == \"http\"->fsspec[http]>=0.8.1->pytorch_lightning) (3.0.4)\n",
            "Requirement already satisfied: urllib3!=1.25.0,!=1.25.1,<1.26,>=1.21.1 in /usr/local/lib/python3.7/dist-packages (from requests; extra == \"http\"->fsspec[http]>=0.8.1->pytorch_lightning) (1.24.3)\n",
            "Requirement already satisfied: certifi>=2017.4.17 in /usr/local/lib/python3.7/dist-packages (from requests; extra == \"http\"->fsspec[http]>=0.8.1->pytorch_lightning) (2020.12.5)\n",
            "Requirement already satisfied: idna<3,>=2.5 in /usr/local/lib/python3.7/dist-packages (from requests; extra == \"http\"->fsspec[http]>=0.8.1->pytorch_lightning) (2.10)\n",
            "Collecting async-timeout<4.0,>=3.0\n",
            "  Downloading https://files.pythonhosted.org/packages/e1/1e/5a4441be21b0726c4464f3f23c8b19628372f606755a9d2e46c187e65ec4/async_timeout-3.0.1-py3-none-any.whl\n",
            "Collecting multidict<7.0,>=4.5\n",
            "\u001b[?25l  Downloading https://files.pythonhosted.org/packages/7c/a6/4123b8165acbe773d1a8dc8e3f0d1edea16d29f7de018eda769abb56bd30/multidict-5.1.0-cp37-cp37m-manylinux2014_x86_64.whl (142kB)\n",
            "\u001b[K     |████████████████████████████████| 143kB 47.7MB/s \n",
            "\u001b[?25hCollecting yarl<2.0,>=1.0\n",
            "\u001b[?25l  Downloading https://files.pythonhosted.org/packages/f1/62/046834c5fc998c88ab2ef722f5d42122230a632212c8afa76418324f53ff/yarl-1.6.3-cp37-cp37m-manylinux2014_x86_64.whl (294kB)\n",
            "\u001b[K     |████████████████████████████████| 296kB 58.8MB/s \n",
            "\u001b[?25hRequirement already satisfied: attrs>=17.3.0 in /usr/local/lib/python3.7/dist-packages (from aiohttp; extra == \"http\"->fsspec[http]>=0.8.1->pytorch_lightning) (20.3.0)\n",
            "Requirement already satisfied: pyparsing>=2.0.2 in /usr/local/lib/python3.7/dist-packages (from packaging->torchmetrics>=0.2.0->pytorch_lightning) (2.4.7)\n",
            "Requirement already satisfied: requests-oauthlib>=0.7.0 in /usr/local/lib/python3.7/dist-packages (from google-auth-oauthlib<0.5,>=0.4.1->tensorboard>=2.2.0->pytorch_lightning) (1.3.0)\n",
            "Requirement already satisfied: rsa<5,>=3.1.4; python_version >= \"3.6\" in /usr/local/lib/python3.7/dist-packages (from google-auth<2,>=1.6.3->tensorboard>=2.2.0->pytorch_lightning) (4.7.2)\n",
            "Requirement already satisfied: pyasn1-modules>=0.2.1 in /usr/local/lib/python3.7/dist-packages (from google-auth<2,>=1.6.3->tensorboard>=2.2.0->pytorch_lightning) (0.2.8)\n",
            "Requirement already satisfied: cachetools<5.0,>=2.0.0 in /usr/local/lib/python3.7/dist-packages (from google-auth<2,>=1.6.3->tensorboard>=2.2.0->pytorch_lightning) (4.2.1)\n",
            "Requirement already satisfied: oauthlib>=3.0.0 in /usr/local/lib/python3.7/dist-packages (from requests-oauthlib>=0.7.0->google-auth-oauthlib<0.5,>=0.4.1->tensorboard>=2.2.0->pytorch_lightning) (3.1.0)\n",
            "Requirement already satisfied: pyasn1>=0.1.3 in /usr/local/lib/python3.7/dist-packages (from rsa<5,>=3.1.4; python_version >= \"3.6\"->google-auth<2,>=1.6.3->tensorboard>=2.2.0->pytorch_lightning) (0.4.8)\n",
            "Installing collected packages: async-timeout, multidict, yarl, aiohttp\n",
            "Successfully installed aiohttp-3.7.4.post0 async-timeout-3.0.1 multidict-5.1.0 yarl-1.6.3\n"
          ],
          "name": "stdout"
        }
      ]
    },
    {
      "cell_type": "code",
      "metadata": {
        "id": "Duysy8f6zlTc"
      },
      "source": [
        "import numpy as np\n",
        "import pandas as pd\n",
        "import torch\n",
        "import torch.nn as nn\n",
        "import torch.nn.functional as F\n",
        "import torch.optim as optim\n",
        "from torch.utils.data import TensorDataset, random_split\n",
        "from torch.utils.data import DataLoader, RandomSampler, SequentialSampler\n",
        "from torch.nn.functional import softmax\n",
        "import matplotlib.pyplot as plt\n",
        "from tqdm import tqdm\n",
        "import os\n",
        "import csv \n",
        "import random\n",
        "from transformers import BertTokenizer, RobertaTokenizer\n",
        "from transformers import BertForNextSentencePrediction, AdamW, BertConfig\n",
        "from transformers import get_linear_schedule_with_warmup\n",
        "from scipy import stats\n",
        "import time\n",
        "import datetime\n",
        "import pickle\n",
        "from sklearn.model_selection import train_test_split\n",
        "from nltk.tokenize import word_tokenize\n",
        "import gc\n",
        "import itertools\n",
        "import nltk\n",
        "import transformers\n",
        "import pytorch_lightning as pl\n",
        "from pytorch_lightning.callbacks import EarlyStopping, LearningRateMonitor\n",
        "from pytorch_forecasting import TimeSeriesDataSet, TemporalFusionTransformer\n",
        "# nltk.download('punkt')"
      ],
      "execution_count": null,
      "outputs": []
    },
    {
      "cell_type": "markdown",
      "metadata": {
        "id": "xNlHSZJN_-lR"
      },
      "source": [
        "### Setting device, random seed, and runtime parameters"
      ]
    },
    {
      "cell_type": "code",
      "metadata": {
        "colab": {
          "base_uri": "https://localhost:8080/"
        },
        "id": "h-DQtNqcAHPC",
        "outputId": "863af4c3-0149-4a6d-b7e8-9bae6a33b597"
      },
      "source": [
        "device = torch.device('cuda' if torch.cuda.is_available() else 'cpu')\n",
        "print(\"Cuda available: \",torch.cuda.is_available())\n",
        "if torch.cuda.is_available():\n",
        "    print(\"Current device: \",  torch.cuda.current_device())\n",
        "\n",
        "seed = 204920\n",
        "seed2 = 293652\n",
        "\n",
        "random.seed(seed2)\n",
        "np.random.seed(seed2)\n",
        "torch.manual_seed(seed2)\n",
        "\n",
        "if device.type == 'cuda':\n",
        "    torch.cuda.manual_seed_all(seed)"
      ],
      "execution_count": null,
      "outputs": [
        {
          "output_type": "stream",
          "text": [
            "Cuda available:  True\n",
            "Current device:  0\n"
          ],
          "name": "stdout"
        }
      ]
    },
    {
      "cell_type": "markdown",
      "metadata": {
        "id": "axiVHVrAQQib"
      },
      "source": [
        "### Setting Parameters"
      ]
    },
    {
      "cell_type": "code",
      "metadata": {
        "colab": {
          "base_uri": "https://localhost:8080/"
        },
        "id": "QxoS5ritQT2h",
        "outputId": "6a5eddc5-8aec-4ed0-f484-f037bc25ea0f"
      },
      "source": [
        "COMMENT_DIMENSIONS = 20\n",
        "first_day = datetime.datetime(2020, 1, 1)\n",
        "last_day = datetime.datetime(2021, 2, 27)\n",
        "number_of_days = (last_day - first_day).days + 1\n",
        "print('Number of days: ', number_of_days)"
      ],
      "execution_count": null,
      "outputs": [
        {
          "output_type": "stream",
          "text": [
            "Number of days:  424\n"
          ],
          "name": "stdout"
        }
      ]
    },
    {
      "cell_type": "markdown",
      "metadata": {
        "id": "sRwiF8MRC7Qm"
      },
      "source": [
        "# 2. Reading and Processing Datasets"
      ]
    },
    {
      "cell_type": "markdown",
      "metadata": {
        "id": "X354BP30GCsp"
      },
      "source": [
        "### Moving datasets to Colab "
      ]
    },
    {
      "cell_type": "code",
      "metadata": {
        "id": "DD87Mk5oF5hG"
      },
      "source": [
        "!cp  /content/drive/MyDrive/DL-project/Combined.xlsx Combined.xlsx\n",
        "!cp  /content/drive/MyDrive/DL-project/acaps_covid19_government_measures_dataset_0.xlsx acaps_covid19_government_measures_dataset_0.xlsx\n",
        "!cp /content/drive/MyDrive/DL-project/time_series_covid_19_confirmed_aggregated.csv time_series_covid_19_confirmed_aggregated.csv\n",
        "!cp /content/drive/MyDrive/DL-project/comment-embeddings.json comment-embeddings.json\n",
        "!cp /content/drive/MyDrive/DL-project/reduced-embeddings.json reduced-embeddings.json"
      ],
      "execution_count": null,
      "outputs": []
    },
    {
      "cell_type": "markdown",
      "metadata": {
        "id": "bATl96nKFkew"
      },
      "source": [
        "### Reading and processing time-series dataset"
      ]
    },
    {
      "cell_type": "code",
      "metadata": {
        "colab": {
          "base_uri": "https://localhost:8080/"
        },
        "id": "0cHr9oV6GRVq",
        "outputId": "f9b804bb-6cd1-445f-89cd-85f533658abf"
      },
      "source": [
        "time_series_country_list = []\n",
        "time_series_date_list = [0]\n",
        "time_series_confirmed_cases = {}\n",
        "\n",
        "with open('time_series_covid_19_confirmed_aggregated.csv') as csvfile:    \n",
        "    reader = csv.reader(csvfile, delimiter=',')\n",
        "    cnt = 0\n",
        "    \n",
        "    for row in reader:\n",
        "        if cnt == 0:\n",
        "            for i in range(1, len(row)):\n",
        "                datetimeObject = datetime.datetime.strptime(row[i], '%m/%d/%Y')\n",
        "                time_series_date_list.append((datetimeObject - first_day).days)\n",
        "        else:\n",
        "            country = row[0]\n",
        "            time_series_country_list.append(country)\n",
        "            time_series_confirmed_cases[country] = [0 for i in range(number_of_days)]\n",
        "\n",
        "            previous_accumulative_cases = 0\n",
        "            for i in range(1, len(row)):\n",
        "                time_series_confirmed_cases[country][time_series_date_list[i]] = int(row[i]) - previous_accumulative_cases\n",
        "                previous_accumulative_cases = int(row[i])\n",
        "\n",
        "        cnt += 1\n",
        "\n",
        "\n",
        "print('Countries: ', len(time_series_country_list), time_series_country_list)\n",
        "print('Dates: ', len(time_series_date_list), time_series_date_list)\n",
        "print('\\nConfirmed cases in China: \\n', time_series_confirmed_cases['China'])"
      ],
      "execution_count": null,
      "outputs": [
        {
          "output_type": "stream",
          "text": [
            "Countries:  201 ['Australia', 'Canada', 'China', 'Denmark', 'France', 'Netherlands', 'United Kingdom', 'Afghanistan', 'Albania', 'Algeria', 'Andorra', 'Angola', 'Antigua and Barbuda', 'Argentina', 'Armenia', 'Austria', 'Azerbaijan', 'Bahamas', 'Bahrain', 'Bangladesh', 'Barbados', 'Belarus', 'Belgium', 'Belize', 'Benin', 'Bhutan', 'Bolivia', 'Bosnia and Herzegovina', 'Botswana', 'Brazil', 'Brunei', 'Bulgaria', 'Burkina Faso', 'Burma', 'Burundi', 'Cabo Verde', 'Cambodia', 'Cameroon', 'Central African Republic', 'Chad', 'Chile', 'Colombia', 'Comoros', 'Congo (Brazzaville)', 'Congo (Kinshasa)', 'Costa Rica', \"Cote d'Ivoire\", 'Croatia', 'Cuba', 'Cyprus', 'Czechia', 'Denmark', 'Diamond Princess', 'Djibouti', 'Dominica', 'Dominican Republic', 'Ecuador', 'Egypt', 'El Salvador', 'Equatorial Guinea', 'Eritrea', 'Estonia', 'Eswatini', 'Ethiopia', 'Fiji', 'Finland', 'France', 'Gabon', 'Gambia', 'Georgia', 'Germany', 'Ghana', 'Greece', 'Grenada', 'Guatemala', 'Guinea', 'Guinea-Bissau', 'Guyana', 'Haiti', 'Holy See', 'Honduras', 'Hungary', 'Iceland', 'India', 'Indonesia', 'Iran', 'Iraq', 'Ireland', 'Israel', 'Italy', 'Jamaica', 'Japan', 'Jordan', 'Kazakhstan', 'Kenya', 'Korea, South', 'Kosovo', 'Kuwait', 'Kyrgyzstan', 'Laos', 'Latvia', 'Lebanon', 'Lesotho', 'Liberia', 'Libya', 'Liechtenstein', 'Lithuania', 'Luxembourg', 'MS Zaandam', 'Madagascar', 'Malawi', 'Malaysia', 'Maldives', 'Mali', 'Malta', 'Marshall Islands', 'Mauritania', 'Mauritius', 'Mexico', 'Micronesia', 'Moldova', 'Monaco', 'Mongolia', 'Montenegro', 'Morocco', 'Mozambique', 'Namibia', 'Nepal', 'Netherlands', 'New Zealand', 'Nicaragua', 'Niger', 'Nigeria', 'North Macedonia', 'Norway', 'Oman', 'Pakistan', 'Panama', 'Papua New Guinea', 'Paraguay', 'Peru', 'Philippines', 'Poland', 'Portugal', 'Qatar', 'Romania', 'Russia', 'Rwanda', 'Saint Kitts and Nevis', 'Saint Lucia', 'Saint Vincent and the Grenadines', 'Samoa', 'San Marino', 'Sao Tome and Principe', 'Saudi Arabia', 'Senegal', 'Serbia', 'Seychelles', 'Sierra Leone', 'Singapore', 'Slovakia', 'Slovenia', 'Solomon Islands', 'Somalia', 'South Africa', 'South Sudan', 'Spain', 'Sri Lanka', 'Sudan', 'Suriname', 'Sweden', 'Switzerland', 'Syria', 'Taiwan*', 'Tajikistan', 'Tanzania', 'Thailand', 'Timor-Leste', 'Togo', 'Trinidad and Tobago', 'Tunisia', 'Turkey', 'US', 'Uganda', 'Ukraine', 'United Arab Emirates', 'United Kingdom', 'Uruguay', 'Uzbekistan', 'Vanuatu', 'Venezuela', 'Vietnam', 'West Bank and Gaza', 'Yemen', 'Zambia', 'Zimbabwe', 'United States', 'Cape Verde', 'Czech Republic', 'Korea, Republic of', 'Myanmar']\n",
            "Dates:  404 [0, 21, 22, 23, 24, 25, 26, 27, 28, 29, 30, 31, 32, 33, 34, 35, 36, 37, 38, 39, 40, 41, 42, 43, 44, 45, 46, 47, 48, 49, 50, 51, 52, 53, 54, 55, 56, 57, 58, 59, 60, 61, 62, 63, 64, 65, 66, 67, 68, 69, 70, 71, 72, 73, 74, 75, 76, 77, 78, 79, 80, 81, 82, 83, 84, 85, 86, 87, 88, 89, 90, 91, 92, 93, 94, 95, 96, 97, 98, 99, 100, 101, 102, 103, 104, 105, 106, 107, 108, 109, 110, 111, 112, 113, 114, 115, 116, 117, 118, 119, 120, 121, 122, 123, 124, 125, 126, 127, 128, 129, 130, 131, 132, 133, 134, 135, 136, 137, 138, 139, 140, 141, 142, 143, 144, 145, 146, 147, 148, 149, 150, 151, 152, 153, 154, 155, 156, 157, 158, 159, 160, 161, 162, 163, 164, 165, 166, 167, 168, 169, 170, 171, 172, 173, 174, 175, 176, 177, 178, 179, 180, 181, 182, 183, 184, 185, 186, 187, 188, 189, 190, 191, 192, 193, 194, 195, 196, 197, 198, 199, 200, 201, 202, 203, 204, 205, 206, 207, 208, 209, 210, 211, 212, 213, 214, 215, 216, 217, 218, 219, 220, 221, 222, 223, 224, 225, 226, 227, 228, 229, 230, 231, 232, 233, 234, 235, 236, 237, 238, 239, 240, 241, 242, 243, 244, 245, 246, 247, 248, 249, 250, 251, 252, 253, 254, 255, 256, 257, 258, 259, 260, 261, 262, 263, 264, 265, 266, 267, 268, 269, 270, 271, 272, 273, 274, 275, 276, 277, 278, 279, 280, 281, 282, 283, 284, 285, 286, 287, 288, 289, 290, 291, 292, 293, 294, 295, 296, 297, 298, 299, 300, 301, 302, 303, 304, 305, 306, 307, 308, 309, 310, 311, 312, 313, 314, 315, 316, 317, 318, 319, 320, 321, 322, 323, 324, 325, 326, 327, 328, 329, 330, 331, 332, 333, 334, 335, 336, 337, 338, 339, 340, 341, 342, 343, 344, 345, 346, 347, 348, 349, 350, 351, 352, 353, 354, 355, 356, 357, 358, 359, 360, 361, 362, 363, 364, 365, 366, 367, 368, 369, 370, 371, 372, 373, 374, 375, 376, 377, 378, 379, 380, 381, 382, 383, 384, 385, 386, 387, 388, 389, 390, 391, 392, 393, 394, 395, 396, 397, 398, 399, 400, 401, 402, 403, 404, 405, 406, 407, 408, 409, 410, 411, 412, 413, 414, 415, 416, 417, 418, 419, 420, 421, 422, 423]\n",
            "\n",
            "Confirmed cases in China: \n",
            " [0, 0, 0, 0, 0, 0, 0, 0, 0, 0, 0, 0, 0, 0, 0, 0, 0, 0, 0, 0, 0, 548, 95, 277, 486, 669, 802, 2632, 578, 2054, 1661, 2089, 4739, 3086, 3991, 3733, 3147, 3523, 2704, 3015, 2525, 2032, 373, 15136, 6463, 2055, 2100, 1921, 1777, 408, 458, 473, 1451, 21, 219, 513, 412, 434, 328, 428, 576, 204, 125, 125, 151, 153, 80, 53, 37, 27, 34, 11, 13, 32, 26, 30, 25, 44, 54, 94, 55, 130, 63, 93, 70, 121, 115, 102, 123, 76, 81, 82, 71, 79, 32, 59, 63, 53, 91, 74, 58, 73, 120, 79, 93, 50, 47, 357, 27, 18, 12, 36, 15, 16, 15, 10, 3, 6, 22, 4, 12, 3, 0, 5, 2, 2, 2, 5, 1, 14, 20, 1, 7, 6, 5, 9, 6, 10, 9, 0, 0, 0, 18, 3, 11, 7, 1, 3, 0, 17, 5, 18, 8, 7, -1, 11, 6, 9, 5, 4, 3, 11, 7, 12, 58, 49, 43, 44, 36, 36, 0, 59, 19, 52, 29, 20, 28, 24, 18, 14, 23, 5, 31, 14, 8, 19, 14, 18, 28, 33, 42, 0, 79, 46, 0, 109, 20, 81, 75, 16, 85, 119, 86, 198, 139, 157, 179, 189, 213, 207, 223, 276, 166, 172, 158, 114, 107, 122, 132, 120, 92, 121, 113, 52, 87, 99, 70, 65, 96, 66, 53, 33, 40, 49, 38, 41, 23, 34, 32, 30, 22, 27, 32, 19, 19, 20, 33, 22, 17, 33, 20, 9, 13, 27, 18, 23, 29, 22, 16, 18, 41, 17, 23, 35, 12, 18, 10, 15, 17, 15, 27, 22, 23, 17, 22, 17, 20, 25, 23, 15, 20, 41, 23, 27, 34, 18, 28, 11, 36, 20, 30, 17, 34, 16, 22, 29, 35, 20, 23, 24, 47, 49, 28, 40, 27, 31, 55, 26, 31, 43, 39, 31, 43, 28, 26, 33, 31, 24, 21, 22, 22, 13, 21, 29, 42, 60, 79, 95, 85, 106, 86, 98, 95, 133, 88, 91, 120, 108, 127, 119, 110, 93, 112, 116, 127, 99, 93, 111, 99, 110, 89, 108, 87, 132, 97, 100, 78, 70, 85, 77, 81, 91, 88, 77, 79, 87, 60, 63, 74, 86, 64, 88, 86, 78, 128, 134, 96, 175, 180, 173, 168, 159, 164, 225, 159, 221, 242, 100, 161, 200, 155, 139, 114, 91, 102, 120, 95, 64, 50, 49, 42, 50, 30, 41, 46, 40, 19, 33, 32, 19, 21, 25, 15, 27, 18, 21, 22, 31, 26, 23, 25, 19, 34, 39]\n"
          ],
          "name": "stdout"
        }
      ]
    },
    {
      "cell_type": "markdown",
      "metadata": {
        "id": "cfUOMPJZLm9P"
      },
      "source": [
        "### Reading regulation dataset"
      ]
    },
    {
      "cell_type": "code",
      "metadata": {
        "colab": {
          "base_uri": "https://localhost:8080/"
        },
        "id": "IPaNoawre29O",
        "outputId": "010ede21-b8ef-4039-9e4c-5cdd81ea07fa"
      },
      "source": [
        "from sklearn.preprocessing import LabelEncoder as le\n",
        "\n",
        "xl_file = pd.ExcelFile('acaps_covid19_government_measures_dataset_0.xlsx')\n",
        "\n",
        "sheets = {sheet_name: xl_file.parse(sheet_name) \n",
        "          for sheet_name in xl_file.sheet_names}\n",
        "\n",
        "dataframe = sheets['Dataset']\n",
        "\n",
        "print('Sheets in the dataset:   ', sheets.keys())\n",
        "print('Number of regulations in the dataset: ', len(dataframe), '\\n')\n",
        "\n",
        "# print(dataframe.head())\n",
        "print('\\n', dataframe.info(), '\\n')\n",
        "\n",
        "dataset = {}\n",
        "for key in dataframe:\n",
        "    # dataframe[key] = le.fit_transform(dataframe[key].astype(str))\n",
        "    dataframe[key]=dataframe[key].astype('str')\n",
        "    dataset[key] = list(dataframe[key])\n"
      ],
      "execution_count": null,
      "outputs": [
        {
          "output_type": "stream",
          "text": [
            "Sheets in the dataset:    dict_keys(['About', 'Dataset', 'Dictionary'])\n",
            "Number of regulations in the dataset:  23923 \n",
            "\n",
            "<class 'pandas.core.frame.DataFrame'>\n",
            "RangeIndex: 23923 entries, 0 to 23922\n",
            "Data columns (total 18 columns):\n",
            " #   Column              Non-Null Count  Dtype         \n",
            "---  ------              --------------  -----         \n",
            " 0   ID                  23923 non-null  int64         \n",
            " 1   ISO                 23923 non-null  object        \n",
            " 2   COUNTRY             23923 non-null  object        \n",
            " 3   REGION              23923 non-null  object        \n",
            " 4   ADMIN_LEVEL_NAME    3682 non-null   object        \n",
            " 5   PCODE               0 non-null      float64       \n",
            " 6   LOG_TYPE            23923 non-null  object        \n",
            " 7   CATEGORY            23923 non-null  object        \n",
            " 8   MEASURE             23923 non-null  object        \n",
            " 9   TARGETED_POP_GROUP  7556 non-null   object        \n",
            " 10  COMMENTS            23799 non-null  object        \n",
            " 11  NON_COMPLIANCE      22764 non-null  object        \n",
            " 12  DATE_IMPLEMENTED    23630 non-null  datetime64[ns]\n",
            " 13  SOURCE              23900 non-null  object        \n",
            " 14  SOURCE_TYPE         23912 non-null  object        \n",
            " 15  LINK                23890 non-null  object        \n",
            " 16  ENTRY_DATE          23923 non-null  datetime64[ns]\n",
            " 17  Alternative source  1779 non-null   object        \n",
            "dtypes: datetime64[ns](2), float64(1), int64(1), object(14)\n",
            "memory usage: 3.3+ MB\n",
            "\n",
            " None \n",
            "\n"
          ],
          "name": "stdout"
        }
      ]
    },
    {
      "cell_type": "markdown",
      "metadata": {
        "id": "i1UWFoB5KhoL"
      },
      "source": [
        "### Processing regulation dataset"
      ]
    },
    {
      "cell_type": "code",
      "metadata": {
        "id": "750nstxW-XMS"
      },
      "source": [
        "good_countries = ['Argentina', 'Austria', 'Bangladesh', 'Belgium', 'Brazil',\n",
        "       'Canada', 'Chile', 'Colombia', 'Czech Republic', 'France',\n",
        "       'Germany', 'India', 'Indonesia', 'Iran', 'Iraq', 'Israel', 'Italy',\n",
        "       'Japan', 'Mexico', 'Morocco', 'Netherlands', 'Pakistan', 'Peru',\n",
        "       'Philippines', 'Poland', 'Portugal', 'Romania', 'Russia', 'Serbia',\n",
        "       'South Africa', 'Spain', 'Sweden', 'Switzerland', 'Turkey',\n",
        "       'Ukraine', 'United Kingdom', 'United States']"
      ],
      "execution_count": null,
      "outputs": []
    },
    {
      "cell_type": "code",
      "metadata": {
        "colab": {
          "base_uri": "https://localhost:8080/"
        },
        "id": "03Dv_MsFLzc6",
        "outputId": "adc0e2e9-ea8a-42e9-bb79-4642358f57c4"
      },
      "source": [
        "country_list = set([])\n",
        "\n",
        "for i in range(len(dataset['ID'])):\n",
        "    country = dataset['COUNTRY'][i]    \n",
        "    country_list.add(country)\n",
        "    \n",
        "country_list = list(country_list)\n",
        "country_list.sort()\n",
        "time_series_country_list.sort()\n",
        "\n",
        "print('Countries in regulation dataset: ', len(country_list), country_list)\n",
        "print('Countries in time-series dataset: ', len(time_series_country_list), time_series_country_list)\n",
        "print('Good Countries: ', len(good_countries), good_countries)\n",
        "\n",
        "common_countries = []\n",
        "for country in country_list:\n",
        "    if country in time_series_country_list and country in good_countries:\n",
        "        common_countries.append(country)\n",
        "\n",
        "print('Number of countries in intersection of all 3 datasets: ', len(common_countries), common_countries)\n",
        "\n",
        "regulations = {}\n",
        "\n",
        "for country in common_countries:\n",
        "    regulations[country] = [[] for i in range(number_of_days)]\n",
        "\n",
        "for i in range(len(dataset['ID'])):\n",
        "    \n",
        "    # Ignore the regulations with unknown implementation time\n",
        "    if dataset['DATE_IMPLEMENTED'][i] == 'NaT':\n",
        "        continue\n",
        "    \n",
        "    # Ignore the regulations that we don't have time-series of their countries\n",
        "    if dataset['COUNTRY'][i] not in common_countries:\n",
        "        continue\n",
        "\n",
        "    # Ignore bad countries!\n",
        "    if dataset['COUNTRY'][i] not in good_countries:\n",
        "        continue\n",
        "    \n",
        "    # fill the empty comment field with ----\n",
        "    if dataset['COMMENTS'][i] == 'nan':\n",
        "        dataset['COMMENTS'][i] = '----'\n",
        "\n",
        "\n",
        "    country = dataset['COUNTRY'][i]\n",
        "    datetimeObject = datetime.datetime.strptime(dataset['DATE_IMPLEMENTED'][i], '%Y-%m-%d')\n",
        "    date = (datetimeObject - first_day).days\n",
        "\n",
        "    regulations[country][date].append(i)\n",
        "    \n",
        "print('\\nA sample of ids in Iran:')\n",
        "print(regulations['Iran'])\n"
      ],
      "execution_count": null,
      "outputs": [
        {
          "output_type": "stream",
          "text": [
            "Countries in regulation dataset:  193 ['Afghanistan', 'Albania', 'Algeria', 'Angola', 'Antigua and Barbuda', 'Argentina', 'Armenia', 'Australia', 'Austria', 'Azerbaijan', 'Bahamas', 'Bahrain', 'Bangladesh', 'Barbados', 'Belarus', 'Belgium', 'Belize', 'Benin', 'Bhutan', 'Bolivia', 'Bosnia and Herzegovina', 'Botswana', 'Brazil', 'Brunei', 'Bulgaria', 'Burkina Faso', 'Burundi', 'CAR', 'Cambodia', 'Cameroon', 'Canada', 'Cape Verde', 'Chad', 'Chile', 'China', 'Colombia', 'Comoros', 'Congo', 'Costa Rica', 'Croatia', 'Cuba', 'Cyprus', 'Czech Republic', \"CÃ´te d'Ivoire\", 'DPRK', 'DRC', 'Denmark', 'Djibouti', 'Dominica', 'Dominican Republic', 'Ecuador', 'Egypt', 'El Salvador', 'Equatorial Guinea', 'Eritrea', 'Estonia', 'Eswatini', 'Ethiopia', 'Fiji', 'Finland', 'France', 'Gabon', 'Gambia', 'Georgia', 'Germany', 'Ghana', 'Greece', 'Grenada', 'Guatemala', 'Guinea', 'Guinea-Bissau', 'Guyana', 'Haiti', 'Honduras', 'Hong Kong', 'Hungary', 'Iceland', 'India', 'Indonesia', 'Iran', 'Iraq', 'Ireland', 'Israel', 'Italy', 'Jamaica', 'Japan', 'Jordan', 'Kazakhstan', 'Kenya', 'Kiribati', 'Korea, Republic of', 'Kuwait', 'Kyrgyzstan', 'Laos', 'Latvia', 'Lebanon', 'Lesotho', 'Liberia', 'Libya', 'Liechtenstein', 'Lithuania', 'Luxembourg', 'Macedonia', 'Madagascar', 'Malawi', 'Malaysia', 'Maldives', 'Mali', 'Malta', 'Marshall Islands', 'Mauritania', 'Mauritius', 'Mexico', 'Micronesia', 'Moldova', 'Mongolia', 'Montenegro', 'Morocco', 'Mozambique', 'Myanmar', 'Namibia', 'Nauru', 'Nepal', 'Netherlands', 'New Zealand', 'Nicaragua', 'Niger', 'Nigeria', 'Norway', 'Oman', 'Pakistan', 'Palau', 'Palestine', 'Panama', 'Papua New Guinea', 'Paraguay', 'Peru', 'Philippines', 'Poland', 'Portugal', 'Qatar', 'Romania', 'Russia', 'Rwanda', 'Samoa', 'San Marino', 'Sao Tome and Principe', 'Saudi Arabia', 'Senegal', 'Serbia', 'Seychelles', 'Sierra Leone', 'Singapore', 'Slovakia', 'Slovenia', 'Solomon Islands', 'Somalia', 'South Africa', 'South Sudan', 'Spain', 'Sri Lanka', 'St. Kitts and Nevis', 'St. Lucia', 'St. Vincent and the Grenadines', 'Sudan', 'Suriname', 'Sweden', 'Switzerland', 'Syria', 'Tajikistan', 'Tanzania', 'Thailand', 'Timor Leste', 'Togo', 'Tonga', 'Trinidad and Tobago', 'Tunisia', 'Turkey', 'Turkmenistan', 'Tuvalu', 'Uganda', 'Ukraine', 'United Arab Emirates', 'United Kingdom', 'United States', 'Uruguay', 'Uzbekistan', 'Vanuatu', 'Venezuela', 'Vietnam', 'Yemen', 'Zambia', 'Zimbabwe']\n",
            "Countries in time-series dataset:  201 ['Afghanistan', 'Albania', 'Algeria', 'Andorra', 'Angola', 'Antigua and Barbuda', 'Argentina', 'Armenia', 'Australia', 'Austria', 'Azerbaijan', 'Bahamas', 'Bahrain', 'Bangladesh', 'Barbados', 'Belarus', 'Belgium', 'Belize', 'Benin', 'Bhutan', 'Bolivia', 'Bosnia and Herzegovina', 'Botswana', 'Brazil', 'Brunei', 'Bulgaria', 'Burkina Faso', 'Burma', 'Burundi', 'Cabo Verde', 'Cambodia', 'Cameroon', 'Canada', 'Cape Verde', 'Central African Republic', 'Chad', 'Chile', 'China', 'Colombia', 'Comoros', 'Congo (Brazzaville)', 'Congo (Kinshasa)', 'Costa Rica', \"Cote d'Ivoire\", 'Croatia', 'Cuba', 'Cyprus', 'Czech Republic', 'Czechia', 'Denmark', 'Denmark', 'Diamond Princess', 'Djibouti', 'Dominica', 'Dominican Republic', 'Ecuador', 'Egypt', 'El Salvador', 'Equatorial Guinea', 'Eritrea', 'Estonia', 'Eswatini', 'Ethiopia', 'Fiji', 'Finland', 'France', 'France', 'Gabon', 'Gambia', 'Georgia', 'Germany', 'Ghana', 'Greece', 'Grenada', 'Guatemala', 'Guinea', 'Guinea-Bissau', 'Guyana', 'Haiti', 'Holy See', 'Honduras', 'Hungary', 'Iceland', 'India', 'Indonesia', 'Iran', 'Iraq', 'Ireland', 'Israel', 'Italy', 'Jamaica', 'Japan', 'Jordan', 'Kazakhstan', 'Kenya', 'Korea, Republic of', 'Korea, South', 'Kosovo', 'Kuwait', 'Kyrgyzstan', 'Laos', 'Latvia', 'Lebanon', 'Lesotho', 'Liberia', 'Libya', 'Liechtenstein', 'Lithuania', 'Luxembourg', 'MS Zaandam', 'Madagascar', 'Malawi', 'Malaysia', 'Maldives', 'Mali', 'Malta', 'Marshall Islands', 'Mauritania', 'Mauritius', 'Mexico', 'Micronesia', 'Moldova', 'Monaco', 'Mongolia', 'Montenegro', 'Morocco', 'Mozambique', 'Myanmar', 'Namibia', 'Nepal', 'Netherlands', 'Netherlands', 'New Zealand', 'Nicaragua', 'Niger', 'Nigeria', 'North Macedonia', 'Norway', 'Oman', 'Pakistan', 'Panama', 'Papua New Guinea', 'Paraguay', 'Peru', 'Philippines', 'Poland', 'Portugal', 'Qatar', 'Romania', 'Russia', 'Rwanda', 'Saint Kitts and Nevis', 'Saint Lucia', 'Saint Vincent and the Grenadines', 'Samoa', 'San Marino', 'Sao Tome and Principe', 'Saudi Arabia', 'Senegal', 'Serbia', 'Seychelles', 'Sierra Leone', 'Singapore', 'Slovakia', 'Slovenia', 'Solomon Islands', 'Somalia', 'South Africa', 'South Sudan', 'Spain', 'Sri Lanka', 'Sudan', 'Suriname', 'Sweden', 'Switzerland', 'Syria', 'Taiwan*', 'Tajikistan', 'Tanzania', 'Thailand', 'Timor-Leste', 'Togo', 'Trinidad and Tobago', 'Tunisia', 'Turkey', 'US', 'Uganda', 'Ukraine', 'United Arab Emirates', 'United Kingdom', 'United Kingdom', 'United States', 'Uruguay', 'Uzbekistan', 'Vanuatu', 'Venezuela', 'Vietnam', 'West Bank and Gaza', 'Yemen', 'Zambia', 'Zimbabwe']\n",
            "Good Countries:  37 ['Argentina', 'Austria', 'Bangladesh', 'Belgium', 'Brazil', 'Canada', 'Chile', 'Colombia', 'Czech Republic', 'France', 'Germany', 'India', 'Indonesia', 'Iran', 'Iraq', 'Israel', 'Italy', 'Japan', 'Mexico', 'Morocco', 'Netherlands', 'Pakistan', 'Peru', 'Philippines', 'Poland', 'Portugal', 'Romania', 'Russia', 'Serbia', 'South Africa', 'Spain', 'Sweden', 'Switzerland', 'Turkey', 'Ukraine', 'United Kingdom', 'United States']\n",
            "Number of countries in intersection of all 3 datasets:  37 ['Argentina', 'Austria', 'Bangladesh', 'Belgium', 'Brazil', 'Canada', 'Chile', 'Colombia', 'Czech Republic', 'France', 'Germany', 'India', 'Indonesia', 'Iran', 'Iraq', 'Israel', 'Italy', 'Japan', 'Mexico', 'Morocco', 'Netherlands', 'Pakistan', 'Peru', 'Philippines', 'Poland', 'Portugal', 'Romania', 'Russia', 'Serbia', 'South Africa', 'Spain', 'Sweden', 'Switzerland', 'Turkey', 'Ukraine', 'United Kingdom', 'United States']\n",
            "\n",
            "A sample of ids in Iran:\n",
            "[[], [], [], [], [], [], [], [], [], [], [], [], [], [], [], [], [], [], [], [], [], [], [], [], [], [], [], [10394, 10395], [], [], [10396, 10397, 10398], [], [], [], [], [], [], [], [], [], [], [], [], [], [], [], [], [], [], [], [], [], [], [], [], [], [], [10399, 10400, 10401], [], [10402], [], [10403], [10404], [], [10405, 10406], [], [], [10407, 10408], [], [], [], [10409], [], [], [], [10410], [10411, 10412], [], [], [], [], [], [], [], [], [], [10413], [10414, 10415], [], [10416, 10417], [], [], [], [], [], [], [], [], [], [], [], [10418], [], [], [], [], [], [], [], [10419], [], [], [], [], [], [], [10420, 10421, 10422], [], [], [], [], [], [], [], [10423], [], [], [10424], [10425], [10426], [10427], [10428], [10429, 10430], [], [10431], [10432], [10433], [], [], [], [], [], [], [], [], [], [], [], [10434, 10435, 10436], [], [10437], [], [], [], [], [], [], [10438], [], [], [], [], [], [], [], [], [], [], [], [], [], [], [], [], [], [], [], [], [], [], [], [], [], [], [], [10439], [10440], [], [], [], [], [], [], [], [], [], [], [10441], [], [], [], [], [], [], [], [], [], [], [], [], [], [], [], [], [], [], [], [], [], [], [], [], [], [], [], [], [], [], [], [], [], [], [], [], [], [], [], [], [], [], [], [], [], [], [], [], [10442], [], [], [], [], [], [], [10443], [], [], [], [], [], [], [10444], [], [10445], [], [], [], [], [10446], [], [], [], [], [], [], [], [], [10447, 10448, 10449, 10450, 10451, 10452], [], [], [], [10453], [], [], [10454, 10455, 10456, 10457], [], [], [], [], [], [], [], [], [], [], [], [], [], [], [], [], [], [], [], [], [10458, 10459, 10460, 10461, 10462], [], [], [], [10463, 10464], [], [], [], [], [], [], [10465, 10466], [], [], [], [], [], [], [], [], [], [10467, 10468, 10469, 10470, 10471, 10472, 10473], [], [], [], [], [], [], [], [], [], [], [], [], [], [10474, 10475, 10476, 10477, 10478, 10479, 10480, 10481, 10482], [], [], [], [], [], [], [], [], [], [], [], [], [], [], [], [], [], [], [], [], [], [], [], [], [], [], [], [], [], [], [], [], [], [], [], [], [], [], [], [], [], [], [], [], [], [], [], [], [], [], [], [], [], [], [], [], [], [], [], [], [], [], [], [], [], [], [], [], [], [], [], [], [], [], [], [], [], [], [], [], [], [], [], []]\n"
          ],
          "name": "stdout"
        }
      ]
    },
    {
      "cell_type": "markdown",
      "metadata": {
        "id": "7jYxQVAdZQ6V"
      },
      "source": [
        "### Creating Measure and Category dictionaries"
      ]
    },
    {
      "cell_type": "code",
      "metadata": {
        "colab": {
          "base_uri": "https://localhost:8080/"
        },
        "id": "uxF6NP7TZWE9",
        "outputId": "576fa1f2-8855-48d9-ffb5-0cabb9292d36"
      },
      "source": [
        "measure_dic = {}\n",
        "category_dic = {}\n",
        "\n",
        "for i in range(len(dataset['ID'])):\n",
        "    category = dataset['CATEGORY'][i]\n",
        "    measure = dataset['MEASURE'][i]\n",
        "\n",
        "    if category not in category_dic:\n",
        "        category_dic[category] = 0\n",
        "\n",
        "    if measure not in measure_dic:\n",
        "        measure_dic[measure] = 0\n",
        "    \n",
        "print(len(category_dic.keys()), category_dic)\n",
        "print(len(measure_dic.keys()), measure_dic)"
      ],
      "execution_count": null,
      "outputs": [
        {
          "output_type": "stream",
          "text": [
            "6 {'Public health measures': 0, 'Movement restrictions': 0, 'Governance and socio-economic measures': 0, 'Social distancing': 0, 'Lockdown': 0, 'Humanitarian exemption': 0}\n",
            "35 {'Awareness campaigns': 0, 'Health screenings in airports and border crossings': 0, 'International flights suspension': 0, 'Border checks': 0, 'Strengthening the public health system': 0, 'Isolation and quarantine policies': 0, 'Emergency administrative structures activated or established': 0, 'Surveillance and monitoring': 0, 'Other public health measures enforced': 0, 'Border closure': 0, 'General recommendations': 0, 'State of emergency declared': 0, 'Domestic travel restrictions': 0, 'Limit public gatherings': 0, 'Limit product imports/exports': 0, 'Schools closure': 0, 'Partial lockdown': 0, 'Changes in prison-related policies': 0, 'Closure of businesses and public services': 0, 'Checkpoints within the country': 0, 'Economic measures': 0, 'Military deployment': 0, 'Curfews': 0, 'Visa restrictions': 0, 'Requirement to wear protective gear in public': 0, 'Testing policy': 0, 'Amendments to funeral and burial regulations': 0, 'Full lockdown': 0, 'Lockdown of refugee/idp camps or other minorities': 0, 'Additional health/documents requirements upon arrival': 0, 'Mass population testing': 0, 'Humanitarian exemptions': 0, 'Psychological assistance and medical social work': 0, 'Complete border closure': 0, 'Obligatory medical tests not related to COVID-19': 0}\n"
          ],
          "name": "stdout"
        }
      ]
    },
    {
      "cell_type": "markdown",
      "metadata": {
        "id": "BX0cOhgw-6AA"
      },
      "source": [
        "### Creating country2region dictionary"
      ]
    },
    {
      "cell_type": "code",
      "metadata": {
        "colab": {
          "base_uri": "https://localhost:8080/"
        },
        "id": "zpWbgTDl_Cjv",
        "outputId": "c65cd3de-1d97-48d7-fd60-1d1b756a72f1"
      },
      "source": [
        "country2region = {}\n",
        "\n",
        "for i in range(len(dataset['ID'])):\n",
        "    country = dataset['COUNTRY'][i]\n",
        "    region = dataset['REGION'][i]\n",
        "\n",
        "    if country not in country2region:\n",
        "        country2region[country] = region\n",
        "\n",
        "print(country2region)"
      ],
      "execution_count": null,
      "outputs": [
        {
          "output_type": "stream",
          "text": [
            "{'Afghanistan': 'Asia', 'Albania': 'Europe', 'Algeria': 'Africa', 'Angola': 'Africa', 'Antigua and Barbuda': 'Americas', 'Argentina': 'Americas', 'Armenia': 'Middle east', 'Australia': 'Pacific', 'Austria': 'Europe', 'Azerbaijan': 'Middle east', 'Bahamas': 'Americas', 'Bahrain': 'Middle east', 'Bangladesh': 'Asia', 'Barbados': 'Americas', 'Belarus': 'Europe', 'Belgium': 'Europe', 'Belize': 'Americas', 'Benin': 'Africa', 'Bhutan': 'Middle east', 'Bolivia': 'Americas', 'Bosnia and Herzegovina': 'Europe', 'Botswana': 'Africa', 'Brazil': 'Americas', 'Brunei': 'Middle east', 'Bulgaria': 'Europe', 'Burkina Faso': 'Africa', 'Burundi': 'Africa', \"CÃ´te d'Ivoire\": 'Africa', 'Cambodia': 'Asia', 'Cameroon': 'Africa', 'Canada': 'Americas', 'Cape Verde': 'Africa', 'CAR': 'Africa', 'Chad': 'Africa', 'Chile': 'Americas', 'China': 'Asia', 'Colombia': 'Americas', 'Comoros': 'Africa', 'Congo': 'Africa', 'Costa Rica': 'Americas', 'Croatia': 'Europe', 'Cuba': 'Americas', 'Cyprus': 'Europe', 'Czech Republic': 'Europe', 'Denmark': 'Europe', 'Djibouti': 'Africa', 'Dominica': 'Americas', 'Dominican Republic': 'Americas', 'DPRK': 'Asia', 'DRC': 'Africa', 'Ecuador': 'Americas', 'Egypt': 'Africa', 'El Salvador': 'Americas', 'Equatorial Guinea': 'Africa', 'Eritrea': 'Africa', 'Estonia': 'Europe', 'Eswatini': 'Africa', 'Ethiopia': 'Africa', 'Fiji': 'Pacific', 'Finland': 'Europe', 'France': 'Europe', 'Gabon': 'Africa', 'Gambia': 'Africa', 'Georgia': 'Europe', 'Germany': 'Europe', 'Ghana': 'Africa', 'Greece': 'Europe', 'Grenada': 'Americas', 'Guatemala': 'Americas', 'Guinea': 'Africa', 'Guinea-Bissau': 'Africa', 'Guyana': 'Americas', 'Haiti': 'Americas', 'Honduras': 'Americas', 'Hong Kong': 'Asia', 'Hungary': 'Europe', 'Iceland': 'Europe', 'India': 'Asia', 'Indonesia': 'Asia', 'Iran': 'Middle east', 'Iraq': 'Middle east', 'Ireland': 'Europe', 'Israel': 'Middle east', 'Italy': 'Europe', 'Jamaica': 'Americas', 'Japan': 'Asia', 'Jordan': 'Middle east', 'Kazakhstan': 'Asia', 'Kenya': 'Africa', 'Kiribati': 'Pacific', 'Korea, Republic of': 'Asia', 'Kuwait': 'Middle east', 'Kyrgyzstan': 'Asia', 'Laos': 'Asia', 'Latvia': 'Europe', 'Lebanon': 'Middle east', 'Lesotho': 'Africa', 'Liberia': 'Africa', 'Libya': 'Africa', 'Liechtenstein': 'Europe', 'Lithuania': 'Europe', 'Luxembourg': 'Europe', 'Macedonia': 'Europe', 'Madagascar': 'Africa', 'Malawi': 'Africa', 'Malaysia': 'Asia', 'Maldives': 'Asia', 'Mali': 'Africa', 'Malta': 'Europe', 'Marshall Islands': 'Pacific', 'Mauritania': 'Africa', 'Mauritius': 'Africa', 'Mexico': 'Americas', 'Micronesia': 'Pacific', 'Moldova': 'Europe', 'Mongolia': 'Asia', 'Montenegro': 'Europe', 'Morocco': 'Africa', 'Mozambique': 'Africa', 'Myanmar': 'Asia', 'Namibia': 'Africa', 'Nauru': 'Pacific', 'Nepal': 'Asia', 'Netherlands': 'Europe', 'New Zealand': 'Pacific', 'Nicaragua': 'Americas', 'Niger': 'Africa', 'Nigeria': 'Africa', 'Norway': 'Europe', 'Oman': 'Middle east', 'Pakistan': 'Asia', 'Palau': 'Pacific', 'Palestine': 'Middle east', 'Panama': 'Americas', 'Papua New Guinea': 'Pacific', 'Paraguay': 'Americas', 'Peru': 'Americas', 'Philippines': 'Asia', 'Poland': 'Europe', 'Portugal': 'Europe', 'Qatar': 'Middle east', 'Romania': 'Europe', 'Russia': 'Europe', 'Rwanda': 'Africa', 'Samoa': 'Pacific', 'San Marino': 'Europe', 'Sao Tome and Principe': 'Africa', 'Saudi Arabia': 'Middle east', 'Senegal': 'Africa', 'Serbia': 'Europe', 'Seychelles': 'Africa', 'Sierra Leone': 'Africa', 'Singapore': 'Asia', 'Slovakia': 'Europe', 'Slovenia': 'Europe', 'Solomon Islands': 'Pacific', 'Somalia': 'Africa', 'South Africa': 'Africa', 'South Sudan': 'Africa', 'Spain': 'Europe', 'Sri Lanka': 'Asia', 'St. Kitts and Nevis': 'Americas', 'St. Lucia': 'Americas', 'St. Vincent and the Grenadines': 'Americas', 'Sudan': 'Africa', 'Suriname': 'Americas', 'Sweden': 'Europe', 'Switzerland': 'Europe', 'Syria': 'Middle east', 'Tajikistan': 'Asia', 'Tanzania': 'Africa', 'Thailand': 'Asia', 'Timor Leste': 'Asia', 'Togo': 'Africa', 'Tonga': 'Pacific', 'Trinidad and Tobago': 'Americas', 'Tunisia': 'Africa', 'Turkey': 'Middle east', 'Turkmenistan': 'Asia', 'Tuvalu': 'Pacific', 'Uganda': 'Africa', 'Ukraine': 'Europe', 'United Arab Emirates': 'Middle east', 'United Kingdom': 'Europe', 'United States': 'Americas', 'Uruguay': 'Americas', 'Uzbekistan': 'Asia', 'Vanuatu': 'Pacific', 'Venezuela': 'Americas', 'Vietnam': 'Asia', 'Yemen': 'Middle east', 'Zambia': 'Africa', 'Zimbabwe': 'Africa'}\n"
          ],
          "name": "stdout"
        }
      ]
    },
    {
      "cell_type": "markdown",
      "metadata": {
        "id": "CcF4gVgLgx3C"
      },
      "source": [
        "# 3. Comment embeddings from DeBerta model"
      ]
    },
    {
      "cell_type": "markdown",
      "metadata": {
        "id": "4IYYV72WgztS"
      },
      "source": [
        "### creating list of comments"
      ]
    },
    {
      "cell_type": "code",
      "metadata": {
        "colab": {
          "base_uri": "https://localhost:8080/"
        },
        "id": "6vF5nj8xi9CH",
        "outputId": "4b002454-c884-408a-f3c7-eef6eeacbd58"
      },
      "source": [
        "comments = []\n",
        "comment_infos = []\n",
        "\n",
        "for country in regulations:\n",
        "    for day in range(len(regulations[country])):\n",
        "\n",
        "        if len(regulations[country][day]) == 0:\n",
        "                continue\n",
        "\n",
        "        comment = ''\n",
        "        for index in regulations[country][day]:\n",
        "            comment = comment + ' ' + dataset['COMMENTS'][index]\n",
        "            \n",
        "        comments.append(comment)\n",
        "        comment_infos.append((country, day))\n",
        "\n",
        "print('Number of comments: ', len(comments))\n",
        "print(comments[0:5])\n",
        "print(comment_infos[0:5])"
      ],
      "execution_count": null,
      "outputs": [
        {
          "output_type": "stream",
          "text": [
            "Number of comments:  2849\n",
            "[' Campaign for argentinians abroad', ' For long term ', ' Flights from countries with COVID transmissions. From Europe, UK, USA, South Korea, Japan, China and Iran, for 14 days Restrict public gathering for sport events and closes cultural spaces', ' For non-residents and travellers from the Schengen Area, UK, US, Iran, China, Japan and South Corea', ' Social protection plan to ensure alimentation and health for all All relevant public services transfered online. For 2 weeks.']\n",
            "[('Argentina', 47), ('Argentina', 70), ('Argentina', 71), ('Argentina', 74), ('Argentina', 75)]\n"
          ],
          "name": "stdout"
        }
      ]
    },
    {
      "cell_type": "markdown",
      "metadata": {
        "id": "CZ6aqRdgac4n"
      },
      "source": [
        "### Tokenizing"
      ]
    },
    {
      "cell_type": "code",
      "metadata": {
        "id": "MzP53Wzsac4o",
        "colab": {
          "base_uri": "https://localhost:8080/",
          "height": 165,
          "referenced_widgets": [
            "84f6690b65644532b2dfaf714ee3410d",
            "e6480c18dd3d4e338a8e47c707a53bdf",
            "b10de9a0aa95474389ad77a6daa97fec",
            "3bf356279a4841ab91b01a1a777bdc73",
            "10c7254983dd406580e9415fd5da2075",
            "9676268ec9934ba3a28d22bf5472e0a9",
            "73a214d0acec439abbe170a8c760963d",
            "be94a2e329e0442c8d18e663a70809e6",
            "daff40ccdf8f4ca78f082c1b42c06bb6",
            "e8b950c6c64d496080c5042ea62be2a4",
            "22ef390f414f4c338c93cb895e54018b",
            "1facacc7f25f410db0732350440e6f6c",
            "e275550e878c412dbfd342e22898d1cf",
            "d85c6d2afefe4c9d8e6c44689811eb8e",
            "786b12a61ebd415284af56f2c221716b",
            "c06593bc1bf546348f59fc311d023170",
            "0be441701ef44640a5525a516660534d",
            "cc3e2019aba14752a97216bdbafd9ed8",
            "a6b9701068a746e9a2da98f46849cf88",
            "87d4b6a3ddf84e4ba110f70e1efcc090",
            "299b5912ff424f6780da3e4e6391cdb0",
            "7e94be69a9e2466a9c48c3abfa56dc07",
            "93e622e0ccff4741b1037922c86186d1",
            "44b149cff1d440d0abe4e6f779323b8a"
          ]
        },
        "outputId": "b3d5d47c-60ed-49f2-cfa7-7f5fd1034574"
      },
      "source": [
        "tokenizer = transformers.DebertaTokenizer.from_pretrained('microsoft/deberta-base') \n",
        "max_length = 256\n",
        "train_encodings = tokenizer(comments, add_special_tokens=True, return_token_type_ids=False, truncation=True, padding=True, max_length=max_length)"
      ],
      "execution_count": null,
      "outputs": [
        {
          "output_type": "display_data",
          "data": {
            "application/vnd.jupyter.widget-view+json": {
              "model_id": "84f6690b65644532b2dfaf714ee3410d",
              "version_minor": 0,
              "version_major": 2
            },
            "text/plain": [
              "HBox(children=(FloatProgress(value=0.0, description='Downloading', max=898825.0, style=ProgressStyle(descripti…"
            ]
          },
          "metadata": {
            "tags": []
          }
        },
        {
          "output_type": "stream",
          "text": [
            "\n"
          ],
          "name": "stdout"
        },
        {
          "output_type": "display_data",
          "data": {
            "application/vnd.jupyter.widget-view+json": {
              "model_id": "daff40ccdf8f4ca78f082c1b42c06bb6",
              "version_minor": 0,
              "version_major": 2
            },
            "text/plain": [
              "HBox(children=(FloatProgress(value=0.0, description='Downloading', max=456318.0, style=ProgressStyle(descripti…"
            ]
          },
          "metadata": {
            "tags": []
          }
        },
        {
          "output_type": "stream",
          "text": [
            "\n"
          ],
          "name": "stdout"
        },
        {
          "output_type": "display_data",
          "data": {
            "application/vnd.jupyter.widget-view+json": {
              "model_id": "0be441701ef44640a5525a516660534d",
              "version_minor": 0,
              "version_major": 2
            },
            "text/plain": [
              "HBox(children=(FloatProgress(value=0.0, description='Downloading', max=52.0, style=ProgressStyle(description_w…"
            ]
          },
          "metadata": {
            "tags": []
          }
        },
        {
          "output_type": "stream",
          "text": [
            "\n"
          ],
          "name": "stdout"
        }
      ]
    },
    {
      "cell_type": "markdown",
      "metadata": {
        "id": "7G5kUUQWac4p"
      },
      "source": [
        "### Creating pytorch Dataset"
      ]
    },
    {
      "cell_type": "code",
      "metadata": {
        "id": "crdsqJosac4p"
      },
      "source": [
        "class NSPDataset(torch.utils.data.Dataset):\n",
        "    def __init__(self, encodings):\n",
        "        self.encodings = encodings\n",
        "#         self.labels = labels\n",
        "\n",
        "    def __getitem__(self, idx):\n",
        "        item = {key: torch.tensor(val[idx]) for key, val in self.encodings.items()}\n",
        "#         if self.labels != None:\n",
        "#           item['labels'] = torch.tensor(self.labels[idx])\n",
        "        return item\n",
        "\n",
        "    def __len__(self):\n",
        "        # return len(self.labels)\n",
        "        return len(self.encodings['input_ids'])"
      ],
      "execution_count": null,
      "outputs": []
    },
    {
      "cell_type": "code",
      "metadata": {
        "id": "Fvcs4q22ac4q"
      },
      "source": [
        "train_dataset = NSPDataset(train_encodings)\n",
        "train_loader = DataLoader(train_dataset, batch_size=32, shuffle=False)"
      ],
      "execution_count": null,
      "outputs": []
    },
    {
      "cell_type": "markdown",
      "metadata": {
        "id": "06zqtx-rac4q"
      },
      "source": [
        "### Creating DeBerta Model"
      ]
    },
    {
      "cell_type": "code",
      "metadata": {
        "colab": {
          "base_uri": "https://localhost:8080/",
          "height": 1000,
          "referenced_widgets": [
            "e81f0d4f12ea4777be2f9682edd05d2a",
            "51514d3934aa441a8355795189084708",
            "22d9bea4b8f24b6faf01d39154fc65e0",
            "7c0065f14caf4216821d151ebf459dad",
            "2fa8a0d50d30416591c95691fd5b1546",
            "a9ee8d4958ad421cb188c4f803028f00",
            "b1e1af25118b4466a270f508ab3b2194",
            "44432dee6c6a4ab3af25a73a29ae4592",
            "abbbfd7ab9514b4eb0bea643343b503a",
            "299f23177afd4e369260e8c127462f86",
            "a7f822139c124fdd8f7cd77527990388",
            "d0bbd7296f264f4f9ca15f75b2916464",
            "c56d8607f15744bc878d0d48db5f7a38",
            "c1059fe4567e4440b0860338a73a93a7",
            "675ea336a8044f4483a85adf4a6271ad",
            "56c18bb9e9034042a9363f890d22d42d"
          ]
        },
        "id": "bKOTYuVwac4q",
        "outputId": "533721fb-0397-4883-d166-87a24fa699e1"
      },
      "source": [
        "device = torch.device(\"cuda:0\" if torch.cuda.is_available() else \"cpu\")\n",
        "\n",
        "model = transformers.DebertaModel.from_pretrained('microsoft/deberta-base')\n",
        "\n",
        "\n",
        "if torch.cuda.device_count() > 1:\n",
        "#   print(\"Let's use\", torch.cuda.device_count(), \"GPUs!\")\n",
        "  model = torch.nn.DataParallel(model)\n",
        "    \n",
        "model.to(device)\n",
        "model.train()"
      ],
      "execution_count": null,
      "outputs": [
        {
          "output_type": "display_data",
          "data": {
            "application/vnd.jupyter.widget-view+json": {
              "model_id": "e81f0d4f12ea4777be2f9682edd05d2a",
              "version_minor": 0,
              "version_major": 2
            },
            "text/plain": [
              "HBox(children=(FloatProgress(value=0.0, description='Downloading', max=474.0, style=ProgressStyle(description_…"
            ]
          },
          "metadata": {
            "tags": []
          }
        },
        {
          "output_type": "stream",
          "text": [
            "\n"
          ],
          "name": "stdout"
        },
        {
          "output_type": "display_data",
          "data": {
            "application/vnd.jupyter.widget-view+json": {
              "model_id": "abbbfd7ab9514b4eb0bea643343b503a",
              "version_minor": 0,
              "version_major": 2
            },
            "text/plain": [
              "HBox(children=(FloatProgress(value=0.0, description='Downloading', max=558582766.0, style=ProgressStyle(descri…"
            ]
          },
          "metadata": {
            "tags": []
          }
        },
        {
          "output_type": "stream",
          "text": [
            "\n"
          ],
          "name": "stdout"
        },
        {
          "output_type": "execute_result",
          "data": {
            "text/plain": [
              "DebertaModel(\n",
              "  (embeddings): DebertaEmbeddings(\n",
              "    (word_embeddings): Embedding(50265, 768, padding_idx=0)\n",
              "    (LayerNorm): DebertaLayerNorm()\n",
              "    (dropout): StableDropout()\n",
              "  )\n",
              "  (encoder): DebertaEncoder(\n",
              "    (layer): ModuleList(\n",
              "      (0): DebertaLayer(\n",
              "        (attention): DebertaAttention(\n",
              "          (self): DisentangledSelfAttention(\n",
              "            (in_proj): Linear(in_features=768, out_features=2304, bias=False)\n",
              "            (pos_dropout): StableDropout()\n",
              "            (pos_proj): Linear(in_features=768, out_features=768, bias=False)\n",
              "            (pos_q_proj): Linear(in_features=768, out_features=768, bias=True)\n",
              "            (dropout): StableDropout()\n",
              "          )\n",
              "          (output): DebertaSelfOutput(\n",
              "            (dense): Linear(in_features=768, out_features=768, bias=True)\n",
              "            (LayerNorm): DebertaLayerNorm()\n",
              "            (dropout): StableDropout()\n",
              "          )\n",
              "        )\n",
              "        (intermediate): DebertaIntermediate(\n",
              "          (dense): Linear(in_features=768, out_features=3072, bias=True)\n",
              "        )\n",
              "        (output): DebertaOutput(\n",
              "          (dense): Linear(in_features=3072, out_features=768, bias=True)\n",
              "          (LayerNorm): DebertaLayerNorm()\n",
              "          (dropout): StableDropout()\n",
              "        )\n",
              "      )\n",
              "      (1): DebertaLayer(\n",
              "        (attention): DebertaAttention(\n",
              "          (self): DisentangledSelfAttention(\n",
              "            (in_proj): Linear(in_features=768, out_features=2304, bias=False)\n",
              "            (pos_dropout): StableDropout()\n",
              "            (pos_proj): Linear(in_features=768, out_features=768, bias=False)\n",
              "            (pos_q_proj): Linear(in_features=768, out_features=768, bias=True)\n",
              "            (dropout): StableDropout()\n",
              "          )\n",
              "          (output): DebertaSelfOutput(\n",
              "            (dense): Linear(in_features=768, out_features=768, bias=True)\n",
              "            (LayerNorm): DebertaLayerNorm()\n",
              "            (dropout): StableDropout()\n",
              "          )\n",
              "        )\n",
              "        (intermediate): DebertaIntermediate(\n",
              "          (dense): Linear(in_features=768, out_features=3072, bias=True)\n",
              "        )\n",
              "        (output): DebertaOutput(\n",
              "          (dense): Linear(in_features=3072, out_features=768, bias=True)\n",
              "          (LayerNorm): DebertaLayerNorm()\n",
              "          (dropout): StableDropout()\n",
              "        )\n",
              "      )\n",
              "      (2): DebertaLayer(\n",
              "        (attention): DebertaAttention(\n",
              "          (self): DisentangledSelfAttention(\n",
              "            (in_proj): Linear(in_features=768, out_features=2304, bias=False)\n",
              "            (pos_dropout): StableDropout()\n",
              "            (pos_proj): Linear(in_features=768, out_features=768, bias=False)\n",
              "            (pos_q_proj): Linear(in_features=768, out_features=768, bias=True)\n",
              "            (dropout): StableDropout()\n",
              "          )\n",
              "          (output): DebertaSelfOutput(\n",
              "            (dense): Linear(in_features=768, out_features=768, bias=True)\n",
              "            (LayerNorm): DebertaLayerNorm()\n",
              "            (dropout): StableDropout()\n",
              "          )\n",
              "        )\n",
              "        (intermediate): DebertaIntermediate(\n",
              "          (dense): Linear(in_features=768, out_features=3072, bias=True)\n",
              "        )\n",
              "        (output): DebertaOutput(\n",
              "          (dense): Linear(in_features=3072, out_features=768, bias=True)\n",
              "          (LayerNorm): DebertaLayerNorm()\n",
              "          (dropout): StableDropout()\n",
              "        )\n",
              "      )\n",
              "      (3): DebertaLayer(\n",
              "        (attention): DebertaAttention(\n",
              "          (self): DisentangledSelfAttention(\n",
              "            (in_proj): Linear(in_features=768, out_features=2304, bias=False)\n",
              "            (pos_dropout): StableDropout()\n",
              "            (pos_proj): Linear(in_features=768, out_features=768, bias=False)\n",
              "            (pos_q_proj): Linear(in_features=768, out_features=768, bias=True)\n",
              "            (dropout): StableDropout()\n",
              "          )\n",
              "          (output): DebertaSelfOutput(\n",
              "            (dense): Linear(in_features=768, out_features=768, bias=True)\n",
              "            (LayerNorm): DebertaLayerNorm()\n",
              "            (dropout): StableDropout()\n",
              "          )\n",
              "        )\n",
              "        (intermediate): DebertaIntermediate(\n",
              "          (dense): Linear(in_features=768, out_features=3072, bias=True)\n",
              "        )\n",
              "        (output): DebertaOutput(\n",
              "          (dense): Linear(in_features=3072, out_features=768, bias=True)\n",
              "          (LayerNorm): DebertaLayerNorm()\n",
              "          (dropout): StableDropout()\n",
              "        )\n",
              "      )\n",
              "      (4): DebertaLayer(\n",
              "        (attention): DebertaAttention(\n",
              "          (self): DisentangledSelfAttention(\n",
              "            (in_proj): Linear(in_features=768, out_features=2304, bias=False)\n",
              "            (pos_dropout): StableDropout()\n",
              "            (pos_proj): Linear(in_features=768, out_features=768, bias=False)\n",
              "            (pos_q_proj): Linear(in_features=768, out_features=768, bias=True)\n",
              "            (dropout): StableDropout()\n",
              "          )\n",
              "          (output): DebertaSelfOutput(\n",
              "            (dense): Linear(in_features=768, out_features=768, bias=True)\n",
              "            (LayerNorm): DebertaLayerNorm()\n",
              "            (dropout): StableDropout()\n",
              "          )\n",
              "        )\n",
              "        (intermediate): DebertaIntermediate(\n",
              "          (dense): Linear(in_features=768, out_features=3072, bias=True)\n",
              "        )\n",
              "        (output): DebertaOutput(\n",
              "          (dense): Linear(in_features=3072, out_features=768, bias=True)\n",
              "          (LayerNorm): DebertaLayerNorm()\n",
              "          (dropout): StableDropout()\n",
              "        )\n",
              "      )\n",
              "      (5): DebertaLayer(\n",
              "        (attention): DebertaAttention(\n",
              "          (self): DisentangledSelfAttention(\n",
              "            (in_proj): Linear(in_features=768, out_features=2304, bias=False)\n",
              "            (pos_dropout): StableDropout()\n",
              "            (pos_proj): Linear(in_features=768, out_features=768, bias=False)\n",
              "            (pos_q_proj): Linear(in_features=768, out_features=768, bias=True)\n",
              "            (dropout): StableDropout()\n",
              "          )\n",
              "          (output): DebertaSelfOutput(\n",
              "            (dense): Linear(in_features=768, out_features=768, bias=True)\n",
              "            (LayerNorm): DebertaLayerNorm()\n",
              "            (dropout): StableDropout()\n",
              "          )\n",
              "        )\n",
              "        (intermediate): DebertaIntermediate(\n",
              "          (dense): Linear(in_features=768, out_features=3072, bias=True)\n",
              "        )\n",
              "        (output): DebertaOutput(\n",
              "          (dense): Linear(in_features=3072, out_features=768, bias=True)\n",
              "          (LayerNorm): DebertaLayerNorm()\n",
              "          (dropout): StableDropout()\n",
              "        )\n",
              "      )\n",
              "      (6): DebertaLayer(\n",
              "        (attention): DebertaAttention(\n",
              "          (self): DisentangledSelfAttention(\n",
              "            (in_proj): Linear(in_features=768, out_features=2304, bias=False)\n",
              "            (pos_dropout): StableDropout()\n",
              "            (pos_proj): Linear(in_features=768, out_features=768, bias=False)\n",
              "            (pos_q_proj): Linear(in_features=768, out_features=768, bias=True)\n",
              "            (dropout): StableDropout()\n",
              "          )\n",
              "          (output): DebertaSelfOutput(\n",
              "            (dense): Linear(in_features=768, out_features=768, bias=True)\n",
              "            (LayerNorm): DebertaLayerNorm()\n",
              "            (dropout): StableDropout()\n",
              "          )\n",
              "        )\n",
              "        (intermediate): DebertaIntermediate(\n",
              "          (dense): Linear(in_features=768, out_features=3072, bias=True)\n",
              "        )\n",
              "        (output): DebertaOutput(\n",
              "          (dense): Linear(in_features=3072, out_features=768, bias=True)\n",
              "          (LayerNorm): DebertaLayerNorm()\n",
              "          (dropout): StableDropout()\n",
              "        )\n",
              "      )\n",
              "      (7): DebertaLayer(\n",
              "        (attention): DebertaAttention(\n",
              "          (self): DisentangledSelfAttention(\n",
              "            (in_proj): Linear(in_features=768, out_features=2304, bias=False)\n",
              "            (pos_dropout): StableDropout()\n",
              "            (pos_proj): Linear(in_features=768, out_features=768, bias=False)\n",
              "            (pos_q_proj): Linear(in_features=768, out_features=768, bias=True)\n",
              "            (dropout): StableDropout()\n",
              "          )\n",
              "          (output): DebertaSelfOutput(\n",
              "            (dense): Linear(in_features=768, out_features=768, bias=True)\n",
              "            (LayerNorm): DebertaLayerNorm()\n",
              "            (dropout): StableDropout()\n",
              "          )\n",
              "        )\n",
              "        (intermediate): DebertaIntermediate(\n",
              "          (dense): Linear(in_features=768, out_features=3072, bias=True)\n",
              "        )\n",
              "        (output): DebertaOutput(\n",
              "          (dense): Linear(in_features=3072, out_features=768, bias=True)\n",
              "          (LayerNorm): DebertaLayerNorm()\n",
              "          (dropout): StableDropout()\n",
              "        )\n",
              "      )\n",
              "      (8): DebertaLayer(\n",
              "        (attention): DebertaAttention(\n",
              "          (self): DisentangledSelfAttention(\n",
              "            (in_proj): Linear(in_features=768, out_features=2304, bias=False)\n",
              "            (pos_dropout): StableDropout()\n",
              "            (pos_proj): Linear(in_features=768, out_features=768, bias=False)\n",
              "            (pos_q_proj): Linear(in_features=768, out_features=768, bias=True)\n",
              "            (dropout): StableDropout()\n",
              "          )\n",
              "          (output): DebertaSelfOutput(\n",
              "            (dense): Linear(in_features=768, out_features=768, bias=True)\n",
              "            (LayerNorm): DebertaLayerNorm()\n",
              "            (dropout): StableDropout()\n",
              "          )\n",
              "        )\n",
              "        (intermediate): DebertaIntermediate(\n",
              "          (dense): Linear(in_features=768, out_features=3072, bias=True)\n",
              "        )\n",
              "        (output): DebertaOutput(\n",
              "          (dense): Linear(in_features=3072, out_features=768, bias=True)\n",
              "          (LayerNorm): DebertaLayerNorm()\n",
              "          (dropout): StableDropout()\n",
              "        )\n",
              "      )\n",
              "      (9): DebertaLayer(\n",
              "        (attention): DebertaAttention(\n",
              "          (self): DisentangledSelfAttention(\n",
              "            (in_proj): Linear(in_features=768, out_features=2304, bias=False)\n",
              "            (pos_dropout): StableDropout()\n",
              "            (pos_proj): Linear(in_features=768, out_features=768, bias=False)\n",
              "            (pos_q_proj): Linear(in_features=768, out_features=768, bias=True)\n",
              "            (dropout): StableDropout()\n",
              "          )\n",
              "          (output): DebertaSelfOutput(\n",
              "            (dense): Linear(in_features=768, out_features=768, bias=True)\n",
              "            (LayerNorm): DebertaLayerNorm()\n",
              "            (dropout): StableDropout()\n",
              "          )\n",
              "        )\n",
              "        (intermediate): DebertaIntermediate(\n",
              "          (dense): Linear(in_features=768, out_features=3072, bias=True)\n",
              "        )\n",
              "        (output): DebertaOutput(\n",
              "          (dense): Linear(in_features=3072, out_features=768, bias=True)\n",
              "          (LayerNorm): DebertaLayerNorm()\n",
              "          (dropout): StableDropout()\n",
              "        )\n",
              "      )\n",
              "      (10): DebertaLayer(\n",
              "        (attention): DebertaAttention(\n",
              "          (self): DisentangledSelfAttention(\n",
              "            (in_proj): Linear(in_features=768, out_features=2304, bias=False)\n",
              "            (pos_dropout): StableDropout()\n",
              "            (pos_proj): Linear(in_features=768, out_features=768, bias=False)\n",
              "            (pos_q_proj): Linear(in_features=768, out_features=768, bias=True)\n",
              "            (dropout): StableDropout()\n",
              "          )\n",
              "          (output): DebertaSelfOutput(\n",
              "            (dense): Linear(in_features=768, out_features=768, bias=True)\n",
              "            (LayerNorm): DebertaLayerNorm()\n",
              "            (dropout): StableDropout()\n",
              "          )\n",
              "        )\n",
              "        (intermediate): DebertaIntermediate(\n",
              "          (dense): Linear(in_features=768, out_features=3072, bias=True)\n",
              "        )\n",
              "        (output): DebertaOutput(\n",
              "          (dense): Linear(in_features=3072, out_features=768, bias=True)\n",
              "          (LayerNorm): DebertaLayerNorm()\n",
              "          (dropout): StableDropout()\n",
              "        )\n",
              "      )\n",
              "      (11): DebertaLayer(\n",
              "        (attention): DebertaAttention(\n",
              "          (self): DisentangledSelfAttention(\n",
              "            (in_proj): Linear(in_features=768, out_features=2304, bias=False)\n",
              "            (pos_dropout): StableDropout()\n",
              "            (pos_proj): Linear(in_features=768, out_features=768, bias=False)\n",
              "            (pos_q_proj): Linear(in_features=768, out_features=768, bias=True)\n",
              "            (dropout): StableDropout()\n",
              "          )\n",
              "          (output): DebertaSelfOutput(\n",
              "            (dense): Linear(in_features=768, out_features=768, bias=True)\n",
              "            (LayerNorm): DebertaLayerNorm()\n",
              "            (dropout): StableDropout()\n",
              "          )\n",
              "        )\n",
              "        (intermediate): DebertaIntermediate(\n",
              "          (dense): Linear(in_features=768, out_features=3072, bias=True)\n",
              "        )\n",
              "        (output): DebertaOutput(\n",
              "          (dense): Linear(in_features=3072, out_features=768, bias=True)\n",
              "          (LayerNorm): DebertaLayerNorm()\n",
              "          (dropout): StableDropout()\n",
              "        )\n",
              "      )\n",
              "    )\n",
              "    (rel_embeddings): Embedding(1024, 768)\n",
              "  )\n",
              ")"
            ]
          },
          "metadata": {
            "tags": []
          },
          "execution_count": 17
        }
      ]
    },
    {
      "cell_type": "markdown",
      "metadata": {
        "id": "A5eHPqgNac4r"
      },
      "source": [
        "### Generating Comment Embeddings"
      ]
    },
    {
      "cell_type": "code",
      "metadata": {
        "colab": {
          "base_uri": "https://localhost:8080/"
        },
        "id": "-6-aHVqtac4s",
        "outputId": "46049b2e-c9bf-421b-9a93-241fc693ef06"
      },
      "source": [
        "all_cls = []\n",
        "\n",
        "for iteration, batch in tqdm(enumerate(train_loader)):\n",
        "    \n",
        "    input_ids = batch['input_ids'].to(device)\n",
        "    attention_mask = batch['attention_mask'].to(device)\n",
        "    \n",
        "    with torch.no_grad():\n",
        "        \n",
        "        last_hidden_state = model(input_ids, attention_mask=attention_mask).last_hidden_state\n",
        "        cls_tokens = last_hidden_state[:,0,:].detach()\n",
        "        \n",
        "        all_cls.append(cls_tokens)\n",
        "\n",
        "        \n",
        "# out_cls is a matrix of size number_of_not_null_comments (23799) X size_of_hidden_state_of_BERT (768)\n",
        "# In this matrix, for each comment we have an embedding vector.\n",
        "out_cls = torch.cat(all_cls, 0)\n",
        "\n",
        "print(\"shape of output matrix :\", out_cls.shape)\n",
        "comment_embeddings = out_cls.tolist()"
      ],
      "execution_count": null,
      "outputs": [
        {
          "output_type": "stream",
          "text": [
            "90it [01:00,  1.48it/s]"
          ],
          "name": "stderr"
        },
        {
          "output_type": "stream",
          "text": [
            "shape of output matrix : torch.Size([2849, 768])\n"
          ],
          "name": "stdout"
        },
        {
          "output_type": "stream",
          "text": [
            "\n"
          ],
          "name": "stderr"
        }
      ]
    },
    {
      "cell_type": "markdown",
      "metadata": {
        "id": "P1Q2hNAeLFsJ"
      },
      "source": [
        "### Reduce embeddings"
      ]
    },
    {
      "cell_type": "code",
      "metadata": {
        "colab": {
          "base_uri": "https://localhost:8080/"
        },
        "id": "iorXkPEe2oIY",
        "outputId": "004fd6ae-a341-4b00-ebe1-5f9eed6b0baa"
      },
      "source": [
        "reduced_embeddings = comment_embeddings\n",
        "print(len(reduced_embeddings), len(reduced_embeddings[0]), reduced_embeddings[0])\n",
        "COMMENT_DIMENSIONS = len(reduced_embeddings[0])\n",
        "print(COMMENT_DIMENSIONS)"
      ],
      "execution_count": null,
      "outputs": [
        {
          "output_type": "stream",
          "text": [
            "2849 768 [0.05790683627128601, -0.020389284938573837, -0.05915236845612526, -0.038918204605579376, 0.06387216597795486, 0.08327605575323105, -0.09359509497880936, -0.0012470055371522903, 0.10593076050281525, -0.022725239396095276, -0.035745494067668915, 0.01918317936360836, 0.00011213100515305996, -0.014184052124619484, -0.008730756118893623, -0.03663644939661026, -0.002207149751484394, 0.04941564053297043, 0.06737002730369568, -0.004412967711687088, 0.08805371820926666, 0.06810662150382996, 0.042076997458934784, -0.08858568966388702, 0.04747886210680008, 0.010467100888490677, 0.06681830435991287, 0.08818880468606949, 0.0038609355688095093, 0.008509274572134018, -0.05409366264939308, 0.03661562502384186, 0.01395716518163681, -0.0194980688393116, 0.09344112128019333, 0.03765181452035904, 0.0076604485511779785, 0.004985209554433823, 0.055208154022693634, 0.08489901572465897, -0.008693907409906387, -0.02737007476389408, -0.03662710636854172, 0.08753152936697006, -0.042322658002376556, 0.080400750041008, 0.019502464681863785, 0.02639380656182766, 0.06980473548173904, 0.025189191102981567, 0.006604326423257589, 0.0025542564690113068, 0.027169231325387955, -0.02592889778316021, 0.024820417165756226, 0.07190921902656555, 0.0003562783822417259, -2.0034611225128174e-05, 0.028185643255710602, 0.05524414777755737, -0.056377850472927094, 0.05749211460351944, -0.11206714808940887, 0.014092111960053444, -0.07882033288478851, 0.03210625424981117, -0.044841863214969635, -0.05514988675713539, -0.012457914650440216, 0.037784747779369354, 0.005642905831336975, -0.02788902446627617, 0.08959950506687164, -0.10215780138969421, 0.006091749295592308, 0.042898669838905334, 0.002201616996899247, 0.0006576459854841232, -0.06829623878002167, -0.06264092028141022, -0.01094837486743927, 0.05509520694613457, -0.0789816677570343, -0.028771881014108658, -0.08245585858821869, -0.01423458382487297, 0.0878710150718689, -0.012129302136600018, 0.05433538556098938, -0.07390329241752625, 0.023409616202116013, -0.00024823378771543503, -0.006896926090121269, -0.02526385709643364, -0.009463988244533539, -0.05235724151134491, 0.00892108865082264, -1.0032062530517578, 0.06050907447934151, -0.04984897002577782, -0.03460738807916641, -0.08482955396175385, -0.0347331166267395, 0.04109402745962143, -0.13470964133739471, 0.006014324724674225, 0.027488304302096367, 0.039521388709545135, 0.08017078787088394, -0.07881030440330505, 0.07101355493068695, -0.056175246834754944, 0.04026605933904648, 0.005125818774104118, -0.07920075953006744, -0.09703131020069122, -0.0878027155995369, 0.08402727544307709, 0.014813213609158993, 0.046897031366825104, 0.006749756634235382, 0.06439056247472763, 0.01656404137611389, -0.029108185321092606, 0.037653036415576935, 0.014206411316990852, 0.04098142683506012, -0.001031830906867981, 0.0036493204534053802, 0.06221266835927963, -0.010457377880811691, 0.032667648047208786, -0.010441839694976807, -0.0279103871434927, -0.02495274692773819, 0.09061058610677719, -0.03442959487438202, -0.04474855214357376, -0.3263932764530182, -0.006015393882989883, 0.0025603994727134705, 0.015855051577091217, -0.0315888375043869, 0.035500623285770416, 0.06815437972545624, 0.020629581063985825, 0.10342080891132355, 0.04347880557179451, -0.007515020668506622, -0.00358378142118454, 0.03005298413336277, -0.13256727159023285, 0.04792781174182892, 0.033355407416820526, 0.004179045557975769, 0.052457042038440704, -0.026793794706463814, 0.08915211260318756, -0.006073454394936562, -0.1318432092666626, 0.04702422022819519, 0.011353805661201477, -0.0013436339795589447, 0.009340593591332436, 0.001077059656381607, 0.0369742214679718, 0.06629205495119095, -0.0034533143043518066, -0.029258958995342255, -0.04766228795051575, 0.016047745943069458, -0.017106549814343452, 0.09523148089647293, 0.04866455867886543, -0.07083985209465027, -0.08191083371639252, 0.026018239557743073, 0.0023604733869433403, 0.03416601940989494, 0.01728406362235546, -0.004814997315406799, -0.016612205654382706, -0.0538250133395195, 0.020327378064393997, 0.035819172859191895, 0.058244261890649796, 0.054273832589387894, 0.046964507550001144, -0.05077172443270683, 0.06897001713514328, 0.0317535437643528, 0.027399731799960136, -0.12254700809717178, -0.005428655538707972, 0.06076935678720474, 0.07685543596744537, -0.04311894625425339, -0.04622272402048111, 0.026968784630298615, 0.04574364423751831, 0.037946946918964386, -0.09208358079195023, 0.011626262217760086, -0.026754308491945267, 0.035493697971105576, 0.044902440160512924, -0.05265404284000397, 0.031315479427576065, -0.0037216804921627045, 0.0087259691208601, -0.032778915017843246, 0.026589347049593925, -0.0556725412607193, -0.06052196025848389, 0.026166796684265137, -0.09377183765172958, -0.08010862022638321, -0.026379119604825974, 0.012647492811083794, -0.016137581318616867, 0.011363716796040535, 0.07124704122543335, -0.0627482682466507, 0.015866240486502647, 0.008684791624546051, -0.02658974938094616, -0.03397680073976517, -0.056342195719480515, 0.12879490852355957, 0.05805929750204086, -0.01272845733910799, 0.038957394659519196, 0.07066351175308228, 0.03899063542485237, 0.01682913675904274, 0.05235758051276207, 0.027967743575572968, -0.0429031141102314, -0.08296981453895569, 0.04049888998270035, -0.03003239631652832, 0.05972497910261154, -0.05485375225543976, 0.01366669312119484, -0.0763116106390953, -0.009886607527732849, 0.08744010329246521, 0.05937058851122856, -0.09688612818717957, -0.016961850225925446, -0.0538414865732193, 0.014044344425201416, -0.058990105986595154, -0.023958412930369377, 0.0017362292855978012, 0.0591210275888443, 0.056617408990859985, -0.03781101480126381, 0.11965524405241013, -0.05543896183371544, 0.059490714222192764, 0.018234215676784515, -0.0106324702501297, -0.06359465420246124, -0.010363604873418808, 0.01955578848719597, 0.06426666676998138, 0.02885258197784424, 0.024001993238925934, 0.023546429350972176, 0.00728335976600647, 0.013264890760183334, 0.022337839007377625, 0.028298119083046913, -0.04575259983539581, -0.022273041307926178, -0.06198582425713539, 0.031618356704711914, 0.02381795085966587, 0.01593412086367607, -0.009891327470541, -0.016925424337387085, 7.595884323120117, 0.016785403713583946, 0.002465506549924612, 0.09682956337928772, 0.007061611860990524, 0.12618310749530792, 0.04015716537833214, 0.02896539308130741, 0.060427866876125336, -0.014782464131712914, -0.04996015876531601, 0.018864572048187256, 0.020438462495803833, 0.06301558017730713, 0.0031717978417873383, -0.022832076996564865, -0.025778133422136307, -0.08372501283884048, -0.002627760171890259, 0.05882846564054489, -0.1040983498096466, -0.09270249307155609, 0.02051907405257225, 0.02625684253871441, 0.049044329673051834, -0.0260879285633564, -0.11670157313346863, 0.05872805789113045, 0.003500591963529587, -0.027131060138344765, -0.019102148711681366, 0.04170514643192291, -0.027258913964033127, -0.12456975877285004, 0.03121934086084366, 0.02029864862561226, -0.040549617260694504, -0.03561848774552345, 0.05545879155397415, -0.0034838393330574036, 0.09907440096139908, 0.058770373463630676, 0.0048113539814949036, -0.02662074938416481, 0.08792594075202942, -0.08916166424751282, 0.08159253746271133, 0.008138731122016907, -0.057604268193244934, -0.01171489991247654, 0.02307475544512272, 0.021666619926691055, -0.060334838926792145, -0.055866822600364685, -0.04583007097244263, 0.056702353060245514, 0.022421274334192276, -0.004077814519405365, 0.01040562242269516, -0.08041103929281235, 0.015078846365213394, 0.03968125954270363, -0.01841675490140915, -0.010444794781506062, -0.09144596755504608, 0.01744714193046093, 0.018506411463022232, -0.03911426663398743, -0.05832776427268982, 0.06596195697784424, 0.07484280318021774, -0.10991685837507248, 0.038327693939208984, 0.07307573407888412, -0.03171425312757492, -0.027769584208726883, -0.03528616577386856, -0.01029135100543499, 0.03729398176074028, 0.06968240439891815, 0.024126548320055008, 0.03558266535401344, -0.09141316264867783, 0.05010637640953064, 0.014409208670258522, 0.014948887750506401, 0.01758694276213646, 0.045673780143260956, 0.020787853747606277, 0.05959611386060715, 0.02845483087003231, 0.13012617826461792, -0.01629679650068283, -0.06195579469203949, -0.009710382670164108, -0.025042390450835228, -0.05499882623553276, -0.042111195623874664, -0.05163890868425369, 0.010354219004511833, 0.030826333910226822, 0.07020153105258942, 0.03481380268931389, 0.025362636893987656, 0.1267421543598175, 0.055359337478876114, 0.012593204155564308, 0.022662179544568062, 0.02778884395956993, 0.06910724937915802, -0.00928263645619154, -0.03980504721403122, 0.015204871073365211, 0.01550329104065895, 0.17054075002670288, -0.0033296067267656326, -0.10793156176805496, 0.07372766733169556, 0.07611244916915894, 0.04525681212544441, 0.07314923405647278, 0.05244526267051697, -0.09573632478713989, -0.012483276426792145, -0.08059626817703247, -0.020521776750683784, -0.1116306334733963, 0.048418596386909485, 0.0038370625115931034, -0.10591490566730499, 0.038442134857177734, 0.01929095759987831, -0.0346670001745224, 0.0006817150861024857, -0.021206194534897804, 0.07296615093946457, 0.030974052846431732, 0.018761295825242996, -0.04601307958364487, 0.06979363411664963, -0.03326016291975975, -0.02199949137866497, -0.023703664541244507, 0.03230930119752884, -0.017362158745527267, 0.08674942702054977, -0.07783113420009613, 0.004348032176494598, -0.011301528662443161, 0.03648599982261658, -0.019048459827899933, -0.07755952328443527, 0.015492532402276993, 0.00880429893732071, -0.03644739091396332, 0.014241312630474567, -0.009727328084409237, 0.06270710378885269, -0.10794052481651306, 0.061572905629873276, 0.12364847958087921, 0.048979535698890686, 0.03856157511472702, 0.07361876219511032, 0.06382962316274643, 0.020914003252983093, -0.01785932667553425, 0.030413789674639702, 0.06816019862890244, -0.0027868635952472687, 0.0814923346042633, -0.07990298420190811, -0.017413141205906868, -0.03548232093453407, -0.05851438641548157, 0.004831980913877487, 0.027092522010207176, 0.01002134382724762, 0.02063601464033127, -0.0017757471650838852, -0.04280848801136017, 0.049868032336235046, 0.004186633974313736, -0.09340991079807281, -0.030718445777893066, 0.042060159146785736, -0.017346171662211418, -0.03855391591787338, -0.055811408907175064, 0.0416940376162529, -0.006371764466166496, 0.05947127565741539, 0.0266104768961668, 0.07973748445510864, 0.0074534304440021515, 0.07556965202093124, -0.08788904547691345, 0.014716863632202148, -0.10171915590763092, 0.13049207627773285, 0.07794738560914993, -0.08078746497631073, 0.051810335367918015, 0.06250350177288055, -0.05885900557041168, -0.0010885782539844513, 0.11064846813678741, 0.024388007819652557, 0.012718677520751953, 0.049233321100473404, -0.01105177216231823, -0.08434309810400009, 0.07232296466827393, 0.019998937845230103, 0.0014215558767318726, 0.0789029598236084, 0.04111576825380325, -0.10014807432889938, -0.040166616439819336, -0.01865464821457863, -0.04905444383621216, 0.014123950153589249, 0.023278947919607162, -0.06844957917928696, -0.040690671652555466, -0.07466942071914673, 0.08964637666940689, -0.05293841287493706, 0.08667565882205963, -0.031384389847517014, 0.06134025380015373, 0.07359496504068375, -0.08536054193973541, 0.009468317031860352, -0.019502125680446625, -0.07044173032045364, -0.0479101687669754, -0.08053410053253174, 0.10401167720556259, -0.03465528413653374, 0.033136580139398575, -0.00813060812652111, 0.059040848165750504, -0.0271473191678524, 0.0968606248497963, -0.0220149215310812, 0.08945682644844055, 0.07458683103322983, -0.07716904580593109, -0.017053794115781784, -0.0505974180996418, 0.04218233376741409, -0.0386175662279129, 0.02499418519437313, 0.10685887187719345, 0.03296331316232681, -0.020173868164420128, 0.0023732781410217285, 0.059911299496889114, -0.05227808281779289, 0.005174163728952408, 9.055156707763672, 0.019337914884090424, -0.006854046136140823, 0.0554468110203743, 0.02001292072236538, -0.09598049521446228, 0.027741272002458572, -0.0126239825040102, -0.050497107207775116, -0.02068137750029564, 0.08092743903398514, 0.017914101481437683, 0.04888513684272766, -0.016344258561730385, -0.016299884766340256, 0.013587413355708122, 0.013000637292861938, -0.04801715165376663, -0.05883163958787918, 0.07545735687017441, -0.06915171444416046, 0.041167933493852615, 0.10114659368991852, -0.024287410080432892, 0.0064996518194675446, -0.020430272445082664, 0.04537486284971237, -0.0006586462259292603, 0.019174113869667053, 0.012222625315189362, -0.05754419416189194, -0.003701793495565653, 0.0023229941725730896, 0.07348759472370148, -0.040433429181575775, -0.05365566909313202, -0.07767759263515472, -0.0957883894443512, 0.10612840205430984, -0.0019974373281002045, -0.03793991357088089, -0.002224924508482218, -0.002399267628788948, -0.021144602447748184, 0.08524007350206375, 0.05973596125841141, -0.023937221616506577, 0.04584852233529091, 0.020635994151234627, 0.010210312902927399, 1.6758970022201538, -0.008921371772885323, -0.02775648795068264, 0.021351177245378494, 8.304417133331299e-05, 0.024413583800196648, 0.00717540830373764, -0.019269896671175957, 0.054629795253276825, -0.11529836803674698, 0.0014577768743038177, 0.08760972321033478, -0.05118513107299805, 0.03777194395661354, -0.05820440500974655, -0.008608069270849228, 0.049829743802547455, 0.005370680242776871, -0.018630240112543106, -0.02500147745013237, -0.022052345797419548, -0.04523371160030365, 0.056227222084999084, -0.08000876754522324, -0.003500722348690033, -0.049601100385189056, -0.10160008072853088, -0.05530896782875061, -0.07769186794757843, 0.009205210953950882, 0.015822898596525192, -0.03141326084733009, 0.06416136771440506, -0.0027246568351984024, -0.03302093222737312, -0.05773935839533806, -0.07977940887212753, 0.05701449513435364, 0.08702471852302551, -0.015140039846301079, 0.019704125821590424, -0.002771097933873534, -0.007031225133687258, 0.025446727871894836, 0.05021391063928604, 0.02902972511947155, -0.029208317399024963, -0.05642895773053169, -0.04793791100382805, 0.010794417932629585, -0.011638816446065903, 0.08386074751615524, 0.012537552043795586, 0.026659289374947548, 0.011124154552817345, -0.04345042258501053, 0.025288261473178864, -0.45623281598091125, 0.028724394738674164, -0.0301639586687088, -0.04248656705021858, 0.013011718168854713, 0.004112452268600464, 0.09538073092699051, 0.034314680844545364, -0.006388399749994278, 0.03916776925325394, -0.003626156598329544, -0.039037786424160004, 0.002625230699777603, 0.06880148500204086, -0.029334699735045433, -0.02631213515996933, -0.0034010675735771656, -0.11647026240825653, -0.02975897677242756, -0.050324972718954086, 0.00658135861158371, 0.014804940670728683, -0.11155685782432556, 0.05259488895535469, -0.029183190315961838, -0.016059838235378265, -0.04597235098481178, -0.03490452468395233, 0.010196750052273273, 0.025834938511252403, 0.05515718460083008, 0.03599926456809044, -0.036955952644348145, -0.09002231061458588, 0.018227454274892807, 0.051543399691581726, -0.03135574981570244, -0.1066061481833458, -0.02844832092523575, -0.020896848291158676, 0.10682953894138336, 0.09436780959367752, -0.0400114469230175, 0.029138635843992233, 0.015328392386436462, -0.048838067799806595, -0.0015977569855749607, -0.08400643616914749, 0.019195474684238434, 0.03270251303911209, -0.0837879404425621, -0.07549766451120377, 0.02710903249680996, 0.006468288600444794, 0.023223882541060448, -0.0034148208796977997, -0.02289075404405594, 0.007544968277215958, -0.020400019362568855, 0.037985071539878845, -0.1133238896727562, -0.06734876334667206, -0.01455942913889885, -0.005597212351858616, 0.05812685936689377, -0.06898432224988937, 0.08118127286434174, 0.10376537591218948, 0.027812881395220757, -0.032069139182567596, 0.026573674753308296, -0.03927307948470116, 0.0794566348195076, 0.052386634051799774, 0.001079648733139038, -0.049194954335689545, 0.24052664637565613, 0.006415598094463348, -0.05454676225781441, 0.011297030374407768, 0.03878367692232132, -0.019618041813373566, -0.07085254043340683, 0.06852328032255173, -0.020858261734247208, -0.1270982027053833, -0.005687568336725235, 0.018538331612944603, 0.06932772696018219, 0.0030440129339694977, -0.05767090246081352, -0.0588364414870739, -0.0923956036567688, 0.08289407938718796, -0.02147037349641323, 0.024193428456783295, -0.01147180050611496, -0.04431275278329849, 0.017558544874191284, -0.009256569668650627, -0.10356713831424713, 0.04380711540579796, -0.023970315232872963, 4.631961822509766, -8.963593482971191, 0.014637507498264313, -0.048634935170412064, -0.012030664831399918, -0.01092524267733097, -0.038416750729084015, 0.07694622129201889, 0.014267083257436752, 0.0012897513806819916, 0.07788534462451935, -0.014239009469747543, 0.010133210569620132, 0.08869591355323792, -0.07452784478664398]\n",
            "768\n"
          ],
          "name": "stdout"
        }
      ]
    },
    {
      "cell_type": "markdown",
      "metadata": {
        "id": "MAyWdcHNTmIf"
      },
      "source": [
        "### Move embeddings to dictionary"
      ]
    },
    {
      "cell_type": "code",
      "metadata": {
        "colab": {
          "base_uri": "https://localhost:8080/"
        },
        "id": "AmSY4IvZTqtM",
        "outputId": "2a0440da-b6da-497d-a4c0-3383c7f83c3a"
      },
      "source": [
        "info2embedding = {}\n",
        "for i in range(len(reduced_embeddings)):\n",
        "    info2embedding[comment_infos[i]] = reduced_embeddings[i]\n",
        "\n",
        "for key in info2embedding:\n",
        "    print(key, ':\\n', info2embedding[key])\n",
        "    break"
      ],
      "execution_count": null,
      "outputs": [
        {
          "output_type": "stream",
          "text": [
            "('Argentina', 47) :\n",
            " [0.05790683627128601, -0.020389284938573837, -0.05915236845612526, -0.038918204605579376, 0.06387216597795486, 0.08327605575323105, -0.09359509497880936, -0.0012470055371522903, 0.10593076050281525, -0.022725239396095276, -0.035745494067668915, 0.01918317936360836, 0.00011213100515305996, -0.014184052124619484, -0.008730756118893623, -0.03663644939661026, -0.002207149751484394, 0.04941564053297043, 0.06737002730369568, -0.004412967711687088, 0.08805371820926666, 0.06810662150382996, 0.042076997458934784, -0.08858568966388702, 0.04747886210680008, 0.010467100888490677, 0.06681830435991287, 0.08818880468606949, 0.0038609355688095093, 0.008509274572134018, -0.05409366264939308, 0.03661562502384186, 0.01395716518163681, -0.0194980688393116, 0.09344112128019333, 0.03765181452035904, 0.0076604485511779785, 0.004985209554433823, 0.055208154022693634, 0.08489901572465897, -0.008693907409906387, -0.02737007476389408, -0.03662710636854172, 0.08753152936697006, -0.042322658002376556, 0.080400750041008, 0.019502464681863785, 0.02639380656182766, 0.06980473548173904, 0.025189191102981567, 0.006604326423257589, 0.0025542564690113068, 0.027169231325387955, -0.02592889778316021, 0.024820417165756226, 0.07190921902656555, 0.0003562783822417259, -2.0034611225128174e-05, 0.028185643255710602, 0.05524414777755737, -0.056377850472927094, 0.05749211460351944, -0.11206714808940887, 0.014092111960053444, -0.07882033288478851, 0.03210625424981117, -0.044841863214969635, -0.05514988675713539, -0.012457914650440216, 0.037784747779369354, 0.005642905831336975, -0.02788902446627617, 0.08959950506687164, -0.10215780138969421, 0.006091749295592308, 0.042898669838905334, 0.002201616996899247, 0.0006576459854841232, -0.06829623878002167, -0.06264092028141022, -0.01094837486743927, 0.05509520694613457, -0.0789816677570343, -0.028771881014108658, -0.08245585858821869, -0.01423458382487297, 0.0878710150718689, -0.012129302136600018, 0.05433538556098938, -0.07390329241752625, 0.023409616202116013, -0.00024823378771543503, -0.006896926090121269, -0.02526385709643364, -0.009463988244533539, -0.05235724151134491, 0.00892108865082264, -1.0032062530517578, 0.06050907447934151, -0.04984897002577782, -0.03460738807916641, -0.08482955396175385, -0.0347331166267395, 0.04109402745962143, -0.13470964133739471, 0.006014324724674225, 0.027488304302096367, 0.039521388709545135, 0.08017078787088394, -0.07881030440330505, 0.07101355493068695, -0.056175246834754944, 0.04026605933904648, 0.005125818774104118, -0.07920075953006744, -0.09703131020069122, -0.0878027155995369, 0.08402727544307709, 0.014813213609158993, 0.046897031366825104, 0.006749756634235382, 0.06439056247472763, 0.01656404137611389, -0.029108185321092606, 0.037653036415576935, 0.014206411316990852, 0.04098142683506012, -0.001031830906867981, 0.0036493204534053802, 0.06221266835927963, -0.010457377880811691, 0.032667648047208786, -0.010441839694976807, -0.0279103871434927, -0.02495274692773819, 0.09061058610677719, -0.03442959487438202, -0.04474855214357376, -0.3263932764530182, -0.006015393882989883, 0.0025603994727134705, 0.015855051577091217, -0.0315888375043869, 0.035500623285770416, 0.06815437972545624, 0.020629581063985825, 0.10342080891132355, 0.04347880557179451, -0.007515020668506622, -0.00358378142118454, 0.03005298413336277, -0.13256727159023285, 0.04792781174182892, 0.033355407416820526, 0.004179045557975769, 0.052457042038440704, -0.026793794706463814, 0.08915211260318756, -0.006073454394936562, -0.1318432092666626, 0.04702422022819519, 0.011353805661201477, -0.0013436339795589447, 0.009340593591332436, 0.001077059656381607, 0.0369742214679718, 0.06629205495119095, -0.0034533143043518066, -0.029258958995342255, -0.04766228795051575, 0.016047745943069458, -0.017106549814343452, 0.09523148089647293, 0.04866455867886543, -0.07083985209465027, -0.08191083371639252, 0.026018239557743073, 0.0023604733869433403, 0.03416601940989494, 0.01728406362235546, -0.004814997315406799, -0.016612205654382706, -0.0538250133395195, 0.020327378064393997, 0.035819172859191895, 0.058244261890649796, 0.054273832589387894, 0.046964507550001144, -0.05077172443270683, 0.06897001713514328, 0.0317535437643528, 0.027399731799960136, -0.12254700809717178, -0.005428655538707972, 0.06076935678720474, 0.07685543596744537, -0.04311894625425339, -0.04622272402048111, 0.026968784630298615, 0.04574364423751831, 0.037946946918964386, -0.09208358079195023, 0.011626262217760086, -0.026754308491945267, 0.035493697971105576, 0.044902440160512924, -0.05265404284000397, 0.031315479427576065, -0.0037216804921627045, 0.0087259691208601, -0.032778915017843246, 0.026589347049593925, -0.0556725412607193, -0.06052196025848389, 0.026166796684265137, -0.09377183765172958, -0.08010862022638321, -0.026379119604825974, 0.012647492811083794, -0.016137581318616867, 0.011363716796040535, 0.07124704122543335, -0.0627482682466507, 0.015866240486502647, 0.008684791624546051, -0.02658974938094616, -0.03397680073976517, -0.056342195719480515, 0.12879490852355957, 0.05805929750204086, -0.01272845733910799, 0.038957394659519196, 0.07066351175308228, 0.03899063542485237, 0.01682913675904274, 0.05235758051276207, 0.027967743575572968, -0.0429031141102314, -0.08296981453895569, 0.04049888998270035, -0.03003239631652832, 0.05972497910261154, -0.05485375225543976, 0.01366669312119484, -0.0763116106390953, -0.009886607527732849, 0.08744010329246521, 0.05937058851122856, -0.09688612818717957, -0.016961850225925446, -0.0538414865732193, 0.014044344425201416, -0.058990105986595154, -0.023958412930369377, 0.0017362292855978012, 0.0591210275888443, 0.056617408990859985, -0.03781101480126381, 0.11965524405241013, -0.05543896183371544, 0.059490714222192764, 0.018234215676784515, -0.0106324702501297, -0.06359465420246124, -0.010363604873418808, 0.01955578848719597, 0.06426666676998138, 0.02885258197784424, 0.024001993238925934, 0.023546429350972176, 0.00728335976600647, 0.013264890760183334, 0.022337839007377625, 0.028298119083046913, -0.04575259983539581, -0.022273041307926178, -0.06198582425713539, 0.031618356704711914, 0.02381795085966587, 0.01593412086367607, -0.009891327470541, -0.016925424337387085, 7.595884323120117, 0.016785403713583946, 0.002465506549924612, 0.09682956337928772, 0.007061611860990524, 0.12618310749530792, 0.04015716537833214, 0.02896539308130741, 0.060427866876125336, -0.014782464131712914, -0.04996015876531601, 0.018864572048187256, 0.020438462495803833, 0.06301558017730713, 0.0031717978417873383, -0.022832076996564865, -0.025778133422136307, -0.08372501283884048, -0.002627760171890259, 0.05882846564054489, -0.1040983498096466, -0.09270249307155609, 0.02051907405257225, 0.02625684253871441, 0.049044329673051834, -0.0260879285633564, -0.11670157313346863, 0.05872805789113045, 0.003500591963529587, -0.027131060138344765, -0.019102148711681366, 0.04170514643192291, -0.027258913964033127, -0.12456975877285004, 0.03121934086084366, 0.02029864862561226, -0.040549617260694504, -0.03561848774552345, 0.05545879155397415, -0.0034838393330574036, 0.09907440096139908, 0.058770373463630676, 0.0048113539814949036, -0.02662074938416481, 0.08792594075202942, -0.08916166424751282, 0.08159253746271133, 0.008138731122016907, -0.057604268193244934, -0.01171489991247654, 0.02307475544512272, 0.021666619926691055, -0.060334838926792145, -0.055866822600364685, -0.04583007097244263, 0.056702353060245514, 0.022421274334192276, -0.004077814519405365, 0.01040562242269516, -0.08041103929281235, 0.015078846365213394, 0.03968125954270363, -0.01841675490140915, -0.010444794781506062, -0.09144596755504608, 0.01744714193046093, 0.018506411463022232, -0.03911426663398743, -0.05832776427268982, 0.06596195697784424, 0.07484280318021774, -0.10991685837507248, 0.038327693939208984, 0.07307573407888412, -0.03171425312757492, -0.027769584208726883, -0.03528616577386856, -0.01029135100543499, 0.03729398176074028, 0.06968240439891815, 0.024126548320055008, 0.03558266535401344, -0.09141316264867783, 0.05010637640953064, 0.014409208670258522, 0.014948887750506401, 0.01758694276213646, 0.045673780143260956, 0.020787853747606277, 0.05959611386060715, 0.02845483087003231, 0.13012617826461792, -0.01629679650068283, -0.06195579469203949, -0.009710382670164108, -0.025042390450835228, -0.05499882623553276, -0.042111195623874664, -0.05163890868425369, 0.010354219004511833, 0.030826333910226822, 0.07020153105258942, 0.03481380268931389, 0.025362636893987656, 0.1267421543598175, 0.055359337478876114, 0.012593204155564308, 0.022662179544568062, 0.02778884395956993, 0.06910724937915802, -0.00928263645619154, -0.03980504721403122, 0.015204871073365211, 0.01550329104065895, 0.17054075002670288, -0.0033296067267656326, -0.10793156176805496, 0.07372766733169556, 0.07611244916915894, 0.04525681212544441, 0.07314923405647278, 0.05244526267051697, -0.09573632478713989, -0.012483276426792145, -0.08059626817703247, -0.020521776750683784, -0.1116306334733963, 0.048418596386909485, 0.0038370625115931034, -0.10591490566730499, 0.038442134857177734, 0.01929095759987831, -0.0346670001745224, 0.0006817150861024857, -0.021206194534897804, 0.07296615093946457, 0.030974052846431732, 0.018761295825242996, -0.04601307958364487, 0.06979363411664963, -0.03326016291975975, -0.02199949137866497, -0.023703664541244507, 0.03230930119752884, -0.017362158745527267, 0.08674942702054977, -0.07783113420009613, 0.004348032176494598, -0.011301528662443161, 0.03648599982261658, -0.019048459827899933, -0.07755952328443527, 0.015492532402276993, 0.00880429893732071, -0.03644739091396332, 0.014241312630474567, -0.009727328084409237, 0.06270710378885269, -0.10794052481651306, 0.061572905629873276, 0.12364847958087921, 0.048979535698890686, 0.03856157511472702, 0.07361876219511032, 0.06382962316274643, 0.020914003252983093, -0.01785932667553425, 0.030413789674639702, 0.06816019862890244, -0.0027868635952472687, 0.0814923346042633, -0.07990298420190811, -0.017413141205906868, -0.03548232093453407, -0.05851438641548157, 0.004831980913877487, 0.027092522010207176, 0.01002134382724762, 0.02063601464033127, -0.0017757471650838852, -0.04280848801136017, 0.049868032336235046, 0.004186633974313736, -0.09340991079807281, -0.030718445777893066, 0.042060159146785736, -0.017346171662211418, -0.03855391591787338, -0.055811408907175064, 0.0416940376162529, -0.006371764466166496, 0.05947127565741539, 0.0266104768961668, 0.07973748445510864, 0.0074534304440021515, 0.07556965202093124, -0.08788904547691345, 0.014716863632202148, -0.10171915590763092, 0.13049207627773285, 0.07794738560914993, -0.08078746497631073, 0.051810335367918015, 0.06250350177288055, -0.05885900557041168, -0.0010885782539844513, 0.11064846813678741, 0.024388007819652557, 0.012718677520751953, 0.049233321100473404, -0.01105177216231823, -0.08434309810400009, 0.07232296466827393, 0.019998937845230103, 0.0014215558767318726, 0.0789029598236084, 0.04111576825380325, -0.10014807432889938, -0.040166616439819336, -0.01865464821457863, -0.04905444383621216, 0.014123950153589249, 0.023278947919607162, -0.06844957917928696, -0.040690671652555466, -0.07466942071914673, 0.08964637666940689, -0.05293841287493706, 0.08667565882205963, -0.031384389847517014, 0.06134025380015373, 0.07359496504068375, -0.08536054193973541, 0.009468317031860352, -0.019502125680446625, -0.07044173032045364, -0.0479101687669754, -0.08053410053253174, 0.10401167720556259, -0.03465528413653374, 0.033136580139398575, -0.00813060812652111, 0.059040848165750504, -0.0271473191678524, 0.0968606248497963, -0.0220149215310812, 0.08945682644844055, 0.07458683103322983, -0.07716904580593109, -0.017053794115781784, -0.0505974180996418, 0.04218233376741409, -0.0386175662279129, 0.02499418519437313, 0.10685887187719345, 0.03296331316232681, -0.020173868164420128, 0.0023732781410217285, 0.059911299496889114, -0.05227808281779289, 0.005174163728952408, 9.055156707763672, 0.019337914884090424, -0.006854046136140823, 0.0554468110203743, 0.02001292072236538, -0.09598049521446228, 0.027741272002458572, -0.0126239825040102, -0.050497107207775116, -0.02068137750029564, 0.08092743903398514, 0.017914101481437683, 0.04888513684272766, -0.016344258561730385, -0.016299884766340256, 0.013587413355708122, 0.013000637292861938, -0.04801715165376663, -0.05883163958787918, 0.07545735687017441, -0.06915171444416046, 0.041167933493852615, 0.10114659368991852, -0.024287410080432892, 0.0064996518194675446, -0.020430272445082664, 0.04537486284971237, -0.0006586462259292603, 0.019174113869667053, 0.012222625315189362, -0.05754419416189194, -0.003701793495565653, 0.0023229941725730896, 0.07348759472370148, -0.040433429181575775, -0.05365566909313202, -0.07767759263515472, -0.0957883894443512, 0.10612840205430984, -0.0019974373281002045, -0.03793991357088089, -0.002224924508482218, -0.002399267628788948, -0.021144602447748184, 0.08524007350206375, 0.05973596125841141, -0.023937221616506577, 0.04584852233529091, 0.020635994151234627, 0.010210312902927399, 1.6758970022201538, -0.008921371772885323, -0.02775648795068264, 0.021351177245378494, 8.304417133331299e-05, 0.024413583800196648, 0.00717540830373764, -0.019269896671175957, 0.054629795253276825, -0.11529836803674698, 0.0014577768743038177, 0.08760972321033478, -0.05118513107299805, 0.03777194395661354, -0.05820440500974655, -0.008608069270849228, 0.049829743802547455, 0.005370680242776871, -0.018630240112543106, -0.02500147745013237, -0.022052345797419548, -0.04523371160030365, 0.056227222084999084, -0.08000876754522324, -0.003500722348690033, -0.049601100385189056, -0.10160008072853088, -0.05530896782875061, -0.07769186794757843, 0.009205210953950882, 0.015822898596525192, -0.03141326084733009, 0.06416136771440506, -0.0027246568351984024, -0.03302093222737312, -0.05773935839533806, -0.07977940887212753, 0.05701449513435364, 0.08702471852302551, -0.015140039846301079, 0.019704125821590424, -0.002771097933873534, -0.007031225133687258, 0.025446727871894836, 0.05021391063928604, 0.02902972511947155, -0.029208317399024963, -0.05642895773053169, -0.04793791100382805, 0.010794417932629585, -0.011638816446065903, 0.08386074751615524, 0.012537552043795586, 0.026659289374947548, 0.011124154552817345, -0.04345042258501053, 0.025288261473178864, -0.45623281598091125, 0.028724394738674164, -0.0301639586687088, -0.04248656705021858, 0.013011718168854713, 0.004112452268600464, 0.09538073092699051, 0.034314680844545364, -0.006388399749994278, 0.03916776925325394, -0.003626156598329544, -0.039037786424160004, 0.002625230699777603, 0.06880148500204086, -0.029334699735045433, -0.02631213515996933, -0.0034010675735771656, -0.11647026240825653, -0.02975897677242756, -0.050324972718954086, 0.00658135861158371, 0.014804940670728683, -0.11155685782432556, 0.05259488895535469, -0.029183190315961838, -0.016059838235378265, -0.04597235098481178, -0.03490452468395233, 0.010196750052273273, 0.025834938511252403, 0.05515718460083008, 0.03599926456809044, -0.036955952644348145, -0.09002231061458588, 0.018227454274892807, 0.051543399691581726, -0.03135574981570244, -0.1066061481833458, -0.02844832092523575, -0.020896848291158676, 0.10682953894138336, 0.09436780959367752, -0.0400114469230175, 0.029138635843992233, 0.015328392386436462, -0.048838067799806595, -0.0015977569855749607, -0.08400643616914749, 0.019195474684238434, 0.03270251303911209, -0.0837879404425621, -0.07549766451120377, 0.02710903249680996, 0.006468288600444794, 0.023223882541060448, -0.0034148208796977997, -0.02289075404405594, 0.007544968277215958, -0.020400019362568855, 0.037985071539878845, -0.1133238896727562, -0.06734876334667206, -0.01455942913889885, -0.005597212351858616, 0.05812685936689377, -0.06898432224988937, 0.08118127286434174, 0.10376537591218948, 0.027812881395220757, -0.032069139182567596, 0.026573674753308296, -0.03927307948470116, 0.0794566348195076, 0.052386634051799774, 0.001079648733139038, -0.049194954335689545, 0.24052664637565613, 0.006415598094463348, -0.05454676225781441, 0.011297030374407768, 0.03878367692232132, -0.019618041813373566, -0.07085254043340683, 0.06852328032255173, -0.020858261734247208, -0.1270982027053833, -0.005687568336725235, 0.018538331612944603, 0.06932772696018219, 0.0030440129339694977, -0.05767090246081352, -0.0588364414870739, -0.0923956036567688, 0.08289407938718796, -0.02147037349641323, 0.024193428456783295, -0.01147180050611496, -0.04431275278329849, 0.017558544874191284, -0.009256569668650627, -0.10356713831424713, 0.04380711540579796, -0.023970315232872963, 4.631961822509766, -8.963593482971191, 0.014637507498264313, -0.048634935170412064, -0.012030664831399918, -0.01092524267733097, -0.038416750729084015, 0.07694622129201889, 0.014267083257436752, 0.0012897513806819916, 0.07788534462451935, -0.014239009469747543, 0.010133210569620132, 0.08869591355323792, -0.07452784478664398]\n"
          ],
          "name": "stdout"
        }
      ]
    },
    {
      "cell_type": "markdown",
      "metadata": {
        "id": "eAZsJbZFU6Nr"
      },
      "source": [
        "# 4. Creating Pandas dataframe"
      ]
    },
    {
      "cell_type": "code",
      "metadata": {
        "colab": {
          "base_uri": "https://localhost:8080/"
        },
        "id": "eKPE4LjpVCYA",
        "outputId": "79c0e985-b003-4629-8229-81d3ced4b8c6"
      },
      "source": [
        "features = {'time_idx': [], 'country': [], 'region': [], 'confirmed-cases': []}\n",
        "\n",
        "for i in range(COMMENT_DIMENSIONS):\n",
        "    features['comment-embedding' + str(i)] = []\n",
        "\n",
        "dataframe = pd.DataFrame(features)\n",
        "\n",
        "for country in tqdm(regulations):\n",
        "    for day in range(number_of_days):\n",
        "\n",
        "        new_entry = {}\n",
        "        new_entry['country'] = country\n",
        "        new_entry['time_idx'] = day\n",
        "        new_entry['region'] = country2region[country]\n",
        "        new_entry['confirmed-cases'] = time_series_confirmed_cases[country][day]\n",
        "            \n",
        "        embedding = [0 for i in range(COMMENT_DIMENSIONS)]\n",
        "        if (country, day) in info2embedding:\n",
        "            embedding = info2embedding[(country, day)]\n",
        "\n",
        "        for i in range(COMMENT_DIMENSIONS):\n",
        "            new_entry['comment-embedding' + str(i)] = embedding[i]\n",
        "        \n",
        "        dataframe = dataframe.append(new_entry, ignore_index=True)\n",
        "\n",
        "print(dataframe.info())\n",
        "dataframe.to_excel('data2.xlsx', sheet_name='main', index=False)\n",
        "dataframe.to_excel('/content/drive/MyDrive/DL-project/data2.xlsx', sheet_name='main', index=False)"
      ],
      "execution_count": null,
      "outputs": [
        {
          "output_type": "stream",
          "text": [
            "\n",
            "\n",
            "\n",
            "  0%|          | 0/37 [00:00<?, ?it/s]\u001b[A\u001b[A\u001b[A\n",
            "\n",
            "\n",
            "  3%|▎         | 1/37 [00:34<20:44, 34.56s/it]\u001b[A\u001b[A\u001b[A\n",
            "\n",
            "\n",
            "  5%|▌         | 2/37 [01:10<20:21, 34.89s/it]\u001b[A\u001b[A\u001b[A\n",
            "\n",
            "\n",
            "  8%|▊         | 3/37 [01:46<20:03, 35.40s/it]\u001b[A\u001b[A\u001b[A\n",
            "\n",
            "\n",
            " 11%|█         | 4/37 [02:24<19:50, 36.07s/it]\u001b[A\u001b[A\u001b[A\n",
            "\n",
            "\n",
            " 14%|█▎        | 5/37 [03:03<19:41, 36.91s/it]\u001b[A\u001b[A\u001b[A\n",
            "\n",
            "\n",
            " 16%|█▌        | 6/37 [03:42<19:29, 37.73s/it]\u001b[A\u001b[A\u001b[A\n",
            "\n",
            "\n",
            " 19%|█▉        | 7/37 [04:24<19:23, 38.78s/it]\u001b[A\u001b[A\u001b[A\n",
            "\n",
            "\n",
            " 22%|██▏       | 8/37 [05:05<19:08, 39.61s/it]\u001b[A\u001b[A\u001b[A\n",
            "\n",
            "\n",
            " 24%|██▍       | 9/37 [05:49<19:00, 40.74s/it]\u001b[A\u001b[A\u001b[A\n",
            "\n",
            "\n",
            " 27%|██▋       | 10/37 [06:33<18:50, 41.87s/it]\u001b[A\u001b[A\u001b[A\n",
            "\n",
            "\n",
            " 30%|██▉       | 11/37 [07:19<18:42, 43.16s/it]\u001b[A\u001b[A\u001b[A\n",
            "\n",
            "\n",
            " 32%|███▏      | 12/37 [08:06<18:24, 44.17s/it]\u001b[A\u001b[A\u001b[A\n",
            "\n",
            "\n",
            " 35%|███▌      | 13/37 [08:54<18:07, 45.32s/it]\u001b[A\u001b[A\u001b[A\n",
            "\n",
            "\n",
            " 38%|███▊      | 14/37 [09:43<17:48, 46.46s/it]\u001b[A\u001b[A\u001b[A\n",
            "\n",
            "\n",
            " 41%|████      | 15/37 [10:34<17:33, 47.89s/it]\u001b[A\u001b[A\u001b[A\n",
            "\n",
            "\n",
            " 43%|████▎     | 16/37 [11:28<17:22, 49.65s/it]\u001b[A\u001b[A\u001b[A\n",
            "\n",
            "\n",
            " 46%|████▌     | 17/37 [12:22<16:58, 50.94s/it]\u001b[A\u001b[A\u001b[A\n",
            "\n",
            "\n",
            " 49%|████▊     | 18/37 [13:17<16:33, 52.26s/it]\u001b[A\u001b[A\u001b[A\n",
            "\n",
            "\n",
            " 51%|█████▏    | 19/37 [14:15<16:07, 53.78s/it]\u001b[A\u001b[A\u001b[A\n",
            "\n",
            "\n",
            " 54%|█████▍    | 20/37 [15:13<15:37, 55.13s/it]\u001b[A\u001b[A\u001b[A\n",
            "\n",
            "\n",
            " 57%|█████▋    | 21/37 [16:12<15:00, 56.26s/it]\u001b[A\u001b[A\u001b[A\n",
            "\n",
            "\n",
            " 59%|█████▉    | 22/37 [17:12<14:20, 57.35s/it]\u001b[A\u001b[A\u001b[A\n",
            "\n",
            "\n",
            " 62%|██████▏   | 23/37 [18:13<13:37, 58.41s/it]\u001b[A\u001b[A\u001b[A\n",
            "\n",
            "\n",
            " 65%|██████▍   | 24/37 [19:14<12:53, 59.47s/it]\u001b[A\u001b[A\u001b[A\n",
            "\n",
            "\n",
            " 68%|██████▊   | 25/37 [20:18<12:06, 60.55s/it]\u001b[A\u001b[A\u001b[A\n",
            "\n",
            "\n",
            " 70%|███████   | 26/37 [21:20<11:14, 61.28s/it]\u001b[A\u001b[A\u001b[A\n",
            "\n",
            "\n",
            " 73%|███████▎  | 27/37 [22:25<10:21, 62.19s/it]\u001b[A\u001b[A\u001b[A\n",
            "\n",
            "\n",
            " 76%|███████▌  | 28/37 [23:31<09:29, 63.29s/it]\u001b[A\u001b[A\u001b[A\n",
            "\n",
            "\n",
            " 78%|███████▊  | 29/37 [24:38<08:34, 64.36s/it]\u001b[A\u001b[A\u001b[A\n",
            "\n",
            "\n",
            " 81%|████████  | 30/37 [25:45<07:37, 65.39s/it]\u001b[A\u001b[A\u001b[A\n",
            "\n",
            "\n",
            " 84%|████████▍ | 31/37 [26:54<06:38, 66.39s/it]\u001b[A\u001b[A\u001b[A\n",
            "\n",
            "\n",
            " 86%|████████▋ | 32/37 [28:04<05:37, 67.41s/it]\u001b[A\u001b[A\u001b[A\n",
            "\n",
            "\n",
            " 89%|████████▉ | 33/37 [29:15<04:33, 68.45s/it]\u001b[A\u001b[A\u001b[A\n",
            "\n",
            "\n",
            " 92%|█████████▏| 34/37 [30:27<03:28, 69.50s/it]\u001b[A\u001b[A\u001b[A\n",
            "\n",
            "\n",
            " 95%|█████████▍| 35/37 [31:39<02:20, 70.36s/it]\u001b[A\u001b[A\u001b[A\n",
            "\n",
            "\n",
            " 97%|█████████▋| 36/37 [32:51<01:10, 70.78s/it]\u001b[A\u001b[A\u001b[A\n",
            "\n",
            "\n",
            "100%|██████████| 37/37 [34:03<00:00, 55.24s/it]\n"
          ],
          "name": "stderr"
        },
        {
          "output_type": "stream",
          "text": [
            "<class 'pandas.core.frame.DataFrame'>\n",
            "RangeIndex: 15688 entries, 0 to 15687\n",
            "Columns: 772 entries, time_idx to comment-embedding767\n",
            "dtypes: float64(770), object(2)\n",
            "memory usage: 92.4+ MB\n",
            "None\n"
          ],
          "name": "stdout"
        }
      ]
    },
    {
      "cell_type": "markdown",
      "metadata": {
        "id": "6-8ZeCKctsO_"
      },
      "source": [
        "# 5. Testing TFT usage"
      ]
    },
    {
      "cell_type": "markdown",
      "metadata": {
        "id": "PmvsAiNy7hvw"
      },
      "source": [
        "### Reading data file"
      ]
    },
    {
      "cell_type": "code",
      "metadata": {
        "colab": {
          "base_uri": "https://localhost:8080/"
        },
        "id": "clf_hb25untG",
        "outputId": "8ac5475b-7ca5-4772-c370-3d79a4f4353f"
      },
      "source": [
        "xl_file = pd.ExcelFile('data.xlsx')\n",
        "\n",
        "sheets = {sheet_name: xl_file.parse(sheet_name) \n",
        "          for sheet_name in xl_file.sheet_names}\n",
        "\n",
        "data = sheets['main']\n",
        "\n",
        "print('\\n', dataframe.info(), '\\n')"
      ],
      "execution_count": null,
      "outputs": [
        {
          "output_type": "stream",
          "text": [
            "<class 'pandas.core.frame.DataFrame'>\n",
            "RangeIndex: 74200 entries, 0 to 74199\n",
            "Columns: 126 entries, time_idx to negative-comment-embedding19\n",
            "dtypes: float64(124), object(2)\n",
            "memory usage: 71.3+ MB\n",
            "\n",
            " None \n",
            "\n"
          ],
          "name": "stdout"
        }
      ]
    },
    {
      "cell_type": "markdown",
      "metadata": {
        "id": "5OSvmmaD7nPG"
      },
      "source": [
        "### Entering training data"
      ]
    },
    {
      "cell_type": "code",
      "metadata": {
        "colab": {
          "base_uri": "https://localhost:8080/",
          "height": 1000
        },
        "id": "WbnzUv4RuV4v",
        "outputId": "26bcf276-b6a9-49ea-fdba-9423007bb118"
      },
      "source": [
        "max_prediction_length = 15\n",
        "max_encoder_length = 60\n",
        "training_cutoff = data[\"time_idx\"].max() - max_prediction_length\n",
        "\n",
        "feature_list = []\n",
        "for log_type in ['positive', 'negative']:\n",
        "    for category in category_dic:\n",
        "        feature_list.append(log_type + '-' + category)\n",
        "    for measure in measure_dic:\n",
        "        feature_list.append(log_type + '-' + measure) \n",
        "    for i in range(COMMENT_DIMENSIONS):\n",
        "        feature_list.append(log_type + '-comment-embedding' + str(i)) \n",
        "\n",
        "training = TimeSeriesDataSet(\n",
        "    data[lambda x: x.time_idx <= training_cutoff],\n",
        "    time_idx=\"time_idx\",\n",
        "    target=\"confirmed-cases\",\n",
        "    group_ids=[\"country\"],\n",
        "    min_encoder_length=max_encoder_length // 2,  # keep encoder length long (as it is in the validation set)\n",
        "    max_encoder_length=max_encoder_length,\n",
        "    min_prediction_length=1,\n",
        "    max_prediction_length=max_prediction_length,\n",
        "    static_categoricals=[\"region\"],\n",
        "    static_reals=[],\n",
        "    time_varying_known_categoricals=[],  # We can further add information like \"special_days\" and \"month\"\n",
        "    variable_groups={},  # group of categorical variables can be treated as one variable\n",
        "    time_varying_known_reals=[\"time_idx\"],\n",
        "    time_varying_unknown_categoricals=[],\n",
        "    time_varying_unknown_reals=feature_list,\n",
        "    add_relative_time_idx=True,\n",
        "    add_target_scales=True,\n",
        "    add_encoder_length=True,\n",
        ")\n",
        "\n",
        "# create validation set (predict=True) which means to predict the last max_prediction_length points in time\n",
        "# for each series\n",
        "validation = TimeSeriesDataSet.from_dataset(training, data, predict=True, stop_randomization=True)\n",
        "\n",
        "# create dataloaders for model\n",
        "batch_size = 128  # set this between 32 to 128\n",
        "train_dataloader = training.to_dataloader(train=True, batch_size=batch_size, num_workers=0)\n",
        "val_dataloader = validation.to_dataloader(train=False, batch_size=batch_size * 10, num_workers=0)"
      ],
      "execution_count": null,
      "outputs": [
        {
          "output_type": "stream",
          "text": [
            "/usr/local/lib/python3.7/dist-packages/pytorch_forecasting/data/timeseries.py:517: UserWarning: Target scales will be only added for continous targets\n",
            "  warnings.warn(\"Target scales will be only added for continous targets\", UserWarning)\n"
          ],
          "name": "stderr"
        },
        {
          "output_type": "error",
          "ename": "KeyError",
          "evalue": "ignored",
          "traceback": [
            "\u001b[0;31m---------------------------------------------------------------------------\u001b[0m",
            "\u001b[0;31mKeyError\u001b[0m                                  Traceback (most recent call last)",
            "\u001b[0;32m/usr/local/lib/python3.7/dist-packages/pytorch_forecasting/data/encoders.py\u001b[0m in \u001b[0;36mtransform\u001b[0;34m(self, y, return_norm, target_scale, ignore_na)\u001b[0m\n\u001b[1;32m    131\u001b[0m                 \u001b[0;32mtry\u001b[0m\u001b[0;34m:\u001b[0m\u001b[0;34m\u001b[0m\u001b[0;34m\u001b[0m\u001b[0m\n\u001b[0;32m--> 132\u001b[0;31m                     \u001b[0mencoded\u001b[0m \u001b[0;34m=\u001b[0m \u001b[0;34m[\u001b[0m\u001b[0mself\u001b[0m\u001b[0;34m.\u001b[0m\u001b[0mclasses_\u001b[0m\u001b[0;34m[\u001b[0m\u001b[0mv\u001b[0m\u001b[0;34m]\u001b[0m \u001b[0;32mfor\u001b[0m \u001b[0mv\u001b[0m \u001b[0;32min\u001b[0m \u001b[0my\u001b[0m\u001b[0;34m]\u001b[0m\u001b[0;34m\u001b[0m\u001b[0;34m\u001b[0m\u001b[0m\n\u001b[0m\u001b[1;32m    133\u001b[0m                 \u001b[0;32mexcept\u001b[0m \u001b[0mKeyError\u001b[0m \u001b[0;32mas\u001b[0m \u001b[0me\u001b[0m\u001b[0;34m:\u001b[0m\u001b[0;34m\u001b[0m\u001b[0;34m\u001b[0m\u001b[0m\n",
            "\u001b[0;32m/usr/local/lib/python3.7/dist-packages/pytorch_forecasting/data/encoders.py\u001b[0m in \u001b[0;36m<listcomp>\u001b[0;34m(.0)\u001b[0m\n\u001b[1;32m    131\u001b[0m                 \u001b[0;32mtry\u001b[0m\u001b[0;34m:\u001b[0m\u001b[0;34m\u001b[0m\u001b[0;34m\u001b[0m\u001b[0m\n\u001b[0;32m--> 132\u001b[0;31m                     \u001b[0mencoded\u001b[0m \u001b[0;34m=\u001b[0m \u001b[0;34m[\u001b[0m\u001b[0mself\u001b[0m\u001b[0;34m.\u001b[0m\u001b[0mclasses_\u001b[0m\u001b[0;34m[\u001b[0m\u001b[0mv\u001b[0m\u001b[0;34m]\u001b[0m \u001b[0;32mfor\u001b[0m \u001b[0mv\u001b[0m \u001b[0;32min\u001b[0m \u001b[0my\u001b[0m\u001b[0;34m]\u001b[0m\u001b[0;34m\u001b[0m\u001b[0;34m\u001b[0m\u001b[0m\n\u001b[0m\u001b[1;32m    133\u001b[0m                 \u001b[0;32mexcept\u001b[0m \u001b[0mKeyError\u001b[0m \u001b[0;32mas\u001b[0m \u001b[0me\u001b[0m\u001b[0;34m:\u001b[0m\u001b[0;34m\u001b[0m\u001b[0;34m\u001b[0m\u001b[0m\n",
            "\u001b[0;31mKeyError\u001b[0m: 6057",
            "\nDuring handling of the above exception, another exception occurred:\n",
            "\u001b[0;31mKeyError\u001b[0m                                  Traceback (most recent call last)",
            "\u001b[0;32m<ipython-input-25-57dfd8753c8b>\u001b[0m in \u001b[0;36m<module>\u001b[0;34m()\u001b[0m\n\u001b[1;32m     35\u001b[0m \u001b[0;31m# create validation set (predict=True) which means to predict the last max_prediction_length points in time\u001b[0m\u001b[0;34m\u001b[0m\u001b[0;34m\u001b[0m\u001b[0;34m\u001b[0m\u001b[0m\n\u001b[1;32m     36\u001b[0m \u001b[0;31m# for each series\u001b[0m\u001b[0;34m\u001b[0m\u001b[0;34m\u001b[0m\u001b[0;34m\u001b[0m\u001b[0m\n\u001b[0;32m---> 37\u001b[0;31m \u001b[0mvalidation\u001b[0m \u001b[0;34m=\u001b[0m \u001b[0mTimeSeriesDataSet\u001b[0m\u001b[0;34m.\u001b[0m\u001b[0mfrom_dataset\u001b[0m\u001b[0;34m(\u001b[0m\u001b[0mtraining\u001b[0m\u001b[0;34m,\u001b[0m \u001b[0mdata\u001b[0m\u001b[0;34m,\u001b[0m \u001b[0mpredict\u001b[0m\u001b[0;34m=\u001b[0m\u001b[0;32mTrue\u001b[0m\u001b[0;34m,\u001b[0m \u001b[0mstop_randomization\u001b[0m\u001b[0;34m=\u001b[0m\u001b[0;32mTrue\u001b[0m\u001b[0;34m)\u001b[0m\u001b[0;34m\u001b[0m\u001b[0;34m\u001b[0m\u001b[0m\n\u001b[0m\u001b[1;32m     38\u001b[0m \u001b[0;34m\u001b[0m\u001b[0m\n\u001b[1;32m     39\u001b[0m \u001b[0;31m# create dataloaders for model\u001b[0m\u001b[0;34m\u001b[0m\u001b[0;34m\u001b[0m\u001b[0;34m\u001b[0m\u001b[0m\n",
            "\u001b[0;32m/usr/local/lib/python3.7/dist-packages/pytorch_forecasting/data/timeseries.py\u001b[0m in \u001b[0;36mfrom_dataset\u001b[0;34m(cls, dataset, data, stop_randomization, predict, **update_kwargs)\u001b[0m\n\u001b[1;32m   1098\u001b[0m         \"\"\"\n\u001b[1;32m   1099\u001b[0m         return cls.from_parameters(\n\u001b[0;32m-> 1100\u001b[0;31m             \u001b[0mdataset\u001b[0m\u001b[0;34m.\u001b[0m\u001b[0mget_parameters\u001b[0m\u001b[0;34m(\u001b[0m\u001b[0;34m)\u001b[0m\u001b[0;34m,\u001b[0m \u001b[0mdata\u001b[0m\u001b[0;34m,\u001b[0m \u001b[0mstop_randomization\u001b[0m\u001b[0;34m=\u001b[0m\u001b[0mstop_randomization\u001b[0m\u001b[0;34m,\u001b[0m \u001b[0mpredict\u001b[0m\u001b[0;34m=\u001b[0m\u001b[0mpredict\u001b[0m\u001b[0;34m,\u001b[0m \u001b[0;34m**\u001b[0m\u001b[0mupdate_kwargs\u001b[0m\u001b[0;34m\u001b[0m\u001b[0;34m\u001b[0m\u001b[0m\n\u001b[0m\u001b[1;32m   1101\u001b[0m         )\n\u001b[1;32m   1102\u001b[0m \u001b[0;34m\u001b[0m\u001b[0m\n",
            "\u001b[0;32m/usr/local/lib/python3.7/dist-packages/pytorch_forecasting/data/timeseries.py\u001b[0m in \u001b[0;36mfrom_parameters\u001b[0;34m(cls, parameters, data, stop_randomization, predict, **update_kwargs)\u001b[0m\n\u001b[1;32m   1143\u001b[0m         \u001b[0mparameters\u001b[0m\u001b[0;34m.\u001b[0m\u001b[0mupdate\u001b[0m\u001b[0;34m(\u001b[0m\u001b[0mupdate_kwargs\u001b[0m\u001b[0;34m)\u001b[0m\u001b[0;34m\u001b[0m\u001b[0;34m\u001b[0m\u001b[0m\n\u001b[1;32m   1144\u001b[0m \u001b[0;34m\u001b[0m\u001b[0m\n\u001b[0;32m-> 1145\u001b[0;31m         \u001b[0mnew\u001b[0m \u001b[0;34m=\u001b[0m \u001b[0mcls\u001b[0m\u001b[0;34m(\u001b[0m\u001b[0mdata\u001b[0m\u001b[0;34m,\u001b[0m \u001b[0;34m**\u001b[0m\u001b[0mparameters\u001b[0m\u001b[0;34m)\u001b[0m\u001b[0;34m\u001b[0m\u001b[0;34m\u001b[0m\u001b[0m\n\u001b[0m\u001b[1;32m   1146\u001b[0m         \u001b[0;32mreturn\u001b[0m \u001b[0mnew\u001b[0m\u001b[0;34m\u001b[0m\u001b[0;34m\u001b[0m\u001b[0m\n\u001b[1;32m   1147\u001b[0m \u001b[0;34m\u001b[0m\u001b[0m\n",
            "\u001b[0;32m/usr/local/lib/python3.7/dist-packages/pytorch_forecasting/data/timeseries.py\u001b[0m in \u001b[0;36m__init__\u001b[0;34m(self, data, time_idx, target, group_ids, weight, max_encoder_length, min_encoder_length, min_prediction_idx, min_prediction_length, max_prediction_length, static_categoricals, static_reals, time_varying_known_categoricals, time_varying_known_reals, time_varying_unknown_categoricals, time_varying_unknown_reals, variable_groups, dropout_categoricals, constant_fill_strategy, allow_missings, lags, add_relative_time_idx, add_target_scales, add_encoder_length, target_normalizer, categorical_encoders, scalers, randomize_length, predict_mode)\u001b[0m\n\u001b[1;32m    428\u001b[0m \u001b[0;34m\u001b[0m\u001b[0m\n\u001b[1;32m    429\u001b[0m         \u001b[0;31m# preprocess data\u001b[0m\u001b[0;34m\u001b[0m\u001b[0;34m\u001b[0m\u001b[0;34m\u001b[0m\u001b[0m\n\u001b[0;32m--> 430\u001b[0;31m         \u001b[0mdata\u001b[0m \u001b[0;34m=\u001b[0m \u001b[0mself\u001b[0m\u001b[0;34m.\u001b[0m\u001b[0m_preprocess_data\u001b[0m\u001b[0;34m(\u001b[0m\u001b[0mdata\u001b[0m\u001b[0;34m)\u001b[0m\u001b[0;34m\u001b[0m\u001b[0;34m\u001b[0m\u001b[0m\n\u001b[0m\u001b[1;32m    431\u001b[0m         \u001b[0;32mfor\u001b[0m \u001b[0mtarget\u001b[0m \u001b[0;32min\u001b[0m \u001b[0mself\u001b[0m\u001b[0;34m.\u001b[0m\u001b[0mtarget_names\u001b[0m\u001b[0;34m:\u001b[0m\u001b[0;34m\u001b[0m\u001b[0;34m\u001b[0m\u001b[0m\n\u001b[1;32m    432\u001b[0m             \u001b[0;32massert\u001b[0m \u001b[0mtarget\u001b[0m \u001b[0;32mnot\u001b[0m \u001b[0;32min\u001b[0m \u001b[0mself\u001b[0m\u001b[0;34m.\u001b[0m\u001b[0mscalers\u001b[0m\u001b[0;34m,\u001b[0m \u001b[0;34m\"Target normalizer is separate and not in scalers.\"\u001b[0m\u001b[0;34m\u001b[0m\u001b[0;34m\u001b[0m\u001b[0m\n",
            "\u001b[0;32m/usr/local/lib/python3.7/dist-packages/pytorch_forecasting/data/timeseries.py\u001b[0m in \u001b[0;36m_preprocess_data\u001b[0;34m(self, data)\u001b[0m\n\u001b[1;32m    732\u001b[0m \u001b[0;34m\u001b[0m\u001b[0m\n\u001b[1;32m    733\u001b[0m             \u001b[0;32melif\u001b[0m \u001b[0misinstance\u001b[0m\u001b[0;34m(\u001b[0m\u001b[0mself\u001b[0m\u001b[0;34m.\u001b[0m\u001b[0mtarget_normalizer\u001b[0m\u001b[0;34m,\u001b[0m \u001b[0mNaNLabelEncoder\u001b[0m\u001b[0;34m)\u001b[0m\u001b[0;34m:\u001b[0m\u001b[0;34m\u001b[0m\u001b[0;34m\u001b[0m\u001b[0m\n\u001b[0;32m--> 734\u001b[0;31m                 \u001b[0mdata\u001b[0m\u001b[0;34m[\u001b[0m\u001b[0mself\u001b[0m\u001b[0;34m.\u001b[0m\u001b[0mtarget\u001b[0m\u001b[0;34m]\u001b[0m \u001b[0;34m=\u001b[0m \u001b[0mself\u001b[0m\u001b[0;34m.\u001b[0m\u001b[0mtarget_normalizer\u001b[0m\u001b[0;34m.\u001b[0m\u001b[0mtransform\u001b[0m\u001b[0;34m(\u001b[0m\u001b[0mdata\u001b[0m\u001b[0;34m[\u001b[0m\u001b[0mself\u001b[0m\u001b[0;34m.\u001b[0m\u001b[0mtarget\u001b[0m\u001b[0;34m]\u001b[0m\u001b[0;34m)\u001b[0m\u001b[0;34m\u001b[0m\u001b[0;34m\u001b[0m\u001b[0m\n\u001b[0m\u001b[1;32m    735\u001b[0m                 \u001b[0;31m# overwrite target because it requires encoding (continuous targets should not be normalized)\u001b[0m\u001b[0;34m\u001b[0m\u001b[0;34m\u001b[0m\u001b[0;34m\u001b[0m\u001b[0m\n\u001b[1;32m    736\u001b[0m                 \u001b[0mdata\u001b[0m\u001b[0;34m[\u001b[0m\u001b[0;34mf\"__target__{self.target}\"\u001b[0m\u001b[0;34m]\u001b[0m \u001b[0;34m=\u001b[0m \u001b[0mdata\u001b[0m\u001b[0;34m[\u001b[0m\u001b[0mself\u001b[0m\u001b[0;34m.\u001b[0m\u001b[0mtarget\u001b[0m\u001b[0;34m]\u001b[0m\u001b[0;34m\u001b[0m\u001b[0;34m\u001b[0m\u001b[0m\n",
            "\u001b[0;32m/usr/local/lib/python3.7/dist-packages/pytorch_forecasting/data/encoders.py\u001b[0m in \u001b[0;36mtransform\u001b[0;34m(self, y, return_norm, target_scale, ignore_na)\u001b[0m\n\u001b[1;32m    133\u001b[0m                 \u001b[0;32mexcept\u001b[0m \u001b[0mKeyError\u001b[0m \u001b[0;32mas\u001b[0m \u001b[0me\u001b[0m\u001b[0;34m:\u001b[0m\u001b[0;34m\u001b[0m\u001b[0;34m\u001b[0m\u001b[0m\n\u001b[1;32m    134\u001b[0m                     raise KeyError(\n\u001b[0;32m--> 135\u001b[0;31m                         \u001b[0;34mf\"Unknown category '{e.args[0]}' encountered. Set `add_nan=True` to allow unknown categories\"\u001b[0m\u001b[0;34m\u001b[0m\u001b[0;34m\u001b[0m\u001b[0m\n\u001b[0m\u001b[1;32m    136\u001b[0m                     )\n\u001b[1;32m    137\u001b[0m \u001b[0;34m\u001b[0m\u001b[0m\n",
            "\u001b[0;31mKeyError\u001b[0m: \"Unknown category '6057' encountered. Set `add_nan=True` to allow unknown categories\""
          ]
        }
      ]
    }
  ]
}